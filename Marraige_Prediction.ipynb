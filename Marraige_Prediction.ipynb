{
  "nbformat": 4,
  "nbformat_minor": 0,
  "metadata": {
    "colab": {
      "name": "Marraige Prediction.ipynb",
      "provenance": [],
      "include_colab_link": true
    },
    "kernelspec": {
      "name": "python3",
      "display_name": "Python 3"
    },
    "language_info": {
      "name": "python"
    }
  },
  "cells": [
    {
      "cell_type": "markdown",
      "metadata": {
        "id": "view-in-github",
        "colab_type": "text"
      },
      "source": [
        "<a href=\"https://colab.research.google.com/github/habib671/marraige-prediction-of-student-using-machine-learning-/blob/main/Marraige_Prediction.ipynb\" target=\"_parent\"><img src=\"https://colab.research.google.com/assets/colab-badge.svg\" alt=\"Open In Colab\"/></a>"
      ]
    },
    {
      "cell_type": "markdown",
      "metadata": {
        "id": "xqLuLcMHIevM"
      },
      "source": [
        "#**A prediction of marriage probability in student life in Bangladesh **"
      ]
    },
    {
      "cell_type": "markdown",
      "metadata": {
        "id": "FhT7uJjZhTGe"
      },
      "source": [
        "#**Mount the drive and read the Dataset**"
      ]
    },
    {
      "cell_type": "code",
      "metadata": {
        "colab": {
          "base_uri": "https://localhost:8080/"
        },
        "id": "gIuSqS0lhXBl",
        "outputId": "eaec226e-7ed7-40a6-87a4-80f1e471e6ee"
      },
      "source": [
        "from google.colab import drive\n",
        "drive.mount('/content/gdrive')"
      ],
      "execution_count": null,
      "outputs": [
        {
          "output_type": "stream",
          "text": [
            "Mounted at /content/gdrive\n"
          ],
          "name": "stdout"
        }
      ]
    },
    {
      "cell_type": "code",
      "metadata": {
        "id": "AEaKTRhGhayF"
      },
      "source": [
        "import pandas as pd"
      ],
      "execution_count": null,
      "outputs": []
    },
    {
      "cell_type": "code",
      "metadata": {
        "id": "DmTy3VwrhgTm"
      },
      "source": [
        "\n",
        "\n",
        "\n",
        "\n",
        "\n",
        "train = pd.read_csv('gdrive/My Drive/AI Project/dataset.csv')"
      ],
      "execution_count": null,
      "outputs": []
    },
    {
      "cell_type": "code",
      "metadata": {
        "id": "BQBmQxyghptl",
        "colab": {
          "base_uri": "https://localhost:8080/",
          "height": 649
        },
        "outputId": "075363de-b156-4e0f-b7d5-56bf3416272d"
      },
      "source": [
        "train.head()"
      ],
      "execution_count": null,
      "outputs": [
        {
          "output_type": "execute_result",
          "data": {
            "text/html": [
              "<div>\n",
              "<style scoped>\n",
              "    .dataframe tbody tr th:only-of-type {\n",
              "        vertical-align: middle;\n",
              "    }\n",
              "\n",
              "    .dataframe tbody tr th {\n",
              "        vertical-align: top;\n",
              "    }\n",
              "\n",
              "    .dataframe thead th {\n",
              "        text-align: right;\n",
              "    }\n",
              "</style>\n",
              "<table border=\"1\" class=\"dataframe\">\n",
              "  <thead>\n",
              "    <tr style=\"text-align: right;\">\n",
              "      <th></th>\n",
              "      <th>Timestamp</th>\n",
              "      <th>বয়স :</th>\n",
              "      <th>লিঙ্গ :</th>\n",
              "      <th>ধর্ম :</th>\n",
              "      <th>ইসলামের দৃষ্টিকোণ অনুযায়ী সামর্থ্য থাকলে যত দ্রুত সম্ভব বিয়ে করে নেয়া উচিত। এর সাথে আপনি কতটুকু সহমত?</th>\n",
              "      <th>আপনি পড়াশুনার কোন পর্যায়ে আছেন?</th>\n",
              "      <th>আপনি কি মাদ্রাসায় পড়াশুনা করেছেন?</th>\n",
              "      <th>আপনার মতে কোনটা আগে?</th>\n",
              "      <th>আপনার বর্তমান আয়ের উৎস কি?</th>\n",
              "      <th>আপনার পরিবারের আয়ের উৎস কি?</th>\n",
              "      <th>আপনার পারিবারিক অবস্থা কি?</th>\n",
              "      <th>আপনি কি যৌথ পরিবারের সদস্য?</th>\n",
              "      <th>আপনার পরিবারের সদস্য সংখ্যা কত?</th>\n",
              "      <th>আপনার বাবা-মা উভয়ই আছেন?</th>\n",
              "      <th>আপনার ভাই-বোন কয় জন?</th>\n",
              "      <th>আপনার ভাই-বোন দের মধ্যে আপনি কত তম ?</th>\n",
              "      <th>আপনার ভাই-বোন এর মধ্যে কয়জন এর বিয়ে হয়েছে?</th>\n",
              "      <th>আপনার বন্ধু-বান্ধবদের মধ্যে কত শতাংশের বিয়ে হয়েছে?</th>\n",
              "      <th>পূর্বে কারো সাথে রিলেশন এ ছিলেন কি?</th>\n",
              "      <th>আপনার বৈবাহিক অবস্থা কি?</th>\n",
              "      <th>আপনি কখন বিয়ে করতে ইচ্ছুক</th>\n",
              "      <th>পরিবার থেকে আপনাকে এই পর্যায়ে বিয়ে দিতে ইচ্ছুক কি না?</th>\n",
              "      <th>আপনি কি রিলেশনশিপ এ আছেন?</th>\n",
              "      <th>যদি রিলেশনশিপ এ থাকেন, পরিবারে তার কথা জানালে বিয়েতে রাজি হবে কি না?</th>\n",
              "      <th>আপনি কত বছর আগে বিয়ে করেছেন?</th>\n",
              "      <th>এরেঞ্জ ম্যারেজ নাকি লাভ ম্যারেজ?</th>\n",
              "      <th>লাভ ম্যারেজ হলে পরিবার থেকে কোন প্রতিবন্ধিকতা ছিল কি না?</th>\n",
              "    </tr>\n",
              "  </thead>\n",
              "  <tbody>\n",
              "    <tr>\n",
              "      <th>0</th>\n",
              "      <td>3/4/2021 1:43:42</td>\n",
              "      <td>25.0</td>\n",
              "      <td>পুরুষ</td>\n",
              "      <td>ইসলাম</td>\n",
              "      <td>3</td>\n",
              "      <td>বিশ্ববিদ্যালয়</td>\n",
              "      <td>না</td>\n",
              "      <td>বিয়ে</td>\n",
              "      <td>বাপের হোটেল</td>\n",
              "      <td>সরকারি চাকরি</td>\n",
              "      <td>মধ্যবিত্ত</td>\n",
              "      <td>না</td>\n",
              "      <td>4</td>\n",
              "      <td>হ্যাঁ, আছেন</td>\n",
              "      <td>2</td>\n",
              "      <td>2</td>\n",
              "      <td>2</td>\n",
              "      <td>90%</td>\n",
              "      <td>হ্যাঁ</td>\n",
              "      <td>অবিবাহিত</td>\n",
              "      <td>এই পর্যায়েই</td>\n",
              "      <td>হ্যাঁ</td>\n",
              "      <td>হ্যাঁ</td>\n",
              "      <td>উভয় পরিবার জানে এবং রাজি</td>\n",
              "      <td>NaN</td>\n",
              "      <td>NaN</td>\n",
              "      <td>NaN</td>\n",
              "    </tr>\n",
              "    <tr>\n",
              "      <th>1</th>\n",
              "      <td>3/4/2021 1:45:25</td>\n",
              "      <td>22.0</td>\n",
              "      <td>পুরুষ</td>\n",
              "      <td>ইসলাম</td>\n",
              "      <td>3</td>\n",
              "      <td>কলেজ</td>\n",
              "      <td>না</td>\n",
              "      <td>ক্যারিয়ার</td>\n",
              "      <td>ফ্রিল্যান্সিং</td>\n",
              "      <td>বেসরকারি চাকরি</td>\n",
              "      <td>মধ্যবিত্ত</td>\n",
              "      <td>হ্যাঁ</td>\n",
              "      <td>3</td>\n",
              "      <td>হ্যাঁ, আছেন</td>\n",
              "      <td>3</td>\n",
              "      <td>2</td>\n",
              "      <td>1</td>\n",
              "      <td>50%</td>\n",
              "      <td>না</td>\n",
              "      <td>অবিবাহিত</td>\n",
              "      <td>চাকরি পাওয়ার পর</td>\n",
              "      <td>হ্যাঁ</td>\n",
              "      <td>না</td>\n",
              "      <td>কোনভাবেই রাজি হবে না</td>\n",
              "      <td>NaN</td>\n",
              "      <td>NaN</td>\n",
              "      <td>NaN</td>\n",
              "    </tr>\n",
              "    <tr>\n",
              "      <th>2</th>\n",
              "      <td>3/4/2021 2:04:13</td>\n",
              "      <td>22.0</td>\n",
              "      <td>মহিলা</td>\n",
              "      <td>ইসলাম</td>\n",
              "      <td>3</td>\n",
              "      <td>মেডিকেল</td>\n",
              "      <td>না</td>\n",
              "      <td>বিয়ে</td>\n",
              "      <td>চাকরি</td>\n",
              "      <td>সরকারি চাকরি</td>\n",
              "      <td>উচ্চ মধ্যবিত্ত</td>\n",
              "      <td>হ্যাঁ</td>\n",
              "      <td>4</td>\n",
              "      <td>হ্যাঁ, আছেন</td>\n",
              "      <td>2</td>\n",
              "      <td>4</td>\n",
              "      <td>3</td>\n",
              "      <td>70%</td>\n",
              "      <td>হ্যাঁ</td>\n",
              "      <td>বিবাহিত</td>\n",
              "      <td>NaN</td>\n",
              "      <td>NaN</td>\n",
              "      <td>NaN</td>\n",
              "      <td>NaN</td>\n",
              "      <td>1.0</td>\n",
              "      <td>লাভ ❤</td>\n",
              "      <td>ছিল, মানিয়ে নিয়েছি 😁</td>\n",
              "    </tr>\n",
              "    <tr>\n",
              "      <th>3</th>\n",
              "      <td>3/4/2021 2:53:20</td>\n",
              "      <td>23.0</td>\n",
              "      <td>পুরুষ</td>\n",
              "      <td>ইসলাম</td>\n",
              "      <td>3</td>\n",
              "      <td>বিশ্ববিদ্যালয়</td>\n",
              "      <td>না</td>\n",
              "      <td>বিয়ে</td>\n",
              "      <td>বাপের হোটেল</td>\n",
              "      <td>কোন আয়ের উৎস নেই</td>\n",
              "      <td>মধ্যবিত্ত</td>\n",
              "      <td>না</td>\n",
              "      <td>6</td>\n",
              "      <td>বাবা নেই</td>\n",
              "      <td>3</td>\n",
              "      <td>1</td>\n",
              "      <td>1</td>\n",
              "      <td>20%</td>\n",
              "      <td>হ্যাঁ</td>\n",
              "      <td>বিধবা / বিপত্নীক</td>\n",
              "      <td>৩ বছর এর মধ্যে</td>\n",
              "      <td>না</td>\n",
              "      <td>না</td>\n",
              "      <td>কোন রিলেশন নেই, এরেঞ্জ ম্যারেজ করার ইচ্ছা</td>\n",
              "      <td>1.0</td>\n",
              "      <td>লাভ ❤</td>\n",
              "      <td>NaN</td>\n",
              "    </tr>\n",
              "    <tr>\n",
              "      <th>4</th>\n",
              "      <td>3/17/2021 17:57:37</td>\n",
              "      <td>23.0</td>\n",
              "      <td>পুরুষ</td>\n",
              "      <td>ইসলাম</td>\n",
              "      <td>3</td>\n",
              "      <td>অনার্স</td>\n",
              "      <td>না</td>\n",
              "      <td>বিয়ে</td>\n",
              "      <td>বাপের হোটেল</td>\n",
              "      <td>কোন আয়ের উৎস নেই</td>\n",
              "      <td>মধ্যবিত্ত</td>\n",
              "      <td>না</td>\n",
              "      <td>4</td>\n",
              "      <td>মা নেই</td>\n",
              "      <td>2</td>\n",
              "      <td>2</td>\n",
              "      <td>1</td>\n",
              "      <td>50%</td>\n",
              "      <td>হ্যাঁ</td>\n",
              "      <td>অবিবাহিত</td>\n",
              "      <td>এই পর্যায়েই</td>\n",
              "      <td>হ্যাঁ</td>\n",
              "      <td>হ্যাঁ</td>\n",
              "      <td>কোনভাবেই রাজি হবে না</td>\n",
              "      <td>NaN</td>\n",
              "      <td>NaN</td>\n",
              "      <td>NaN</td>\n",
              "    </tr>\n",
              "  </tbody>\n",
              "</table>\n",
              "</div>"
            ],
            "text/plain": [
              "            Timestamp  ...  লাভ ম্যারেজ হলে পরিবার থেকে কোন প্রতিবন্ধিকতা ছিল কি না?\n",
              "0    3/4/2021 1:43:42  ...                                                NaN       \n",
              "1    3/4/2021 1:45:25  ...                                                NaN       \n",
              "2    3/4/2021 2:04:13  ...                               ছিল, মানিয়ে নিয়েছি 😁       \n",
              "3    3/4/2021 2:53:20  ...                                                NaN       \n",
              "4  3/17/2021 17:57:37  ...                                                NaN       \n",
              "\n",
              "[5 rows x 27 columns]"
            ]
          },
          "metadata": {
            "tags": []
          },
          "execution_count": 6
        }
      ]
    },
    {
      "cell_type": "markdown",
      "metadata": {
        "id": "AlJ1NX5MiCTD"
      },
      "source": [
        "**Replacing all empty values(NaN) with Zero(0)**"
      ]
    },
    {
      "cell_type": "code",
      "metadata": {
        "id": "gAljas1piIz-",
        "colab": {
          "base_uri": "https://localhost:8080/",
          "height": 1000
        },
        "outputId": "e5b842ff-42a2-47e1-e3fc-88cd3f513756"
      },
      "source": [
        "train.fillna(0)"
      ],
      "execution_count": null,
      "outputs": [
        {
          "output_type": "execute_result",
          "data": {
            "text/html": [
              "<div>\n",
              "<style scoped>\n",
              "    .dataframe tbody tr th:only-of-type {\n",
              "        vertical-align: middle;\n",
              "    }\n",
              "\n",
              "    .dataframe tbody tr th {\n",
              "        vertical-align: top;\n",
              "    }\n",
              "\n",
              "    .dataframe thead th {\n",
              "        text-align: right;\n",
              "    }\n",
              "</style>\n",
              "<table border=\"1\" class=\"dataframe\">\n",
              "  <thead>\n",
              "    <tr style=\"text-align: right;\">\n",
              "      <th></th>\n",
              "      <th>Timestamp</th>\n",
              "      <th>বয়স :</th>\n",
              "      <th>লিঙ্গ :</th>\n",
              "      <th>ধর্ম :</th>\n",
              "      <th>ইসলামের দৃষ্টিকোণ অনুযায়ী সামর্থ্য থাকলে যত দ্রুত সম্ভব বিয়ে করে নেয়া উচিত। এর সাথে আপনি কতটুকু সহমত?</th>\n",
              "      <th>আপনি পড়াশুনার কোন পর্যায়ে আছেন?</th>\n",
              "      <th>আপনি কি মাদ্রাসায় পড়াশুনা করেছেন?</th>\n",
              "      <th>আপনার মতে কোনটা আগে?</th>\n",
              "      <th>আপনার বর্তমান আয়ের উৎস কি?</th>\n",
              "      <th>আপনার পরিবারের আয়ের উৎস কি?</th>\n",
              "      <th>আপনার পারিবারিক অবস্থা কি?</th>\n",
              "      <th>আপনি কি যৌথ পরিবারের সদস্য?</th>\n",
              "      <th>আপনার পরিবারের সদস্য সংখ্যা কত?</th>\n",
              "      <th>আপনার বাবা-মা উভয়ই আছেন?</th>\n",
              "      <th>আপনার ভাই-বোন কয় জন?</th>\n",
              "      <th>আপনার ভাই-বোন দের মধ্যে আপনি কত তম ?</th>\n",
              "      <th>আপনার ভাই-বোন এর মধ্যে কয়জন এর বিয়ে হয়েছে?</th>\n",
              "      <th>আপনার বন্ধু-বান্ধবদের মধ্যে কত শতাংশের বিয়ে হয়েছে?</th>\n",
              "      <th>পূর্বে কারো সাথে রিলেশন এ ছিলেন কি?</th>\n",
              "      <th>আপনার বৈবাহিক অবস্থা কি?</th>\n",
              "      <th>আপনি কখন বিয়ে করতে ইচ্ছুক</th>\n",
              "      <th>পরিবার থেকে আপনাকে এই পর্যায়ে বিয়ে দিতে ইচ্ছুক কি না?</th>\n",
              "      <th>আপনি কি রিলেশনশিপ এ আছেন?</th>\n",
              "      <th>যদি রিলেশনশিপ এ থাকেন, পরিবারে তার কথা জানালে বিয়েতে রাজি হবে কি না?</th>\n",
              "      <th>আপনি কত বছর আগে বিয়ে করেছেন?</th>\n",
              "      <th>এরেঞ্জ ম্যারেজ নাকি লাভ ম্যারেজ?</th>\n",
              "      <th>লাভ ম্যারেজ হলে পরিবার থেকে কোন প্রতিবন্ধিকতা ছিল কি না?</th>\n",
              "    </tr>\n",
              "  </thead>\n",
              "  <tbody>\n",
              "    <tr>\n",
              "      <th>0</th>\n",
              "      <td>3/4/2021 1:43:42</td>\n",
              "      <td>25.0</td>\n",
              "      <td>পুরুষ</td>\n",
              "      <td>ইসলাম</td>\n",
              "      <td>3</td>\n",
              "      <td>বিশ্ববিদ্যালয়</td>\n",
              "      <td>না</td>\n",
              "      <td>বিয়ে</td>\n",
              "      <td>বাপের হোটেল</td>\n",
              "      <td>সরকারি চাকরি</td>\n",
              "      <td>মধ্যবিত্ত</td>\n",
              "      <td>না</td>\n",
              "      <td>4</td>\n",
              "      <td>হ্যাঁ, আছেন</td>\n",
              "      <td>2</td>\n",
              "      <td>2</td>\n",
              "      <td>2</td>\n",
              "      <td>90%</td>\n",
              "      <td>হ্যাঁ</td>\n",
              "      <td>অবিবাহিত</td>\n",
              "      <td>এই পর্যায়েই</td>\n",
              "      <td>হ্যাঁ</td>\n",
              "      <td>হ্যাঁ</td>\n",
              "      <td>উভয় পরিবার জানে এবং রাজি</td>\n",
              "      <td>0.0</td>\n",
              "      <td>0</td>\n",
              "      <td>0</td>\n",
              "    </tr>\n",
              "    <tr>\n",
              "      <th>1</th>\n",
              "      <td>3/4/2021 1:45:25</td>\n",
              "      <td>22.0</td>\n",
              "      <td>পুরুষ</td>\n",
              "      <td>ইসলাম</td>\n",
              "      <td>3</td>\n",
              "      <td>কলেজ</td>\n",
              "      <td>না</td>\n",
              "      <td>ক্যারিয়ার</td>\n",
              "      <td>ফ্রিল্যান্সিং</td>\n",
              "      <td>বেসরকারি চাকরি</td>\n",
              "      <td>মধ্যবিত্ত</td>\n",
              "      <td>হ্যাঁ</td>\n",
              "      <td>3</td>\n",
              "      <td>হ্যাঁ, আছেন</td>\n",
              "      <td>3</td>\n",
              "      <td>2</td>\n",
              "      <td>1</td>\n",
              "      <td>50%</td>\n",
              "      <td>না</td>\n",
              "      <td>অবিবাহিত</td>\n",
              "      <td>চাকরি পাওয়ার পর</td>\n",
              "      <td>হ্যাঁ</td>\n",
              "      <td>না</td>\n",
              "      <td>কোনভাবেই রাজি হবে না</td>\n",
              "      <td>0.0</td>\n",
              "      <td>0</td>\n",
              "      <td>0</td>\n",
              "    </tr>\n",
              "    <tr>\n",
              "      <th>2</th>\n",
              "      <td>3/4/2021 2:04:13</td>\n",
              "      <td>22.0</td>\n",
              "      <td>মহিলা</td>\n",
              "      <td>ইসলাম</td>\n",
              "      <td>3</td>\n",
              "      <td>মেডিকেল</td>\n",
              "      <td>না</td>\n",
              "      <td>বিয়ে</td>\n",
              "      <td>চাকরি</td>\n",
              "      <td>সরকারি চাকরি</td>\n",
              "      <td>উচ্চ মধ্যবিত্ত</td>\n",
              "      <td>হ্যাঁ</td>\n",
              "      <td>4</td>\n",
              "      <td>হ্যাঁ, আছেন</td>\n",
              "      <td>2</td>\n",
              "      <td>4</td>\n",
              "      <td>3</td>\n",
              "      <td>70%</td>\n",
              "      <td>হ্যাঁ</td>\n",
              "      <td>বিবাহিত</td>\n",
              "      <td>0</td>\n",
              "      <td>0</td>\n",
              "      <td>0</td>\n",
              "      <td>0</td>\n",
              "      <td>1.0</td>\n",
              "      <td>লাভ ❤</td>\n",
              "      <td>ছিল, মানিয়ে নিয়েছি 😁</td>\n",
              "    </tr>\n",
              "    <tr>\n",
              "      <th>3</th>\n",
              "      <td>3/4/2021 2:53:20</td>\n",
              "      <td>23.0</td>\n",
              "      <td>পুরুষ</td>\n",
              "      <td>ইসলাম</td>\n",
              "      <td>3</td>\n",
              "      <td>বিশ্ববিদ্যালয়</td>\n",
              "      <td>না</td>\n",
              "      <td>বিয়ে</td>\n",
              "      <td>বাপের হোটেল</td>\n",
              "      <td>কোন আয়ের উৎস নেই</td>\n",
              "      <td>মধ্যবিত্ত</td>\n",
              "      <td>না</td>\n",
              "      <td>6</td>\n",
              "      <td>বাবা নেই</td>\n",
              "      <td>3</td>\n",
              "      <td>1</td>\n",
              "      <td>1</td>\n",
              "      <td>20%</td>\n",
              "      <td>হ্যাঁ</td>\n",
              "      <td>বিধবা / বিপত্নীক</td>\n",
              "      <td>৩ বছর এর মধ্যে</td>\n",
              "      <td>না</td>\n",
              "      <td>না</td>\n",
              "      <td>কোন রিলেশন নেই, এরেঞ্জ ম্যারেজ করার ইচ্ছা</td>\n",
              "      <td>1.0</td>\n",
              "      <td>লাভ ❤</td>\n",
              "      <td>0</td>\n",
              "    </tr>\n",
              "    <tr>\n",
              "      <th>4</th>\n",
              "      <td>3/17/2021 17:57:37</td>\n",
              "      <td>23.0</td>\n",
              "      <td>পুরুষ</td>\n",
              "      <td>ইসলাম</td>\n",
              "      <td>3</td>\n",
              "      <td>অনার্স</td>\n",
              "      <td>না</td>\n",
              "      <td>বিয়ে</td>\n",
              "      <td>বাপের হোটেল</td>\n",
              "      <td>কোন আয়ের উৎস নেই</td>\n",
              "      <td>মধ্যবিত্ত</td>\n",
              "      <td>না</td>\n",
              "      <td>4</td>\n",
              "      <td>মা নেই</td>\n",
              "      <td>2</td>\n",
              "      <td>2</td>\n",
              "      <td>1</td>\n",
              "      <td>50%</td>\n",
              "      <td>হ্যাঁ</td>\n",
              "      <td>অবিবাহিত</td>\n",
              "      <td>এই পর্যায়েই</td>\n",
              "      <td>হ্যাঁ</td>\n",
              "      <td>হ্যাঁ</td>\n",
              "      <td>কোনভাবেই রাজি হবে না</td>\n",
              "      <td>0.0</td>\n",
              "      <td>0</td>\n",
              "      <td>0</td>\n",
              "    </tr>\n",
              "    <tr>\n",
              "      <th>...</th>\n",
              "      <td>...</td>\n",
              "      <td>...</td>\n",
              "      <td>...</td>\n",
              "      <td>...</td>\n",
              "      <td>...</td>\n",
              "      <td>...</td>\n",
              "      <td>...</td>\n",
              "      <td>...</td>\n",
              "      <td>...</td>\n",
              "      <td>...</td>\n",
              "      <td>...</td>\n",
              "      <td>...</td>\n",
              "      <td>...</td>\n",
              "      <td>...</td>\n",
              "      <td>...</td>\n",
              "      <td>...</td>\n",
              "      <td>...</td>\n",
              "      <td>...</td>\n",
              "      <td>...</td>\n",
              "      <td>...</td>\n",
              "      <td>...</td>\n",
              "      <td>...</td>\n",
              "      <td>...</td>\n",
              "      <td>...</td>\n",
              "      <td>...</td>\n",
              "      <td>...</td>\n",
              "      <td>...</td>\n",
              "    </tr>\n",
              "    <tr>\n",
              "      <th>262</th>\n",
              "      <td>4/1/2021 12:29:15</td>\n",
              "      <td>22.0</td>\n",
              "      <td>পুরুষ</td>\n",
              "      <td>ইসলাম</td>\n",
              "      <td>3</td>\n",
              "      <td>অনার্স</td>\n",
              "      <td>না</td>\n",
              "      <td>ক্যারিয়ার</td>\n",
              "      <td>বাপের হোটেল</td>\n",
              "      <td>বেসরকারি চাকরি</td>\n",
              "      <td>মধ্যবিত্ত</td>\n",
              "      <td>না</td>\n",
              "      <td>5</td>\n",
              "      <td>হ্যাঁ, আছেন</td>\n",
              "      <td>2</td>\n",
              "      <td>1</td>\n",
              "      <td>0</td>\n",
              "      <td>40%</td>\n",
              "      <td>হ্যাঁ</td>\n",
              "      <td>অবিবাহিত</td>\n",
              "      <td>যেকোনো আয়ের উৎস করার পর</td>\n",
              "      <td>না</td>\n",
              "      <td>না</td>\n",
              "      <td>মনাতে পারব</td>\n",
              "      <td>0.0</td>\n",
              "      <td>0</td>\n",
              "      <td>0</td>\n",
              "    </tr>\n",
              "    <tr>\n",
              "      <th>263</th>\n",
              "      <td>4/1/2021 13:21:28</td>\n",
              "      <td>23.0</td>\n",
              "      <td>মহিলা</td>\n",
              "      <td>ইসলাম</td>\n",
              "      <td>3</td>\n",
              "      <td>অনার্স</td>\n",
              "      <td>না</td>\n",
              "      <td>ক্যারিয়ার</td>\n",
              "      <td>বাপের হোটেল</td>\n",
              "      <td>সরকারি চাকরি</td>\n",
              "      <td>মধ্যবিত্ত</td>\n",
              "      <td>হ্যাঁ</td>\n",
              "      <td>5</td>\n",
              "      <td>হ্যাঁ, আছেন</td>\n",
              "      <td>3</td>\n",
              "      <td>3</td>\n",
              "      <td>0</td>\n",
              "      <td>10%</td>\n",
              "      <td>হ্যাঁ</td>\n",
              "      <td>অবিবাহিত</td>\n",
              "      <td>৩ বছর এর মধ্যে</td>\n",
              "      <td>হ্যাঁ</td>\n",
              "      <td>হ্যাঁ</td>\n",
              "      <td>সহজেই রাজি হবে</td>\n",
              "      <td>0.0</td>\n",
              "      <td>0</td>\n",
              "      <td>0</td>\n",
              "    </tr>\n",
              "    <tr>\n",
              "      <th>264</th>\n",
              "      <td>4/1/2021 14:21:55</td>\n",
              "      <td>23.0</td>\n",
              "      <td>মহিলা</td>\n",
              "      <td>ইসলাম</td>\n",
              "      <td>3</td>\n",
              "      <td>অনার্স</td>\n",
              "      <td>না</td>\n",
              "      <td>ক্যারিয়ার</td>\n",
              "      <td>বাপের হোটেল</td>\n",
              "      <td>বেসরকারি চাকরি</td>\n",
              "      <td>নিম্ন মধ্যবিত্ত</td>\n",
              "      <td>হ্যাঁ</td>\n",
              "      <td>5</td>\n",
              "      <td>হ্যাঁ, আছেন</td>\n",
              "      <td>3</td>\n",
              "      <td>3</td>\n",
              "      <td>1</td>\n",
              "      <td>10%</td>\n",
              "      <td>হ্যাঁ</td>\n",
              "      <td>অবিবাহিত</td>\n",
              "      <td>এই পর্যায়েই</td>\n",
              "      <td>না</td>\n",
              "      <td>হ্যাঁ</td>\n",
              "      <td>রাজি হবে না, পালিয়ে বিয়ে করতে ইচ্ছুক</td>\n",
              "      <td>0.0</td>\n",
              "      <td>0</td>\n",
              "      <td>0</td>\n",
              "    </tr>\n",
              "    <tr>\n",
              "      <th>265</th>\n",
              "      <td>4/1/2021 18:33:14</td>\n",
              "      <td>19.0</td>\n",
              "      <td>মহিলা</td>\n",
              "      <td>ইসলাম</td>\n",
              "      <td>3</td>\n",
              "      <td>কলেজ</td>\n",
              "      <td>না</td>\n",
              "      <td>বিয়ে</td>\n",
              "      <td>বাপের হোটেল</td>\n",
              "      <td>কোন আয়ের উৎস নেই</td>\n",
              "      <td>মধ্যবিত্ত</td>\n",
              "      <td>না</td>\n",
              "      <td>5</td>\n",
              "      <td>বাবা নেই</td>\n",
              "      <td>1</td>\n",
              "      <td>1</td>\n",
              "      <td>0</td>\n",
              "      <td>40%</td>\n",
              "      <td>হ্যাঁ</td>\n",
              "      <td>তালাকপ্রাপ্ত</td>\n",
              "      <td>0</td>\n",
              "      <td>0</td>\n",
              "      <td>0</td>\n",
              "      <td>0</td>\n",
              "      <td>2.0</td>\n",
              "      <td>এরেঞ্জ</td>\n",
              "      <td>0</td>\n",
              "    </tr>\n",
              "    <tr>\n",
              "      <th>266</th>\n",
              "      <td>4/4/2021 19:06:59</td>\n",
              "      <td>22.0</td>\n",
              "      <td>পুরুষ</td>\n",
              "      <td>ইসলাম</td>\n",
              "      <td>3</td>\n",
              "      <td>অনার্স</td>\n",
              "      <td>না</td>\n",
              "      <td>ক্যারিয়ার</td>\n",
              "      <td>বাপের হোটেল</td>\n",
              "      <td>কৃষি</td>\n",
              "      <td>মধ্যবিত্ত</td>\n",
              "      <td>না</td>\n",
              "      <td>3</td>\n",
              "      <td>হ্যাঁ, আছেন</td>\n",
              "      <td>2</td>\n",
              "      <td>2</td>\n",
              "      <td>1</td>\n",
              "      <td>40%</td>\n",
              "      <td>না</td>\n",
              "      <td>অবিবাহিত</td>\n",
              "      <td>যেকোনো আয়ের উৎস করার পর</td>\n",
              "      <td>না</td>\n",
              "      <td>না</td>\n",
              "      <td>বিয়ে/রিলেশন নিয়ে কোন মাথা ব্যাথা নেই</td>\n",
              "      <td>0.0</td>\n",
              "      <td>0</td>\n",
              "      <td>0</td>\n",
              "    </tr>\n",
              "  </tbody>\n",
              "</table>\n",
              "<p>267 rows × 27 columns</p>\n",
              "</div>"
            ],
            "text/plain": [
              "              Timestamp  ...  লাভ ম্যারেজ হলে পরিবার থেকে কোন প্রতিবন্ধিকতা ছিল কি না?\n",
              "0      3/4/2021 1:43:42  ...                                                  0       \n",
              "1      3/4/2021 1:45:25  ...                                                  0       \n",
              "2      3/4/2021 2:04:13  ...                               ছিল, মানিয়ে নিয়েছি 😁       \n",
              "3      3/4/2021 2:53:20  ...                                                  0       \n",
              "4    3/17/2021 17:57:37  ...                                                  0       \n",
              "..                  ...  ...                                                ...       \n",
              "262   4/1/2021 12:29:15  ...                                                  0       \n",
              "263   4/1/2021 13:21:28  ...                                                  0       \n",
              "264   4/1/2021 14:21:55  ...                                                  0       \n",
              "265   4/1/2021 18:33:14  ...                                                  0       \n",
              "266   4/4/2021 19:06:59  ...                                                  0       \n",
              "\n",
              "[267 rows x 27 columns]"
            ]
          },
          "metadata": {
            "tags": []
          },
          "execution_count": 7
        }
      ]
    },
    {
      "cell_type": "markdown",
      "metadata": {
        "id": "kWU8ZeVuiPyt"
      },
      "source": [
        "**Number of columns and rows using .shape**"
      ]
    },
    {
      "cell_type": "code",
      "metadata": {
        "colab": {
          "base_uri": "https://localhost:8080/"
        },
        "id": "kgJ_StZNibHd",
        "outputId": "18eb5c83-41bf-4bf7-9197-bbae9bb2846f"
      },
      "source": [
        "train.shape"
      ],
      "execution_count": null,
      "outputs": [
        {
          "output_type": "execute_result",
          "data": {
            "text/plain": [
              "(267, 27)"
            ]
          },
          "metadata": {
            "tags": []
          },
          "execution_count": 8
        }
      ]
    },
    {
      "cell_type": "markdown",
      "metadata": {
        "id": "r8ZMfCZBidkG"
      },
      "source": [
        "**All the information from our Dataset using .info()**"
      ]
    },
    {
      "cell_type": "code",
      "metadata": {
        "id": "TIYLVOroikuG",
        "colab": {
          "base_uri": "https://localhost:8080/"
        },
        "outputId": "fc9ffaaf-22e6-4d37-d584-5ac782369f4b"
      },
      "source": [
        "train.info()"
      ],
      "execution_count": null,
      "outputs": [
        {
          "output_type": "stream",
          "text": [
            "<class 'pandas.core.frame.DataFrame'>\n",
            "RangeIndex: 267 entries, 0 to 266\n",
            "Data columns (total 27 columns):\n",
            " #   Column                                                                                                 Non-Null Count  Dtype  \n",
            "---  ------                                                                                                 --------------  -----  \n",
            " 0   Timestamp                                                                                              267 non-null    object \n",
            " 1   বয়স :                                                                                                  267 non-null    float64\n",
            " 2   লিঙ্গ :                                                                                                267 non-null    object \n",
            " 3   ধর্ম :                                                                                                 267 non-null    object \n",
            " 4   ইসলামের দৃষ্টিকোণ অনুযায়ী সামর্থ্য থাকলে যত দ্রুত সম্ভব বিয়ে করে নেয়া উচিত। এর সাথে আপনি কতটুকু সহমত?  267 non-null    int64  \n",
            " 5   আপনি পড়াশুনার কোন পর্যায়ে আছেন?                                                                        267 non-null    object \n",
            " 6   আপনি কি মাদ্রাসায় পড়াশুনা করেছেন?                                                                      267 non-null    object \n",
            " 7   আপনার মতে কোনটা আগে?                                                                                   267 non-null    object \n",
            " 8   আপনার বর্তমান আয়ের উৎস কি?                                                                             267 non-null    object \n",
            " 9   আপনার পরিবারের আয়ের উৎস কি?                                                                            267 non-null    object \n",
            " 10  আপনার পারিবারিক অবস্থা কি?                                                                             267 non-null    object \n",
            " 11  আপনি কি যৌথ পরিবারের সদস্য?                                                                            267 non-null    object \n",
            " 12  আপনার পরিবারের সদস্য সংখ্যা কত?                                                                        267 non-null    int64  \n",
            " 13  আপনার বাবা-মা উভয়ই আছেন?                                                                               267 non-null    object \n",
            " 14  আপনার ভাই-বোন কয় জন?                                                                                   267 non-null    int64  \n",
            " 15  আপনার ভাই-বোন দের মধ্যে আপনি কত তম ?                                                                   267 non-null    int64  \n",
            " 16  আপনার ভাই-বোন এর মধ্যে কয়জন এর বিয়ে হয়েছে?                                                             267 non-null    int64  \n",
            " 17  আপনার বন্ধু-বান্ধবদের মধ্যে কত শতাংশের বিয়ে হয়েছে?                                                     267 non-null    object \n",
            " 18  পূর্বে কারো সাথে রিলেশন এ ছিলেন কি?                                                                    267 non-null    object \n",
            " 19  আপনার বৈবাহিক অবস্থা কি?                                                                               267 non-null    object \n",
            " 20  আপনি কখন বিয়ে করতে ইচ্ছুক                                                                              235 non-null    object \n",
            " 21  পরিবার থেকে আপনাকে এই পর্যায়ে বিয়ে দিতে ইচ্ছুক কি না?                                                  235 non-null    object \n",
            " 22  আপনি কি রিলেশনশিপ এ আছেন?                                                                              235 non-null    object \n",
            " 23  যদি রিলেশনশিপ এ থাকেন, পরিবারে তার কথা জানালে বিয়েতে রাজি হবে কি না?                                   235 non-null    object \n",
            " 24  আপনি কত বছর আগে বিয়ে করেছেন?                                                                           33 non-null     float64\n",
            " 25  এরেঞ্জ ম্যারেজ নাকি লাভ ম্যারেজ?                                                                       33 non-null     object \n",
            " 26  লাভ ম্যারেজ হলে পরিবার থেকে কোন প্রতিবন্ধিকতা ছিল কি না?                                               26 non-null     object \n",
            "dtypes: float64(2), int64(5), object(20)\n",
            "memory usage: 56.4+ KB\n"
          ],
          "name": "stdout"
        }
      ]
    },
    {
      "cell_type": "markdown",
      "metadata": {
        "id": "BUfPdwIjipa9"
      },
      "source": [
        "#**Data Pre-proccessing**"
      ]
    },
    {
      "cell_type": "markdown",
      "metadata": {
        "id": "BihUt-_2it81"
      },
      "source": [
        "#**Value count for all the attributes **"
      ]
    },
    {
      "cell_type": "code",
      "metadata": {
        "colab": {
          "base_uri": "https://localhost:8080/"
        },
        "id": "F5UO1dztiyku",
        "outputId": "95e18a24-d812-4b9d-c4a6-48346c81c5bb"
      },
      "source": [
        "train['বয়স :'].value_counts()"
      ],
      "execution_count": null,
      "outputs": [
        {
          "output_type": "execute_result",
          "data": {
            "text/plain": [
              "23.0    67\n",
              "22.0    62\n",
              "24.0    56\n",
              "25.0    28\n",
              "21.0    21\n",
              "20.0    14\n",
              "27.0     5\n",
              "26.0     4\n",
              "19.0     3\n",
              "18.0     2\n",
              "28.0     1\n",
              "35.0     1\n",
              "17.0     1\n",
              "32.0     1\n",
              "22.5     1\n",
              "Name: বয়স :, dtype: int64"
            ]
          },
          "metadata": {
            "tags": []
          },
          "execution_count": 11
        }
      ]
    },
    {
      "cell_type": "code",
      "metadata": {
        "colab": {
          "base_uri": "https://localhost:8080/"
        },
        "id": "AYI4XIdnjJd1",
        "outputId": "7d64c005-9d2c-4566-b6a6-bdf7dbfccb5e"
      },
      "source": [
        "train['লিঙ্গ :'].value_counts()"
      ],
      "execution_count": null,
      "outputs": [
        {
          "output_type": "execute_result",
          "data": {
            "text/plain": [
              "পুরুষ       230\n",
              "মহিলা        36\n",
              "অন্যান্য      1\n",
              "Name: লিঙ্গ :, dtype: int64"
            ]
          },
          "metadata": {
            "tags": []
          },
          "execution_count": 12
        }
      ]
    },
    {
      "cell_type": "code",
      "metadata": {
        "colab": {
          "base_uri": "https://localhost:8080/"
        },
        "id": "rEgcptr2jNId",
        "outputId": "aecd769d-508b-427f-ef04-14ca0eaff178"
      },
      "source": [
        "train['ধর্ম :'].value_counts()"
      ],
      "execution_count": null,
      "outputs": [
        {
          "output_type": "execute_result",
          "data": {
            "text/plain": [
              "ইসলাম     253\n",
              "হিন্দু     13\n",
              "বৌদ্ধ       1\n",
              "Name: ধর্ম :, dtype: int64"
            ]
          },
          "metadata": {
            "tags": []
          },
          "execution_count": 14
        }
      ]
    },
    {
      "cell_type": "code",
      "metadata": {
        "colab": {
          "base_uri": "https://localhost:8080/"
        },
        "id": "dNsXR2q8jO5F",
        "outputId": "28d1bc42-649c-49a6-f54f-83f332d682df"
      },
      "source": [
        "train['ইসলামের দৃষ্টিকোণ অনুযায়ী সামর্থ্য থাকলে যত দ্রুত সম্ভব বিয়ে করে নেয়া উচিত। এর সাথে আপনি কতটুকু সহমত?'].value_counts()"
      ],
      "execution_count": null,
      "outputs": [
        {
          "output_type": "execute_result",
          "data": {
            "text/plain": [
              "3    224\n",
              "2     27\n",
              "0      9\n",
              "1      7\n",
              "Name: ইসলামের দৃষ্টিকোণ অনুযায়ী সামর্থ্য থাকলে যত দ্রুত সম্ভব বিয়ে করে নেয়া উচিত। এর সাথে আপনি কতটুকু সহমত?, dtype: int64"
            ]
          },
          "metadata": {
            "tags": []
          },
          "execution_count": 13
        }
      ]
    },
    {
      "cell_type": "code",
      "metadata": {
        "colab": {
          "base_uri": "https://localhost:8080/"
        },
        "id": "apevnXXvjR8F",
        "outputId": "a09d769e-f34d-4a40-aa74-ddd8d9393268"
      },
      "source": [
        "train['আপনি পড়াশুনার কোন পর্যায়ে আছেন?'].value_counts()"
      ],
      "execution_count": null,
      "outputs": [
        {
          "output_type": "execute_result",
          "data": {
            "text/plain": [
              "অনার্স               215\n",
              "পড়াশুনা শেষ           24\n",
              "মাস্টার্স             14\n",
              "কলেজ                   6\n",
              "পড়াশুনা অসম্পূর্ণ      4\n",
              "মেডিকেল                2\n",
              "বিশ্ববিদ্যালয়          2\n",
              "Name: আপনি পড়াশুনার কোন পর্যায়ে আছেন?, dtype: int64"
            ]
          },
          "metadata": {
            "tags": []
          },
          "execution_count": 15
        }
      ]
    },
    {
      "cell_type": "code",
      "metadata": {
        "colab": {
          "base_uri": "https://localhost:8080/"
        },
        "id": "Q01eG8_RjXHd",
        "outputId": "a7243aa4-0516-40ae-a3c2-0d5f6f114215"
      },
      "source": [
        "train['আপনি কি মাদ্রাসায় পড়াশুনা করেছেন?'].value_counts()"
      ],
      "execution_count": null,
      "outputs": [
        {
          "output_type": "execute_result",
          "data": {
            "text/plain": [
              "না       243\n",
              "হ্যাঁ     24\n",
              "Name: আপনি কি মাদ্রাসায় পড়াশুনা করেছেন?, dtype: int64"
            ]
          },
          "metadata": {
            "tags": []
          },
          "execution_count": 16
        }
      ]
    },
    {
      "cell_type": "code",
      "metadata": {
        "colab": {
          "base_uri": "https://localhost:8080/"
        },
        "id": "d5RSbdH7jZGd",
        "outputId": "ccb10617-64d7-4afe-f054-84d2fd32e284"
      },
      "source": [
        "train['আপনার মতে কোনটা আগে?'].value_counts()"
      ],
      "execution_count": null,
      "outputs": [
        {
          "output_type": "execute_result",
          "data": {
            "text/plain": [
              "ক্যারিয়ার     129\n",
              "বিয়ে          129\n",
              "ক্যারিয়ার      7\n",
              "বিয়ে           2\n",
              "Name: আপনার মতে কোনটা আগে?, dtype: int64"
            ]
          },
          "metadata": {
            "tags": []
          },
          "execution_count": 17
        }
      ]
    },
    {
      "cell_type": "code",
      "metadata": {
        "colab": {
          "base_uri": "https://localhost:8080/"
        },
        "id": "HWNo_x8OjcWd",
        "outputId": "1b7af54f-e20e-4774-90ae-27e2fda21783"
      },
      "source": [
        "train['আপনার বর্তমান আয়ের উৎস কি?'].value_counts()"
      ],
      "execution_count": null,
      "outputs": [
        {
          "output_type": "execute_result",
          "data": {
            "text/plain": [
              "বাপের হোটেল       185\n",
              "পার্ট টাইম জব      25\n",
              "চাকরি              23\n",
              "ফ্রিল্যান্সিং      18\n",
              "ব্যবসা              9\n",
              "অনলাইন ব্যাবসা      7\n",
              "Name: আপনার বর্তমান আয়ের উৎস কি?, dtype: int64"
            ]
          },
          "metadata": {
            "tags": []
          },
          "execution_count": 18
        }
      ]
    },
    {
      "cell_type": "code",
      "metadata": {
        "colab": {
          "base_uri": "https://localhost:8080/"
        },
        "id": "YLWE8rTNjek1",
        "outputId": "4f0ce98a-f031-4dbd-9ff5-c7dda1b19b98"
      },
      "source": [
        "train['আপনার পরিবারের আয়ের উৎস কি?'].value_counts()"
      ],
      "execution_count": null,
      "outputs": [
        {
          "output_type": "execute_result",
          "data": {
            "text/plain": [
              "ব্যবসা              80\n",
              "সরকারি চাকরি        77\n",
              "বেসরকারি চাকরি      45\n",
              "অন্যান্য            39\n",
              "কৃষি                14\n",
              "কোন আয়ের উৎস নেই    12\n",
              "Name: আপনার পরিবারের আয়ের উৎস কি?, dtype: int64"
            ]
          },
          "metadata": {
            "tags": []
          },
          "execution_count": 19
        }
      ]
    },
    {
      "cell_type": "code",
      "metadata": {
        "colab": {
          "base_uri": "https://localhost:8080/"
        },
        "id": "Bjg3TggwjiQW",
        "outputId": "7376e381-9891-4d26-dce2-7d50e9771a55"
      },
      "source": [
        "train['আপনার পারিবারিক অবস্থা কি?'].value_counts()"
      ],
      "execution_count": null,
      "outputs": [
        {
          "output_type": "execute_result",
          "data": {
            "text/plain": [
              "মধ্যবিত্ত          174\n",
              "নিম্ন মধ্যবিত্ত     52\n",
              "উচ্চ মধ্যবিত্ত      38\n",
              "নিম্নবিত্ত           2\n",
              "উচ্চবিত্ত            1\n",
              "Name: আপনার পারিবারিক অবস্থা কি?, dtype: int64"
            ]
          },
          "metadata": {
            "tags": []
          },
          "execution_count": 20
        }
      ]
    },
    {
      "cell_type": "code",
      "metadata": {
        "colab": {
          "base_uri": "https://localhost:8080/"
        },
        "id": "aAHvPQ3GjkPW",
        "outputId": "54f271eb-5456-4305-b804-f0da010e0dd2"
      },
      "source": [
        "train['আপনি কি যৌথ পরিবারের সদস্য?'].value_counts()"
      ],
      "execution_count": null,
      "outputs": [
        {
          "output_type": "execute_result",
          "data": {
            "text/plain": [
              "না       209\n",
              "হ্যাঁ     58\n",
              "Name: আপনি কি যৌথ পরিবারের সদস্য?, dtype: int64"
            ]
          },
          "metadata": {
            "tags": []
          },
          "execution_count": 21
        }
      ]
    },
    {
      "cell_type": "code",
      "metadata": {
        "colab": {
          "base_uri": "https://localhost:8080/"
        },
        "id": "6sqhB7v3jmzu",
        "outputId": "7faedb2b-4dcc-440c-e9cd-3519510c5316"
      },
      "source": [
        "train['আপনার পরিবারের সদস্য সংখ্যা কত?'].value_counts()"
      ],
      "execution_count": null,
      "outputs": [
        {
          "output_type": "execute_result",
          "data": {
            "text/plain": [
              "4     91\n",
              "5     76\n",
              "6     33\n",
              "3     28\n",
              "7     18\n",
              "8      7\n",
              "9      6\n",
              "15     2\n",
              "12     2\n",
              "35     1\n",
              "18     1\n",
              "10     1\n",
              "2      1\n",
              "Name: আপনার পরিবারের সদস্য সংখ্যা কত?, dtype: int64"
            ]
          },
          "metadata": {
            "tags": []
          },
          "execution_count": 22
        }
      ]
    },
    {
      "cell_type": "code",
      "metadata": {
        "colab": {
          "base_uri": "https://localhost:8080/"
        },
        "id": "r94RtToWjou2",
        "outputId": "c75a259b-cf71-41ba-d6cb-75db40250f8f"
      },
      "source": [
        "train['আপনার বাবা-মা উভয়ই আছেন?'].value_counts()"
      ],
      "execution_count": null,
      "outputs": [
        {
          "output_type": "execute_result",
          "data": {
            "text/plain": [
              "হ্যাঁ, আছেন    242\n",
              "বাবা নেই        21\n",
              "মা নেই           3\n",
              "উভয়ই নেই         1\n",
              "Name: আপনার বাবা-মা উভয়ই আছেন?, dtype: int64"
            ]
          },
          "metadata": {
            "tags": []
          },
          "execution_count": 23
        }
      ]
    },
    {
      "cell_type": "code",
      "metadata": {
        "colab": {
          "base_uri": "https://localhost:8080/"
        },
        "id": "AvIydr29jqP2",
        "outputId": "9f100525-0feb-4e2f-f05f-06e26453d4ee"
      },
      "source": [
        "train['আপনার ভাই-বোন কয় জন?'].value_counts()"
      ],
      "execution_count": null,
      "outputs": [
        {
          "output_type": "execute_result",
          "data": {
            "text/plain": [
              "2     93\n",
              "3     64\n",
              "1     64\n",
              "4     22\n",
              "0     12\n",
              "5      7\n",
              "6      3\n",
              "14     1\n",
              "8      1\n",
              "Name: আপনার ভাই-বোন কয় জন?, dtype: int64"
            ]
          },
          "metadata": {
            "tags": []
          },
          "execution_count": 24
        }
      ]
    },
    {
      "cell_type": "code",
      "metadata": {
        "colab": {
          "base_uri": "https://localhost:8080/"
        },
        "id": "95k1OoKOjrru",
        "outputId": "a6da6c0a-7a41-4ba0-ec2d-b401f91b14d1"
      },
      "source": [
        "train['আপনার ভাই-বোন দের মধ্যে আপনি কত তম ?'].value_counts()"
      ],
      "execution_count": null,
      "outputs": [
        {
          "output_type": "execute_result",
          "data": {
            "text/plain": [
              "1     125\n",
              "2      86\n",
              "3      38\n",
              "4      10\n",
              "5       5\n",
              "12      1\n",
              "8       1\n",
              "6       1\n",
              "Name: আপনার ভাই-বোন দের মধ্যে আপনি কত তম ?, dtype: int64"
            ]
          },
          "metadata": {
            "tags": []
          },
          "execution_count": 25
        }
      ]
    },
    {
      "cell_type": "code",
      "metadata": {
        "colab": {
          "base_uri": "https://localhost:8080/"
        },
        "id": "GBXCVae2jt-W",
        "outputId": "a9550e9a-714a-4c97-e12b-d2fe0d6d885a"
      },
      "source": [
        "train['আপনার ভাই-বোন এর মধ্যে কয়জন এর বিয়ে হয়েছে?'].value_counts()"
      ],
      "execution_count": null,
      "outputs": [
        {
          "output_type": "execute_result",
          "data": {
            "text/plain": [
              "0     142\n",
              "1      76\n",
              "2      31\n",
              "3       9\n",
              "4       6\n",
              "7       2\n",
              "10      1\n",
              "Name: আপনার ভাই-বোন এর মধ্যে কয়জন এর বিয়ে হয়েছে?, dtype: int64"
            ]
          },
          "metadata": {
            "tags": []
          },
          "execution_count": 26
        }
      ]
    },
    {
      "cell_type": "code",
      "metadata": {
        "colab": {
          "base_uri": "https://localhost:8080/"
        },
        "id": "yUkJomuCjvfG",
        "outputId": "93802eec-e0e0-4d62-8c78-15577bc0b56e"
      },
      "source": [
        "train['আপনার বন্ধু-বান্ধবদের মধ্যে কত শতাংশের বিয়ে হয়েছে?'].value_counts()"
      ],
      "execution_count": null,
      "outputs": [
        {
          "output_type": "execute_result",
          "data": {
            "text/plain": [
              "10%     105\n",
              "30%      48\n",
              "20%      42\n",
              "40%      29\n",
              "90%      10\n",
              "50%      10\n",
              "60%       8\n",
              "70%       7\n",
              "80%       7\n",
              "100%      1\n",
              "Name: আপনার বন্ধু-বান্ধবদের মধ্যে কত শতাংশের বিয়ে হয়েছে?, dtype: int64"
            ]
          },
          "metadata": {
            "tags": []
          },
          "execution_count": 27
        }
      ]
    },
    {
      "cell_type": "code",
      "metadata": {
        "colab": {
          "base_uri": "https://localhost:8080/"
        },
        "id": "0z0bNhMZjwzW",
        "outputId": "857fcc79-034a-4b27-f0f1-97f85e93fd14"
      },
      "source": [
        "train['পূর্বে কারো সাথে রিলেশন এ ছিলেন কি?'].value_counts()"
      ],
      "execution_count": null,
      "outputs": [
        {
          "output_type": "execute_result",
          "data": {
            "text/plain": [
              "হ্যাঁ    142\n",
              "না       125\n",
              "Name: পূর্বে কারো সাথে রিলেশন এ ছিলেন কি?, dtype: int64"
            ]
          },
          "metadata": {
            "tags": []
          },
          "execution_count": 28
        }
      ]
    },
    {
      "cell_type": "code",
      "metadata": {
        "colab": {
          "base_uri": "https://localhost:8080/"
        },
        "id": "K0EWTM2ijyL9",
        "outputId": "069ff7a8-502e-4b3a-db89-b464edd96699"
      },
      "source": [
        "train['আপনার বৈবাহিক অবস্থা কি?'].value_counts()"
      ],
      "execution_count": null,
      "outputs": [
        {
          "output_type": "execute_result",
          "data": {
            "text/plain": [
              "অবিবাহিত            234\n",
              "বিবাহিত              30\n",
              "তালাকপ্রাপ্ত          2\n",
              "বিধবা / বিপত্নীক      1\n",
              "Name: আপনার বৈবাহিক অবস্থা কি?, dtype: int64"
            ]
          },
          "metadata": {
            "tags": []
          },
          "execution_count": 29
        }
      ]
    },
    {
      "cell_type": "code",
      "metadata": {
        "colab": {
          "base_uri": "https://localhost:8080/"
        },
        "id": "Kg_tXDsSj0n9",
        "outputId": "bc6ed0c4-ae96-406a-ee7f-41724e04d00b"
      },
      "source": [
        "train['আপনি কখন বিয়ে করতে ইচ্ছুক'].value_counts()"
      ],
      "execution_count": null,
      "outputs": [
        {
          "output_type": "execute_result",
          "data": {
            "text/plain": [
              "যেকোনো আয়ের উৎস করার পর    64\n",
              "এই পর্যায়েই                56\n",
              "চাকরি পাওয়ার পর            40\n",
              "৫ বছর এর মধ্যে             25\n",
              "৩ বছর এর মধ্যে             23\n",
              "১ বছর এর মধ্যে             21\n",
              "বাড়ি করার পর                6\n",
              "Name: আপনি কখন বিয়ে করতে ইচ্ছুক, dtype: int64"
            ]
          },
          "metadata": {
            "tags": []
          },
          "execution_count": 30
        }
      ]
    },
    {
      "cell_type": "code",
      "metadata": {
        "colab": {
          "base_uri": "https://localhost:8080/"
        },
        "id": "Fuxh2oebj2KV",
        "outputId": "62e80374-201b-41ce-bb85-20c15b1c54bb"
      },
      "source": [
        "train['পরিবার থেকে আপনাকে এই পর্যায়ে বিয়ে দিতে ইচ্ছুক কি না?'].value_counts()"
      ],
      "execution_count": null,
      "outputs": [
        {
          "output_type": "execute_result",
          "data": {
            "text/plain": [
              "না       179\n",
              "হ্যাঁ     56\n",
              "Name: পরিবার থেকে আপনাকে এই পর্যায়ে বিয়ে দিতে ইচ্ছুক কি না?, dtype: int64"
            ]
          },
          "metadata": {
            "tags": []
          },
          "execution_count": 31
        }
      ]
    },
    {
      "cell_type": "code",
      "metadata": {
        "colab": {
          "base_uri": "https://localhost:8080/"
        },
        "id": "N_uFU22xj3vu",
        "outputId": "01c250ae-1584-461f-99f3-211388399bef"
      },
      "source": [
        "train['আপনি কি রিলেশনশিপ এ আছেন?'].value_counts()"
      ],
      "execution_count": null,
      "outputs": [
        {
          "output_type": "execute_result",
          "data": {
            "text/plain": [
              "না       165\n",
              "হ্যাঁ     70\n",
              "Name: আপনি কি রিলেশনশিপ এ আছেন?, dtype: int64"
            ]
          },
          "metadata": {
            "tags": []
          },
          "execution_count": 32
        }
      ]
    },
    {
      "cell_type": "code",
      "metadata": {
        "colab": {
          "base_uri": "https://localhost:8080/"
        },
        "id": "UisJgIqkj5Y9",
        "outputId": "65f97fdf-ec8d-414a-a278-320f628718db"
      },
      "source": [
        "train['যদি রিলেশনশিপ এ থাকেন, পরিবারে তার কথা জানালে বিয়েতে রাজি হবে কি না?'].value_counts()"
      ],
      "execution_count": null,
      "outputs": [
        {
          "output_type": "execute_result",
          "data": {
            "text/plain": [
              "কোন রিলেশন নেই, এরেঞ্জ ম্যারেজ করার ইচ্ছা    67\n",
              "মনাতে পারব                                   57\n",
              "বিয়ে/রিলেশন নিয়ে কোন মাথা ব্যাথা নেই         46\n",
              "কোনভাবেই রাজি হবে না                         30\n",
              "সহজেই রাজি হবে                               22\n",
              "উভয় পরিবার জানে এবং রাজি                     10\n",
              "রাজি হবে না, পালিয়ে বিয়ে করতে ইচ্ছুক          3\n",
              "Name: যদি রিলেশনশিপ এ থাকেন, পরিবারে তার কথা জানালে বিয়েতে রাজি হবে কি না?, dtype: int64"
            ]
          },
          "metadata": {
            "tags": []
          },
          "execution_count": 33
        }
      ]
    },
    {
      "cell_type": "code",
      "metadata": {
        "colab": {
          "base_uri": "https://localhost:8080/"
        },
        "id": "7hQIq39vj8Tl",
        "outputId": "8f9ac13d-58b0-457e-eaf1-66590a0c816f"
      },
      "source": [
        "train['আপনি কত বছর আগে বিয়ে করেছেন?'].value_counts()"
      ],
      "execution_count": null,
      "outputs": [
        {
          "output_type": "execute_result",
          "data": {
            "text/plain": [
              "1.0     12\n",
              "2.0      7\n",
              "0.0      4\n",
              "4.0      3\n",
              "3.0      3\n",
              "0.3      1\n",
              "21.0     1\n",
              "2.5      1\n",
              "12.0     1\n",
              "Name: আপনি কত বছর আগে বিয়ে করেছেন?, dtype: int64"
            ]
          },
          "metadata": {
            "tags": []
          },
          "execution_count": 34
        }
      ]
    },
    {
      "cell_type": "code",
      "metadata": {
        "colab": {
          "base_uri": "https://localhost:8080/"
        },
        "id": "-yBAatHYj-CN",
        "outputId": "10814470-006c-43f7-8858-10c0dac26b29"
      },
      "source": [
        "train['এরেঞ্জ ম্যারেজ নাকি লাভ ম্যারেজ?'].value_counts()"
      ],
      "execution_count": null,
      "outputs": [
        {
          "output_type": "execute_result",
          "data": {
            "text/plain": [
              "লাভ ❤     23\n",
              "এরেঞ্জ    10\n",
              "Name: এরেঞ্জ ম্যারেজ নাকি লাভ ম্যারেজ?, dtype: int64"
            ]
          },
          "metadata": {
            "tags": []
          },
          "execution_count": 35
        }
      ]
    },
    {
      "cell_type": "code",
      "metadata": {
        "colab": {
          "base_uri": "https://localhost:8080/"
        },
        "id": "FpRvE-Mcj_hd",
        "outputId": "6d0cceb0-d5d6-4a30-f332-878eb43e9707"
      },
      "source": [
        "train['লাভ ম্যারেজ হলে পরিবার থেকে কোন প্রতিবন্ধিকতা ছিল কি না?'].value_counts()"
      ],
      "execution_count": null,
      "outputs": [
        {
          "output_type": "execute_result",
          "data": {
            "text/plain": [
              "ছিল, মানিয়ে নিয়েছি 😁              12\n",
              "না, মেনে নিয়েছে                   11\n",
              "ছিল, পরিবার কে না জানিয়ে করেছি     3\n",
              "Name: লাভ ম্যারেজ হলে পরিবার থেকে কোন প্রতিবন্ধিকতা ছিল কি না?, dtype: int64"
            ]
          },
          "metadata": {
            "tags": []
          },
          "execution_count": 36
        }
      ]
    },
    {
      "cell_type": "markdown",
      "metadata": {
        "id": "bScavtZKkSEG"
      },
      "source": [
        "#**Translating to English and assigning Numeric Values**"
      ]
    },
    {
      "cell_type": "code",
      "metadata": {
        "id": "ZBgwmzgIlSEG"
      },
      "source": [
        "train_data = [train]\n",
        "age = {17.0: 0, 18.0: 0, 19.0: 1,20.0:1,21.0:1,22.0:2,23.0:2,24.0:2,25.0:3,26.0:3,27.0:3,28.0:3,32.0:4,35.0:4}\n",
        "for new_train in train_data:\n",
        "    new_train['Age'] = new_train['বয়স :'].map(age)"
      ],
      "execution_count": null,
      "outputs": []
    },
    {
      "cell_type": "code",
      "metadata": {
        "id": "O7gm32ZuKgk7"
      },
      "source": [
        "new_train"
      ],
      "execution_count": null,
      "outputs": []
    },
    {
      "cell_type": "code",
      "metadata": {
        "id": "tqc9yIN4mXi2"
      },
      "source": [
        "train_df = [new_train]\n",
        "sex = {\"পুরুষ\": 0, \"মহিলা\": 1, \"অন্যান্য\": 1}\n",
        "for new_df in train_df:\n",
        "    new_df['Sex'] = new_df['লিঙ্গ :'].map(sex)"
      ],
      "execution_count": null,
      "outputs": []
    },
    {
      "cell_type": "code",
      "metadata": {
        "id": "PTCkTbk1mri-"
      },
      "source": [
        "train_df = [new_train]\n",
        "religion = {\"ইসলাম\":1,\"হিন্দু\":2,\"বৌদ্ধ\":3}\n",
        "for new_df in train_df:\n",
        "    new_df['Religion'] = new_df['ধর্ম :'].map(religion)"
      ],
      "execution_count": null,
      "outputs": []
    },
    {
      "cell_type": "code",
      "metadata": {
        "id": "p3roHkKxmuL-"
      },
      "source": [
        "new_train = new_train.rename(columns={'ইসলামের দৃষ্টিকোণ অনুযায়ী সামর্থ্য থাকলে যত দ্রুত সম্ভব বিয়ে করে নেয়া উচিত। এর সাথে আপনি কতটুকু সহমত?': 'Priority of marraige in Islam'})"
      ],
      "execution_count": null,
      "outputs": []
    },
    {
      "cell_type": "code",
      "metadata": {
        "id": "WtkfNKVdm602"
      },
      "source": [
        "train_df = [new_train]\n",
        "study = {\"কলেজ\":1,\"অনার্স\":2,\"বিশ্ববিদ্যালয়\":2,\"মাস্টার্স\":3,\"মেডিকেল\":4,\"পড়াশুনা শেষ\":5,\"পড়াশুনা অসম্পূর্ণ\":6}\n",
        "for new_df in train_df:\n",
        "    new_df['Study Stage'] = new_df['আপনি পড়াশুনার কোন পর্যায়ে আছেন?'].map(study)"
      ],
      "execution_count": null,
      "outputs": []
    },
    {
      "cell_type": "code",
      "metadata": {
        "id": "t3rnoSgFnCTW"
      },
      "source": [
        "new_train.drop('আপনি কি মাদ্রাসায় পড়াশুনা করেছেন?', axis='columns', inplace=True)"
      ],
      "execution_count": null,
      "outputs": []
    },
    {
      "cell_type": "code",
      "metadata": {
        "id": "cUHsiNDdnR7W"
      },
      "source": [
        "train_df = [new_train]\n",
        "relationship = {\"হ্যাঁ\":1,\"না\":0}\n",
        "for new_df in train_df:\n",
        "    new_df['Relationship'] = new_df['আপনি কি রিলেশনশিপ এ আছেন?'].map(relationship)"
      ],
      "execution_count": null,
      "outputs": []
    },
    {
      "cell_type": "code",
      "metadata": {
        "id": "L9Ps0eCUnYJG"
      },
      "source": [
        "train_df = [new_train]\n",
        "pers = {\"বাপের হোটেল\":0, \"অনলাইন ব্যাবসা\":1, \"ব্যবসা\":1, \"ফ্রিল্যান্সিং\":1, \"চাকরি\":1, \"পার্ট টাইম জব\":1}\n",
        "for new_df in train_df:\n",
        "    new_df['Personal Income'] = new_df['আপনার বর্তমান আয়ের উৎস কি?'].map(pers)"
      ],
      "execution_count": null,
      "outputs": []
    },
    {
      "cell_type": "code",
      "metadata": {
        "id": "mM-ZZyaJne62"
      },
      "source": [
        "train_df = [new_train]\n",
        "pers = {\"ব্যবসা\":1, \"সরকারি চাকরি\":1, \"বেসরকারি চাকরি\":1, \"অন্যান্য\":1, \"কৃষি\":1, \"কোন আয়ের উৎস নেই\":0}\n",
        "for new_df in train_df:\n",
        "    new_df['Family Income'] = new_df['আপনার পরিবারের আয়ের উৎস কি?'].map(pers)"
      ],
      "execution_count": null,
      "outputs": []
    },
    {
      "cell_type": "code",
      "metadata": {
        "id": "_Ky7d2P8nh4F"
      },
      "source": [
        "train_df = [new_train]\n",
        "pers = {\"নিম্নবিত্ত\":0, \"নিম্ন মধ্যবিত্ত\":1, \"মধ্যবিত্ত\":1, \"উচ্চ মধ্যবিত্ত\":1, \"উচ্চবিত্ত\":2}\n",
        "for new_df in train_df:\n",
        "    new_df['Family Status'] = new_df['আপনার পারিবারিক অবস্থা কি?'].map(pers)"
      ],
      "execution_count": null,
      "outputs": []
    },
    {
      "cell_type": "code",
      "metadata": {
        "id": "D1p92VDgnlZm"
      },
      "source": [
        "train_df = [new_train]\n",
        "pers = {\"হ্যাঁ\":1, \"না\":0}\n",
        "for new_df in train_df:\n",
        "    new_df['Joint Family'] = new_df['আপনি কি যৌথ পরিবারের সদস্য?'].map(pers)"
      ],
      "execution_count": null,
      "outputs": []
    },
    {
      "cell_type": "code",
      "metadata": {
        "id": "XEODZO_YnxBG"
      },
      "source": [
        "train_df = [new_train]\n",
        "pers = {2:0,3:0,4:0,5:1,6:1,7:1,8:2,9:2,10:2,12:3,15:3,18:3,35:3}\n",
        "for new_df in train_df:\n",
        "    new_df['Family Members'] = new_df['আপনার পরিবারের সদস্য সংখ্যা কত?'].map(pers)"
      ],
      "execution_count": null,
      "outputs": []
    },
    {
      "cell_type": "code",
      "metadata": {
        "id": "gkG2PS9Pnzf3"
      },
      "source": [
        "train_df = [new_train]\n",
        "pers = {\"হ্যাঁ, আছেন\":3, \"বাবা নেই\":1, \"মা নেই\": 2, \"উভয়ই নেই\":0}\n",
        "for new_df in train_df:\n",
        "    new_df['Parents alive'] = new_df['আপনার বাবা-মা উভয়ই আছেন?'].map(pers)"
      ],
      "execution_count": null,
      "outputs": []
    },
    {
      "cell_type": "code",
      "metadata": {
        "id": "nzLuqlBKn1W2"
      },
      "source": [
        "train_df = [new_train]\n",
        "pers = {0:0,1:1,2:1,3:2,4:2,5:3,6:3,7:4,8:4,9:4,14:4}\n",
        "for new_df in train_df:\n",
        "    new_df['Siblings'] = new_df['আপনার ভাই-বোন কয় জন?'].map(pers)"
      ],
      "execution_count": null,
      "outputs": []
    },
    {
      "cell_type": "code",
      "metadata": {
        "id": "FjthR_Bgn3Zg"
      },
      "source": [
        "train_df = [new_train]\n",
        "pers = {0:0,00:0,0:0,1:1,1:1,2:2,3:3,4:4,7:4,10:5,14:4}\n",
        "for new_df in train_df:\n",
        "    new_df['Married Siblings'] = new_df['আপনার ভাই-বোন এর মধ্যে কয়জন এর বিয়ে হয়েছে?'].map(pers)"
      ],
      "execution_count": null,
      "outputs": []
    },
    {
      "cell_type": "code",
      "metadata": {
        "id": "IRHOHkTyn44-"
      },
      "source": [
        "train_df = [new_train]\n",
        "pers = {\"হ্যাঁ\":1,\"না\":0}\n",
        "for new_df in train_df:\n",
        "    new_df['Previous relationship'] = new_df['পূর্বে কারো সাথে রিলেশন এ ছিলেন কি?'].map(pers)"
      ],
      "execution_count": null,
      "outputs": []
    },
    {
      "cell_type": "code",
      "metadata": {
        "id": "3OP990kIn-2W"
      },
      "source": [
        "train_df = [new_train]\n",
        "pers = {\"অবিবাহিত\":0,\"বিবাহিত\":1,\"তালাকপ্রাপ্ত\":1,\"বিধবা / বিপত্নীক\":1}\n",
        "for new_df in train_df:\n",
        "    new_df['Married status'] = new_df['আপনার বৈবাহিক অবস্থা কি?'].map(pers)"
      ],
      "execution_count": null,
      "outputs": []
    },
    {
      "cell_type": "code",
      "metadata": {
        "id": "2LeOexIDoBn_"
      },
      "source": [
        "train_df = [new_train]\n",
        "pers = {\"এই পর্যায়েই\":0,\"যেকোনো আয়ের উৎস করার পর\":1,\"চাকরি পাওয়ার পর\":2,\"বাড়ি করার পর\":3, \"১ বছর এর মধ্যে\":4,\"৩ বছর এর মধ্যে\":5,\"৫ বছর এর মধ্যে\":6}\n",
        "for new_df in train_df:\n",
        "    new_df['Target getting married'] = new_df['আপনি কখন বিয়ে করতে ইচ্ছুক'].map(pers)"
      ],
      "execution_count": null,
      "outputs": []
    },
    {
      "cell_type": "code",
      "metadata": {
        "id": "0X_9taGooDyW"
      },
      "source": [
        "train_df = [new_train]\n",
        "pers = {\"বিয়ে/রিলেশন নিয়ে কোন মাথা ব্যাথা নেই\":1,\"কোন রিলেশন নেই, এরেঞ্জ ম্যারেজ করার ইচ্ছা\":1,\"মনাতে পারব\":1,\"সহজেই রাজি হবে\":1,\"উভয় পরিবার জানে এবং রাজি\":1,\"কোনভাবেই রাজি হবে না\":0}\n",
        "for new_df in train_df:\n",
        "    new_df['Family agree on relationship'] = new_df['যদি রিলেশনশিপ এ থাকেন, পরিবারে তার কথা জানালে বিয়েতে রাজি হবে কি না?'].map(pers)"
      ],
      "execution_count": null,
      "outputs": []
    },
    {
      "cell_type": "code",
      "metadata": {
        "id": "qp981nYUoFum"
      },
      "source": [
        "train_df = [new_train]\n",
        "pers = {\"লাভ ❤\":1,\"এরেঞ্জ\":2}\n",
        "for new_df in train_df:\n",
        "    new_df['Arrange/love marriage'] = new_df['এরেঞ্জ ম্যারেজ নাকি লাভ ম্যারেজ?'].map(pers)"
      ],
      "execution_count": null,
      "outputs": []
    },
    {
      "cell_type": "code",
      "metadata": {
        "colab": {
          "base_uri": "https://localhost:8080/",
          "height": 1000
        },
        "id": "QsvQGn7NoRdm",
        "outputId": "d2713402-1692-4909-8e91-4df1ddf723ea"
      },
      "source": [
        "new_train"
      ],
      "execution_count": null,
      "outputs": [
        {
          "output_type": "execute_result",
          "data": {
            "text/html": [
              "<div>\n",
              "<style scoped>\n",
              "    .dataframe tbody tr th:only-of-type {\n",
              "        vertical-align: middle;\n",
              "    }\n",
              "\n",
              "    .dataframe tbody tr th {\n",
              "        vertical-align: top;\n",
              "    }\n",
              "\n",
              "    .dataframe thead th {\n",
              "        text-align: right;\n",
              "    }\n",
              "</style>\n",
              "<table border=\"1\" class=\"dataframe\">\n",
              "  <thead>\n",
              "    <tr style=\"text-align: right;\">\n",
              "      <th></th>\n",
              "      <th>Timestamp</th>\n",
              "      <th>বয়স :</th>\n",
              "      <th>লিঙ্গ :</th>\n",
              "      <th>ধর্ম :</th>\n",
              "      <th>ইসলামের দৃষ্টিকোণ অনুযায়ী সামর্থ্য থাকলে যত দ্রুত সম্ভব বিয়ে করে নেয়া উচিত। এর সাথে আপনি কতটুকু সহমত?</th>\n",
              "      <th>আপনি পড়াশুনার কোন পর্যায়ে আছেন?</th>\n",
              "      <th>আপনি কি মাদ্রাসায় পড়াশুনা করেছেন?</th>\n",
              "      <th>আপনার মতে কোনটা আগে?</th>\n",
              "      <th>আপনার বর্তমান আয়ের উৎস কি?</th>\n",
              "      <th>আপনার পরিবারের আয়ের উৎস কি?</th>\n",
              "      <th>আপনার পারিবারিক অবস্থা কি?</th>\n",
              "      <th>আপনি কি যৌথ পরিবারের সদস্য?</th>\n",
              "      <th>আপনার পরিবারের সদস্য সংখ্যা কত?</th>\n",
              "      <th>আপনার বাবা-মা উভয়ই আছেন?</th>\n",
              "      <th>আপনার ভাই-বোন কয় জন?</th>\n",
              "      <th>আপনার ভাই-বোন দের মধ্যে আপনি কত তম ?</th>\n",
              "      <th>আপনার ভাই-বোন এর মধ্যে কয়জন এর বিয়ে হয়েছে?</th>\n",
              "      <th>আপনার বন্ধু-বান্ধবদের মধ্যে কত শতাংশের বিয়ে হয়েছে?</th>\n",
              "      <th>পূর্বে কারো সাথে রিলেশন এ ছিলেন কি?</th>\n",
              "      <th>আপনার বৈবাহিক অবস্থা কি?</th>\n",
              "      <th>আপনি কখন বিয়ে করতে ইচ্ছুক</th>\n",
              "      <th>পরিবার থেকে আপনাকে এই পর্যায়ে বিয়ে দিতে ইচ্ছুক কি না?</th>\n",
              "      <th>আপনি কি রিলেশনশিপ এ আছেন?</th>\n",
              "      <th>যদি রিলেশনশিপ এ থাকেন, পরিবারে তার কথা জানালে বিয়েতে রাজি হবে কি না?</th>\n",
              "      <th>আপনি কত বছর আগে বিয়ে করেছেন?</th>\n",
              "      <th>এরেঞ্জ ম্যারেজ নাকি লাভ ম্যারেজ?</th>\n",
              "      <th>লাভ ম্যারেজ হলে পরিবার থেকে কোন প্রতিবন্ধিকতা ছিল কি না?</th>\n",
              "      <th>Age</th>\n",
              "      <th>Sex</th>\n",
              "      <th>Religion</th>\n",
              "    </tr>\n",
              "  </thead>\n",
              "  <tbody>\n",
              "    <tr>\n",
              "      <th>0</th>\n",
              "      <td>3/4/2021 1:43:42</td>\n",
              "      <td>25.0</td>\n",
              "      <td>পুরুষ</td>\n",
              "      <td>ইসলাম</td>\n",
              "      <td>3</td>\n",
              "      <td>বিশ্ববিদ্যালয়</td>\n",
              "      <td>না</td>\n",
              "      <td>বিয়ে</td>\n",
              "      <td>বাপের হোটেল</td>\n",
              "      <td>সরকারি চাকরি</td>\n",
              "      <td>মধ্যবিত্ত</td>\n",
              "      <td>না</td>\n",
              "      <td>4</td>\n",
              "      <td>হ্যাঁ, আছেন</td>\n",
              "      <td>2</td>\n",
              "      <td>2</td>\n",
              "      <td>2</td>\n",
              "      <td>90%</td>\n",
              "      <td>হ্যাঁ</td>\n",
              "      <td>অবিবাহিত</td>\n",
              "      <td>এই পর্যায়েই</td>\n",
              "      <td>হ্যাঁ</td>\n",
              "      <td>হ্যাঁ</td>\n",
              "      <td>উভয় পরিবার জানে এবং রাজি</td>\n",
              "      <td>NaN</td>\n",
              "      <td>NaN</td>\n",
              "      <td>NaN</td>\n",
              "      <td>3.0</td>\n",
              "      <td>0</td>\n",
              "      <td>1</td>\n",
              "    </tr>\n",
              "    <tr>\n",
              "      <th>1</th>\n",
              "      <td>3/4/2021 1:45:25</td>\n",
              "      <td>22.0</td>\n",
              "      <td>পুরুষ</td>\n",
              "      <td>ইসলাম</td>\n",
              "      <td>3</td>\n",
              "      <td>কলেজ</td>\n",
              "      <td>না</td>\n",
              "      <td>ক্যারিয়ার</td>\n",
              "      <td>ফ্রিল্যান্সিং</td>\n",
              "      <td>বেসরকারি চাকরি</td>\n",
              "      <td>মধ্যবিত্ত</td>\n",
              "      <td>হ্যাঁ</td>\n",
              "      <td>3</td>\n",
              "      <td>হ্যাঁ, আছেন</td>\n",
              "      <td>3</td>\n",
              "      <td>2</td>\n",
              "      <td>1</td>\n",
              "      <td>50%</td>\n",
              "      <td>না</td>\n",
              "      <td>অবিবাহিত</td>\n",
              "      <td>চাকরি পাওয়ার পর</td>\n",
              "      <td>হ্যাঁ</td>\n",
              "      <td>না</td>\n",
              "      <td>কোনভাবেই রাজি হবে না</td>\n",
              "      <td>NaN</td>\n",
              "      <td>NaN</td>\n",
              "      <td>NaN</td>\n",
              "      <td>2.0</td>\n",
              "      <td>0</td>\n",
              "      <td>1</td>\n",
              "    </tr>\n",
              "    <tr>\n",
              "      <th>2</th>\n",
              "      <td>3/4/2021 2:04:13</td>\n",
              "      <td>22.0</td>\n",
              "      <td>মহিলা</td>\n",
              "      <td>ইসলাম</td>\n",
              "      <td>3</td>\n",
              "      <td>মেডিকেল</td>\n",
              "      <td>না</td>\n",
              "      <td>বিয়ে</td>\n",
              "      <td>চাকরি</td>\n",
              "      <td>সরকারি চাকরি</td>\n",
              "      <td>উচ্চ মধ্যবিত্ত</td>\n",
              "      <td>হ্যাঁ</td>\n",
              "      <td>4</td>\n",
              "      <td>হ্যাঁ, আছেন</td>\n",
              "      <td>2</td>\n",
              "      <td>4</td>\n",
              "      <td>3</td>\n",
              "      <td>70%</td>\n",
              "      <td>হ্যাঁ</td>\n",
              "      <td>বিবাহিত</td>\n",
              "      <td>NaN</td>\n",
              "      <td>NaN</td>\n",
              "      <td>NaN</td>\n",
              "      <td>NaN</td>\n",
              "      <td>1.0</td>\n",
              "      <td>লাভ ❤</td>\n",
              "      <td>ছিল, মানিয়ে নিয়েছি 😁</td>\n",
              "      <td>2.0</td>\n",
              "      <td>1</td>\n",
              "      <td>1</td>\n",
              "    </tr>\n",
              "    <tr>\n",
              "      <th>3</th>\n",
              "      <td>3/4/2021 2:53:20</td>\n",
              "      <td>23.0</td>\n",
              "      <td>পুরুষ</td>\n",
              "      <td>ইসলাম</td>\n",
              "      <td>3</td>\n",
              "      <td>বিশ্ববিদ্যালয়</td>\n",
              "      <td>না</td>\n",
              "      <td>বিয়ে</td>\n",
              "      <td>বাপের হোটেল</td>\n",
              "      <td>কোন আয়ের উৎস নেই</td>\n",
              "      <td>মধ্যবিত্ত</td>\n",
              "      <td>না</td>\n",
              "      <td>6</td>\n",
              "      <td>বাবা নেই</td>\n",
              "      <td>3</td>\n",
              "      <td>1</td>\n",
              "      <td>1</td>\n",
              "      <td>20%</td>\n",
              "      <td>হ্যাঁ</td>\n",
              "      <td>বিধবা / বিপত্নীক</td>\n",
              "      <td>৩ বছর এর মধ্যে</td>\n",
              "      <td>না</td>\n",
              "      <td>না</td>\n",
              "      <td>কোন রিলেশন নেই, এরেঞ্জ ম্যারেজ করার ইচ্ছা</td>\n",
              "      <td>1.0</td>\n",
              "      <td>লাভ ❤</td>\n",
              "      <td>NaN</td>\n",
              "      <td>2.0</td>\n",
              "      <td>0</td>\n",
              "      <td>1</td>\n",
              "    </tr>\n",
              "    <tr>\n",
              "      <th>4</th>\n",
              "      <td>3/17/2021 17:57:37</td>\n",
              "      <td>23.0</td>\n",
              "      <td>পুরুষ</td>\n",
              "      <td>ইসলাম</td>\n",
              "      <td>3</td>\n",
              "      <td>অনার্স</td>\n",
              "      <td>না</td>\n",
              "      <td>বিয়ে</td>\n",
              "      <td>বাপের হোটেল</td>\n",
              "      <td>কোন আয়ের উৎস নেই</td>\n",
              "      <td>মধ্যবিত্ত</td>\n",
              "      <td>না</td>\n",
              "      <td>4</td>\n",
              "      <td>মা নেই</td>\n",
              "      <td>2</td>\n",
              "      <td>2</td>\n",
              "      <td>1</td>\n",
              "      <td>50%</td>\n",
              "      <td>হ্যাঁ</td>\n",
              "      <td>অবিবাহিত</td>\n",
              "      <td>এই পর্যায়েই</td>\n",
              "      <td>হ্যাঁ</td>\n",
              "      <td>হ্যাঁ</td>\n",
              "      <td>কোনভাবেই রাজি হবে না</td>\n",
              "      <td>NaN</td>\n",
              "      <td>NaN</td>\n",
              "      <td>NaN</td>\n",
              "      <td>2.0</td>\n",
              "      <td>0</td>\n",
              "      <td>1</td>\n",
              "    </tr>\n",
              "    <tr>\n",
              "      <th>...</th>\n",
              "      <td>...</td>\n",
              "      <td>...</td>\n",
              "      <td>...</td>\n",
              "      <td>...</td>\n",
              "      <td>...</td>\n",
              "      <td>...</td>\n",
              "      <td>...</td>\n",
              "      <td>...</td>\n",
              "      <td>...</td>\n",
              "      <td>...</td>\n",
              "      <td>...</td>\n",
              "      <td>...</td>\n",
              "      <td>...</td>\n",
              "      <td>...</td>\n",
              "      <td>...</td>\n",
              "      <td>...</td>\n",
              "      <td>...</td>\n",
              "      <td>...</td>\n",
              "      <td>...</td>\n",
              "      <td>...</td>\n",
              "      <td>...</td>\n",
              "      <td>...</td>\n",
              "      <td>...</td>\n",
              "      <td>...</td>\n",
              "      <td>...</td>\n",
              "      <td>...</td>\n",
              "      <td>...</td>\n",
              "      <td>...</td>\n",
              "      <td>...</td>\n",
              "      <td>...</td>\n",
              "    </tr>\n",
              "    <tr>\n",
              "      <th>262</th>\n",
              "      <td>4/1/2021 12:29:15</td>\n",
              "      <td>22.0</td>\n",
              "      <td>পুরুষ</td>\n",
              "      <td>ইসলাম</td>\n",
              "      <td>3</td>\n",
              "      <td>অনার্স</td>\n",
              "      <td>না</td>\n",
              "      <td>ক্যারিয়ার</td>\n",
              "      <td>বাপের হোটেল</td>\n",
              "      <td>বেসরকারি চাকরি</td>\n",
              "      <td>মধ্যবিত্ত</td>\n",
              "      <td>না</td>\n",
              "      <td>5</td>\n",
              "      <td>হ্যাঁ, আছেন</td>\n",
              "      <td>2</td>\n",
              "      <td>1</td>\n",
              "      <td>0</td>\n",
              "      <td>40%</td>\n",
              "      <td>হ্যাঁ</td>\n",
              "      <td>অবিবাহিত</td>\n",
              "      <td>যেকোনো আয়ের উৎস করার পর</td>\n",
              "      <td>না</td>\n",
              "      <td>না</td>\n",
              "      <td>মনাতে পারব</td>\n",
              "      <td>NaN</td>\n",
              "      <td>NaN</td>\n",
              "      <td>NaN</td>\n",
              "      <td>2.0</td>\n",
              "      <td>0</td>\n",
              "      <td>1</td>\n",
              "    </tr>\n",
              "    <tr>\n",
              "      <th>263</th>\n",
              "      <td>4/1/2021 13:21:28</td>\n",
              "      <td>23.0</td>\n",
              "      <td>মহিলা</td>\n",
              "      <td>ইসলাম</td>\n",
              "      <td>3</td>\n",
              "      <td>অনার্স</td>\n",
              "      <td>না</td>\n",
              "      <td>ক্যারিয়ার</td>\n",
              "      <td>বাপের হোটেল</td>\n",
              "      <td>সরকারি চাকরি</td>\n",
              "      <td>মধ্যবিত্ত</td>\n",
              "      <td>হ্যাঁ</td>\n",
              "      <td>5</td>\n",
              "      <td>হ্যাঁ, আছেন</td>\n",
              "      <td>3</td>\n",
              "      <td>3</td>\n",
              "      <td>0</td>\n",
              "      <td>10%</td>\n",
              "      <td>হ্যাঁ</td>\n",
              "      <td>অবিবাহিত</td>\n",
              "      <td>৩ বছর এর মধ্যে</td>\n",
              "      <td>হ্যাঁ</td>\n",
              "      <td>হ্যাঁ</td>\n",
              "      <td>সহজেই রাজি হবে</td>\n",
              "      <td>NaN</td>\n",
              "      <td>NaN</td>\n",
              "      <td>NaN</td>\n",
              "      <td>2.0</td>\n",
              "      <td>1</td>\n",
              "      <td>1</td>\n",
              "    </tr>\n",
              "    <tr>\n",
              "      <th>264</th>\n",
              "      <td>4/1/2021 14:21:55</td>\n",
              "      <td>23.0</td>\n",
              "      <td>মহিলা</td>\n",
              "      <td>ইসলাম</td>\n",
              "      <td>3</td>\n",
              "      <td>অনার্স</td>\n",
              "      <td>না</td>\n",
              "      <td>ক্যারিয়ার</td>\n",
              "      <td>বাপের হোটেল</td>\n",
              "      <td>বেসরকারি চাকরি</td>\n",
              "      <td>নিম্ন মধ্যবিত্ত</td>\n",
              "      <td>হ্যাঁ</td>\n",
              "      <td>5</td>\n",
              "      <td>হ্যাঁ, আছেন</td>\n",
              "      <td>3</td>\n",
              "      <td>3</td>\n",
              "      <td>1</td>\n",
              "      <td>10%</td>\n",
              "      <td>হ্যাঁ</td>\n",
              "      <td>অবিবাহিত</td>\n",
              "      <td>এই পর্যায়েই</td>\n",
              "      <td>না</td>\n",
              "      <td>হ্যাঁ</td>\n",
              "      <td>রাজি হবে না, পালিয়ে বিয়ে করতে ইচ্ছুক</td>\n",
              "      <td>NaN</td>\n",
              "      <td>NaN</td>\n",
              "      <td>NaN</td>\n",
              "      <td>2.0</td>\n",
              "      <td>1</td>\n",
              "      <td>1</td>\n",
              "    </tr>\n",
              "    <tr>\n",
              "      <th>265</th>\n",
              "      <td>4/1/2021 18:33:14</td>\n",
              "      <td>19.0</td>\n",
              "      <td>মহিলা</td>\n",
              "      <td>ইসলাম</td>\n",
              "      <td>3</td>\n",
              "      <td>কলেজ</td>\n",
              "      <td>না</td>\n",
              "      <td>বিয়ে</td>\n",
              "      <td>বাপের হোটেল</td>\n",
              "      <td>কোন আয়ের উৎস নেই</td>\n",
              "      <td>মধ্যবিত্ত</td>\n",
              "      <td>না</td>\n",
              "      <td>5</td>\n",
              "      <td>বাবা নেই</td>\n",
              "      <td>1</td>\n",
              "      <td>1</td>\n",
              "      <td>0</td>\n",
              "      <td>40%</td>\n",
              "      <td>হ্যাঁ</td>\n",
              "      <td>তালাকপ্রাপ্ত</td>\n",
              "      <td>NaN</td>\n",
              "      <td>NaN</td>\n",
              "      <td>NaN</td>\n",
              "      <td>NaN</td>\n",
              "      <td>2.0</td>\n",
              "      <td>এরেঞ্জ</td>\n",
              "      <td>NaN</td>\n",
              "      <td>1.0</td>\n",
              "      <td>1</td>\n",
              "      <td>1</td>\n",
              "    </tr>\n",
              "    <tr>\n",
              "      <th>266</th>\n",
              "      <td>4/4/2021 19:06:59</td>\n",
              "      <td>22.0</td>\n",
              "      <td>পুরুষ</td>\n",
              "      <td>ইসলাম</td>\n",
              "      <td>3</td>\n",
              "      <td>অনার্স</td>\n",
              "      <td>না</td>\n",
              "      <td>ক্যারিয়ার</td>\n",
              "      <td>বাপের হোটেল</td>\n",
              "      <td>কৃষি</td>\n",
              "      <td>মধ্যবিত্ত</td>\n",
              "      <td>না</td>\n",
              "      <td>3</td>\n",
              "      <td>হ্যাঁ, আছেন</td>\n",
              "      <td>2</td>\n",
              "      <td>2</td>\n",
              "      <td>1</td>\n",
              "      <td>40%</td>\n",
              "      <td>না</td>\n",
              "      <td>অবিবাহিত</td>\n",
              "      <td>যেকোনো আয়ের উৎস করার পর</td>\n",
              "      <td>না</td>\n",
              "      <td>না</td>\n",
              "      <td>বিয়ে/রিলেশন নিয়ে কোন মাথা ব্যাথা নেই</td>\n",
              "      <td>NaN</td>\n",
              "      <td>NaN</td>\n",
              "      <td>NaN</td>\n",
              "      <td>2.0</td>\n",
              "      <td>0</td>\n",
              "      <td>1</td>\n",
              "    </tr>\n",
              "  </tbody>\n",
              "</table>\n",
              "<p>267 rows × 30 columns</p>\n",
              "</div>"
            ],
            "text/plain": [
              "              Timestamp  বয়স : লিঙ্গ :  ...  Age  Sex Religion\n",
              "0      3/4/2021 1:43:42   25.0   পুরুষ  ...  3.0    0        1\n",
              "1      3/4/2021 1:45:25   22.0   পুরুষ  ...  2.0    0        1\n",
              "2      3/4/2021 2:04:13   22.0   মহিলা  ...  2.0    1        1\n",
              "3      3/4/2021 2:53:20   23.0   পুরুষ  ...  2.0    0        1\n",
              "4    3/17/2021 17:57:37   23.0   পুরুষ  ...  2.0    0        1\n",
              "..                  ...    ...     ...  ...  ...  ...      ...\n",
              "262   4/1/2021 12:29:15   22.0   পুরুষ  ...  2.0    0        1\n",
              "263   4/1/2021 13:21:28   23.0   মহিলা  ...  2.0    1        1\n",
              "264   4/1/2021 14:21:55   23.0   মহিলা  ...  2.0    1        1\n",
              "265   4/1/2021 18:33:14   19.0   মহিলা  ...  1.0    1        1\n",
              "266   4/4/2021 19:06:59   22.0   পুরুষ  ...  2.0    0        1\n",
              "\n",
              "[267 rows x 30 columns]"
            ]
          },
          "metadata": {
            "tags": []
          },
          "execution_count": 117
        }
      ]
    },
    {
      "cell_type": "markdown",
      "metadata": {
        "id": "iCkp-4rMom-b"
      },
      "source": [
        "#**Droping all Bangla Columns**"
      ]
    },
    {
      "cell_type": "code",
      "metadata": {
        "id": "1IBC9LcEormO"
      },
      "source": [
        "new_train2 = new_train.drop(['Timestamp','বয়স :','লিঙ্গ :','ধর্ম :','আপনি পড়াশুনার কোন পর্যায়ে আছেন?','আপনার মতে কোনটা আগে?','আপনার বর্তমান আয়ের উৎস কি?','আপনার পরিবারের আয়ের উৎস কি?','আপনার পারিবারিক অবস্থা কি?','আপনি কি যৌথ পরিবারের সদস্য?','আপনার পরিবারের সদস্য সংখ্যা কত?','আপনার বাবা-মা উভয়ই আছেন?','আপনার ভাই-বোন কয় জন?','আপনার ভাই-বোন দের মধ্যে আপনি কত তম ?','আপনার ভাই-বোন এর মধ্যে কয়জন এর বিয়ে হয়েছে?','আপনার বন্ধু-বান্ধবদের মধ্যে কত শতাংশের বিয়ে হয়েছে?','পূর্বে কারো সাথে রিলেশন এ ছিলেন কি?','আপনার বৈবাহিক অবস্থা কি?','আপনি কখন বিয়ে করতে ইচ্ছুক','পরিবার থেকে আপনাকে এই পর্যায়ে বিয়ে দিতে ইচ্ছুক কি না?','আপনি কি রিলেশনশিপ এ আছেন?','যদি রিলেশনশিপ এ থাকেন, পরিবারে তার কথা জানালে বিয়েতে রাজি হবে কি না?','আপনি কত বছর আগে বিয়ে করেছেন?','এরেঞ্জ ম্যারেজ নাকি লাভ ম্যারেজ?','লাভ ম্যারেজ হলে পরিবার থেকে কোন প্রতিবন্ধিকতা ছিল কি না?'], axis = 1)"
      ],
      "execution_count": null,
      "outputs": []
    },
    {
      "cell_type": "code",
      "metadata": {
        "colab": {
          "base_uri": "https://localhost:8080/"
        },
        "id": "ccAxP6FOo5qG",
        "outputId": "5f0e208f-6e0c-4b8d-8828-a67df343cffd"
      },
      "source": [
        "new_train2"
      ],
      "execution_count": null,
      "outputs": [
        {
          "output_type": "execute_result",
          "data": {
            "text/html": [
              "<div>\n",
              "<style scoped>\n",
              "    .dataframe tbody tr th:only-of-type {\n",
              "        vertical-align: middle;\n",
              "    }\n",
              "\n",
              "    .dataframe tbody tr th {\n",
              "        vertical-align: top;\n",
              "    }\n",
              "\n",
              "    .dataframe thead th {\n",
              "        text-align: right;\n",
              "    }\n",
              "</style>\n",
              "<table border=\"1\" class=\"dataframe\">\n",
              "  <thead>\n",
              "    <tr style=\"text-align: right;\">\n",
              "      <th></th>\n",
              "      <th>Priority of marraige in Islam</th>\n",
              "      <th>Age</th>\n",
              "      <th>Sex</th>\n",
              "      <th>Religion</th>\n",
              "      <th>Study Stage</th>\n",
              "      <th>Relationship</th>\n",
              "      <th>Personal Income</th>\n",
              "      <th>Family Income</th>\n",
              "      <th>Family Status</th>\n",
              "      <th>Joint Family</th>\n",
              "      <th>Family Members</th>\n",
              "      <th>Parents alive</th>\n",
              "      <th>Siblings</th>\n",
              "      <th>Married Siblings</th>\n",
              "      <th>Previous relationship</th>\n",
              "      <th>Married status</th>\n",
              "      <th>Target getting married</th>\n",
              "      <th>Family agree on relationship</th>\n",
              "      <th>Arrange/love marriage</th>\n",
              "    </tr>\n",
              "  </thead>\n",
              "  <tbody>\n",
              "    <tr>\n",
              "      <th>0</th>\n",
              "      <td>3</td>\n",
              "      <td>3.0</td>\n",
              "      <td>0</td>\n",
              "      <td>1</td>\n",
              "      <td>2</td>\n",
              "      <td>1.0</td>\n",
              "      <td>0</td>\n",
              "      <td>1</td>\n",
              "      <td>1</td>\n",
              "      <td>0</td>\n",
              "      <td>0</td>\n",
              "      <td>3</td>\n",
              "      <td>1</td>\n",
              "      <td>2</td>\n",
              "      <td>1</td>\n",
              "      <td>0</td>\n",
              "      <td>0.0</td>\n",
              "      <td>1.0</td>\n",
              "      <td>NaN</td>\n",
              "    </tr>\n",
              "    <tr>\n",
              "      <th>1</th>\n",
              "      <td>3</td>\n",
              "      <td>2.0</td>\n",
              "      <td>0</td>\n",
              "      <td>1</td>\n",
              "      <td>1</td>\n",
              "      <td>0.0</td>\n",
              "      <td>1</td>\n",
              "      <td>1</td>\n",
              "      <td>1</td>\n",
              "      <td>1</td>\n",
              "      <td>0</td>\n",
              "      <td>3</td>\n",
              "      <td>2</td>\n",
              "      <td>1</td>\n",
              "      <td>0</td>\n",
              "      <td>0</td>\n",
              "      <td>2.0</td>\n",
              "      <td>0.0</td>\n",
              "      <td>NaN</td>\n",
              "    </tr>\n",
              "    <tr>\n",
              "      <th>2</th>\n",
              "      <td>3</td>\n",
              "      <td>2.0</td>\n",
              "      <td>1</td>\n",
              "      <td>1</td>\n",
              "      <td>4</td>\n",
              "      <td>NaN</td>\n",
              "      <td>1</td>\n",
              "      <td>1</td>\n",
              "      <td>1</td>\n",
              "      <td>1</td>\n",
              "      <td>0</td>\n",
              "      <td>3</td>\n",
              "      <td>1</td>\n",
              "      <td>3</td>\n",
              "      <td>1</td>\n",
              "      <td>1</td>\n",
              "      <td>NaN</td>\n",
              "      <td>NaN</td>\n",
              "      <td>1.0</td>\n",
              "    </tr>\n",
              "    <tr>\n",
              "      <th>3</th>\n",
              "      <td>3</td>\n",
              "      <td>2.0</td>\n",
              "      <td>0</td>\n",
              "      <td>1</td>\n",
              "      <td>2</td>\n",
              "      <td>0.0</td>\n",
              "      <td>0</td>\n",
              "      <td>0</td>\n",
              "      <td>1</td>\n",
              "      <td>0</td>\n",
              "      <td>1</td>\n",
              "      <td>1</td>\n",
              "      <td>2</td>\n",
              "      <td>1</td>\n",
              "      <td>1</td>\n",
              "      <td>1</td>\n",
              "      <td>5.0</td>\n",
              "      <td>1.0</td>\n",
              "      <td>1.0</td>\n",
              "    </tr>\n",
              "    <tr>\n",
              "      <th>4</th>\n",
              "      <td>3</td>\n",
              "      <td>2.0</td>\n",
              "      <td>0</td>\n",
              "      <td>1</td>\n",
              "      <td>2</td>\n",
              "      <td>1.0</td>\n",
              "      <td>0</td>\n",
              "      <td>0</td>\n",
              "      <td>1</td>\n",
              "      <td>0</td>\n",
              "      <td>0</td>\n",
              "      <td>2</td>\n",
              "      <td>1</td>\n",
              "      <td>1</td>\n",
              "      <td>1</td>\n",
              "      <td>0</td>\n",
              "      <td>0.0</td>\n",
              "      <td>0.0</td>\n",
              "      <td>NaN</td>\n",
              "    </tr>\n",
              "    <tr>\n",
              "      <th>...</th>\n",
              "      <td>...</td>\n",
              "      <td>...</td>\n",
              "      <td>...</td>\n",
              "      <td>...</td>\n",
              "      <td>...</td>\n",
              "      <td>...</td>\n",
              "      <td>...</td>\n",
              "      <td>...</td>\n",
              "      <td>...</td>\n",
              "      <td>...</td>\n",
              "      <td>...</td>\n",
              "      <td>...</td>\n",
              "      <td>...</td>\n",
              "      <td>...</td>\n",
              "      <td>...</td>\n",
              "      <td>...</td>\n",
              "      <td>...</td>\n",
              "      <td>...</td>\n",
              "      <td>...</td>\n",
              "    </tr>\n",
              "    <tr>\n",
              "      <th>262</th>\n",
              "      <td>3</td>\n",
              "      <td>2.0</td>\n",
              "      <td>0</td>\n",
              "      <td>1</td>\n",
              "      <td>2</td>\n",
              "      <td>0.0</td>\n",
              "      <td>0</td>\n",
              "      <td>1</td>\n",
              "      <td>1</td>\n",
              "      <td>0</td>\n",
              "      <td>1</td>\n",
              "      <td>3</td>\n",
              "      <td>1</td>\n",
              "      <td>0</td>\n",
              "      <td>1</td>\n",
              "      <td>0</td>\n",
              "      <td>1.0</td>\n",
              "      <td>1.0</td>\n",
              "      <td>NaN</td>\n",
              "    </tr>\n",
              "    <tr>\n",
              "      <th>263</th>\n",
              "      <td>3</td>\n",
              "      <td>2.0</td>\n",
              "      <td>1</td>\n",
              "      <td>1</td>\n",
              "      <td>2</td>\n",
              "      <td>1.0</td>\n",
              "      <td>0</td>\n",
              "      <td>1</td>\n",
              "      <td>1</td>\n",
              "      <td>1</td>\n",
              "      <td>1</td>\n",
              "      <td>3</td>\n",
              "      <td>2</td>\n",
              "      <td>0</td>\n",
              "      <td>1</td>\n",
              "      <td>0</td>\n",
              "      <td>5.0</td>\n",
              "      <td>1.0</td>\n",
              "      <td>NaN</td>\n",
              "    </tr>\n",
              "    <tr>\n",
              "      <th>264</th>\n",
              "      <td>3</td>\n",
              "      <td>2.0</td>\n",
              "      <td>1</td>\n",
              "      <td>1</td>\n",
              "      <td>2</td>\n",
              "      <td>1.0</td>\n",
              "      <td>0</td>\n",
              "      <td>1</td>\n",
              "      <td>1</td>\n",
              "      <td>1</td>\n",
              "      <td>1</td>\n",
              "      <td>3</td>\n",
              "      <td>2</td>\n",
              "      <td>1</td>\n",
              "      <td>1</td>\n",
              "      <td>0</td>\n",
              "      <td>0.0</td>\n",
              "      <td>NaN</td>\n",
              "      <td>NaN</td>\n",
              "    </tr>\n",
              "    <tr>\n",
              "      <th>265</th>\n",
              "      <td>3</td>\n",
              "      <td>1.0</td>\n",
              "      <td>1</td>\n",
              "      <td>1</td>\n",
              "      <td>1</td>\n",
              "      <td>NaN</td>\n",
              "      <td>0</td>\n",
              "      <td>0</td>\n",
              "      <td>1</td>\n",
              "      <td>0</td>\n",
              "      <td>1</td>\n",
              "      <td>1</td>\n",
              "      <td>1</td>\n",
              "      <td>0</td>\n",
              "      <td>1</td>\n",
              "      <td>1</td>\n",
              "      <td>NaN</td>\n",
              "      <td>NaN</td>\n",
              "      <td>2.0</td>\n",
              "    </tr>\n",
              "    <tr>\n",
              "      <th>266</th>\n",
              "      <td>3</td>\n",
              "      <td>2.0</td>\n",
              "      <td>0</td>\n",
              "      <td>1</td>\n",
              "      <td>2</td>\n",
              "      <td>0.0</td>\n",
              "      <td>0</td>\n",
              "      <td>1</td>\n",
              "      <td>1</td>\n",
              "      <td>0</td>\n",
              "      <td>0</td>\n",
              "      <td>3</td>\n",
              "      <td>1</td>\n",
              "      <td>1</td>\n",
              "      <td>0</td>\n",
              "      <td>0</td>\n",
              "      <td>1.0</td>\n",
              "      <td>1.0</td>\n",
              "      <td>NaN</td>\n",
              "    </tr>\n",
              "  </tbody>\n",
              "</table>\n",
              "<p>267 rows × 19 columns</p>\n",
              "</div>"
            ],
            "text/plain": [
              "     Priority of marraige in Islam  ...  Arrange/love marriage\n",
              "0                                3  ...                    NaN\n",
              "1                                3  ...                    NaN\n",
              "2                                3  ...                    1.0\n",
              "3                                3  ...                    1.0\n",
              "4                                3  ...                    NaN\n",
              "..                             ...  ...                    ...\n",
              "262                              3  ...                    NaN\n",
              "263                              3  ...                    NaN\n",
              "264                              3  ...                    NaN\n",
              "265                              3  ...                    2.0\n",
              "266                              3  ...                    NaN\n",
              "\n",
              "[267 rows x 19 columns]"
            ]
          },
          "metadata": {
            "tags": []
          },
          "execution_count": 74
        }
      ]
    },
    {
      "cell_type": "markdown",
      "metadata": {
        "id": "PDhvwX8mr2NX"
      },
      "source": [
        "#**Replacing Nan(empty values) with zero(0)**"
      ]
    },
    {
      "cell_type": "code",
      "metadata": {
        "colab": {
          "base_uri": "https://localhost:8080/"
        },
        "id": "ow10P7PIr_Ce",
        "outputId": "9b8791e5-7eeb-4247-a0d4-9a7c6287b0c0"
      },
      "source": [
        "new_train2.fillna(0)"
      ],
      "execution_count": null,
      "outputs": [
        {
          "output_type": "execute_result",
          "data": {
            "text/html": [
              "<div>\n",
              "<style scoped>\n",
              "    .dataframe tbody tr th:only-of-type {\n",
              "        vertical-align: middle;\n",
              "    }\n",
              "\n",
              "    .dataframe tbody tr th {\n",
              "        vertical-align: top;\n",
              "    }\n",
              "\n",
              "    .dataframe thead th {\n",
              "        text-align: right;\n",
              "    }\n",
              "</style>\n",
              "<table border=\"1\" class=\"dataframe\">\n",
              "  <thead>\n",
              "    <tr style=\"text-align: right;\">\n",
              "      <th></th>\n",
              "      <th>Priority of marraige in Islam</th>\n",
              "      <th>Age</th>\n",
              "      <th>Sex</th>\n",
              "      <th>Religion</th>\n",
              "      <th>Study Stage</th>\n",
              "      <th>Relationship</th>\n",
              "      <th>Personal Income</th>\n",
              "      <th>Family Income</th>\n",
              "      <th>Family Status</th>\n",
              "      <th>Joint Family</th>\n",
              "      <th>Family Members</th>\n",
              "      <th>Parents alive</th>\n",
              "      <th>Siblings</th>\n",
              "      <th>Married Siblings</th>\n",
              "      <th>Previous relationship</th>\n",
              "      <th>Married status</th>\n",
              "      <th>Target getting married</th>\n",
              "      <th>Family agree on relationship</th>\n",
              "      <th>Arrange/love marriage</th>\n",
              "    </tr>\n",
              "  </thead>\n",
              "  <tbody>\n",
              "    <tr>\n",
              "      <th>0</th>\n",
              "      <td>3</td>\n",
              "      <td>3.0</td>\n",
              "      <td>0</td>\n",
              "      <td>1</td>\n",
              "      <td>2</td>\n",
              "      <td>1.0</td>\n",
              "      <td>0</td>\n",
              "      <td>1</td>\n",
              "      <td>1</td>\n",
              "      <td>0</td>\n",
              "      <td>0</td>\n",
              "      <td>3</td>\n",
              "      <td>1</td>\n",
              "      <td>2</td>\n",
              "      <td>1</td>\n",
              "      <td>0</td>\n",
              "      <td>0.0</td>\n",
              "      <td>1.0</td>\n",
              "      <td>0.0</td>\n",
              "    </tr>\n",
              "    <tr>\n",
              "      <th>1</th>\n",
              "      <td>3</td>\n",
              "      <td>2.0</td>\n",
              "      <td>0</td>\n",
              "      <td>1</td>\n",
              "      <td>1</td>\n",
              "      <td>0.0</td>\n",
              "      <td>1</td>\n",
              "      <td>1</td>\n",
              "      <td>1</td>\n",
              "      <td>1</td>\n",
              "      <td>0</td>\n",
              "      <td>3</td>\n",
              "      <td>2</td>\n",
              "      <td>1</td>\n",
              "      <td>0</td>\n",
              "      <td>0</td>\n",
              "      <td>2.0</td>\n",
              "      <td>0.0</td>\n",
              "      <td>0.0</td>\n",
              "    </tr>\n",
              "    <tr>\n",
              "      <th>2</th>\n",
              "      <td>3</td>\n",
              "      <td>2.0</td>\n",
              "      <td>1</td>\n",
              "      <td>1</td>\n",
              "      <td>4</td>\n",
              "      <td>0.0</td>\n",
              "      <td>1</td>\n",
              "      <td>1</td>\n",
              "      <td>1</td>\n",
              "      <td>1</td>\n",
              "      <td>0</td>\n",
              "      <td>3</td>\n",
              "      <td>1</td>\n",
              "      <td>3</td>\n",
              "      <td>1</td>\n",
              "      <td>1</td>\n",
              "      <td>0.0</td>\n",
              "      <td>0.0</td>\n",
              "      <td>1.0</td>\n",
              "    </tr>\n",
              "    <tr>\n",
              "      <th>3</th>\n",
              "      <td>3</td>\n",
              "      <td>2.0</td>\n",
              "      <td>0</td>\n",
              "      <td>1</td>\n",
              "      <td>2</td>\n",
              "      <td>0.0</td>\n",
              "      <td>0</td>\n",
              "      <td>0</td>\n",
              "      <td>1</td>\n",
              "      <td>0</td>\n",
              "      <td>1</td>\n",
              "      <td>1</td>\n",
              "      <td>2</td>\n",
              "      <td>1</td>\n",
              "      <td>1</td>\n",
              "      <td>1</td>\n",
              "      <td>5.0</td>\n",
              "      <td>1.0</td>\n",
              "      <td>1.0</td>\n",
              "    </tr>\n",
              "    <tr>\n",
              "      <th>4</th>\n",
              "      <td>3</td>\n",
              "      <td>2.0</td>\n",
              "      <td>0</td>\n",
              "      <td>1</td>\n",
              "      <td>2</td>\n",
              "      <td>1.0</td>\n",
              "      <td>0</td>\n",
              "      <td>0</td>\n",
              "      <td>1</td>\n",
              "      <td>0</td>\n",
              "      <td>0</td>\n",
              "      <td>2</td>\n",
              "      <td>1</td>\n",
              "      <td>1</td>\n",
              "      <td>1</td>\n",
              "      <td>0</td>\n",
              "      <td>0.0</td>\n",
              "      <td>0.0</td>\n",
              "      <td>0.0</td>\n",
              "    </tr>\n",
              "    <tr>\n",
              "      <th>...</th>\n",
              "      <td>...</td>\n",
              "      <td>...</td>\n",
              "      <td>...</td>\n",
              "      <td>...</td>\n",
              "      <td>...</td>\n",
              "      <td>...</td>\n",
              "      <td>...</td>\n",
              "      <td>...</td>\n",
              "      <td>...</td>\n",
              "      <td>...</td>\n",
              "      <td>...</td>\n",
              "      <td>...</td>\n",
              "      <td>...</td>\n",
              "      <td>...</td>\n",
              "      <td>...</td>\n",
              "      <td>...</td>\n",
              "      <td>...</td>\n",
              "      <td>...</td>\n",
              "      <td>...</td>\n",
              "    </tr>\n",
              "    <tr>\n",
              "      <th>262</th>\n",
              "      <td>3</td>\n",
              "      <td>2.0</td>\n",
              "      <td>0</td>\n",
              "      <td>1</td>\n",
              "      <td>2</td>\n",
              "      <td>0.0</td>\n",
              "      <td>0</td>\n",
              "      <td>1</td>\n",
              "      <td>1</td>\n",
              "      <td>0</td>\n",
              "      <td>1</td>\n",
              "      <td>3</td>\n",
              "      <td>1</td>\n",
              "      <td>0</td>\n",
              "      <td>1</td>\n",
              "      <td>0</td>\n",
              "      <td>1.0</td>\n",
              "      <td>1.0</td>\n",
              "      <td>0.0</td>\n",
              "    </tr>\n",
              "    <tr>\n",
              "      <th>263</th>\n",
              "      <td>3</td>\n",
              "      <td>2.0</td>\n",
              "      <td>1</td>\n",
              "      <td>1</td>\n",
              "      <td>2</td>\n",
              "      <td>1.0</td>\n",
              "      <td>0</td>\n",
              "      <td>1</td>\n",
              "      <td>1</td>\n",
              "      <td>1</td>\n",
              "      <td>1</td>\n",
              "      <td>3</td>\n",
              "      <td>2</td>\n",
              "      <td>0</td>\n",
              "      <td>1</td>\n",
              "      <td>0</td>\n",
              "      <td>5.0</td>\n",
              "      <td>1.0</td>\n",
              "      <td>0.0</td>\n",
              "    </tr>\n",
              "    <tr>\n",
              "      <th>264</th>\n",
              "      <td>3</td>\n",
              "      <td>2.0</td>\n",
              "      <td>1</td>\n",
              "      <td>1</td>\n",
              "      <td>2</td>\n",
              "      <td>1.0</td>\n",
              "      <td>0</td>\n",
              "      <td>1</td>\n",
              "      <td>1</td>\n",
              "      <td>1</td>\n",
              "      <td>1</td>\n",
              "      <td>3</td>\n",
              "      <td>2</td>\n",
              "      <td>1</td>\n",
              "      <td>1</td>\n",
              "      <td>0</td>\n",
              "      <td>0.0</td>\n",
              "      <td>0.0</td>\n",
              "      <td>0.0</td>\n",
              "    </tr>\n",
              "    <tr>\n",
              "      <th>265</th>\n",
              "      <td>3</td>\n",
              "      <td>1.0</td>\n",
              "      <td>1</td>\n",
              "      <td>1</td>\n",
              "      <td>1</td>\n",
              "      <td>0.0</td>\n",
              "      <td>0</td>\n",
              "      <td>0</td>\n",
              "      <td>1</td>\n",
              "      <td>0</td>\n",
              "      <td>1</td>\n",
              "      <td>1</td>\n",
              "      <td>1</td>\n",
              "      <td>0</td>\n",
              "      <td>1</td>\n",
              "      <td>1</td>\n",
              "      <td>0.0</td>\n",
              "      <td>0.0</td>\n",
              "      <td>2.0</td>\n",
              "    </tr>\n",
              "    <tr>\n",
              "      <th>266</th>\n",
              "      <td>3</td>\n",
              "      <td>2.0</td>\n",
              "      <td>0</td>\n",
              "      <td>1</td>\n",
              "      <td>2</td>\n",
              "      <td>0.0</td>\n",
              "      <td>0</td>\n",
              "      <td>1</td>\n",
              "      <td>1</td>\n",
              "      <td>0</td>\n",
              "      <td>0</td>\n",
              "      <td>3</td>\n",
              "      <td>1</td>\n",
              "      <td>1</td>\n",
              "      <td>0</td>\n",
              "      <td>0</td>\n",
              "      <td>1.0</td>\n",
              "      <td>1.0</td>\n",
              "      <td>0.0</td>\n",
              "    </tr>\n",
              "  </tbody>\n",
              "</table>\n",
              "<p>267 rows × 19 columns</p>\n",
              "</div>"
            ],
            "text/plain": [
              "     Priority of marraige in Islam  ...  Arrange/love marriage\n",
              "0                                3  ...                    0.0\n",
              "1                                3  ...                    0.0\n",
              "2                                3  ...                    1.0\n",
              "3                                3  ...                    1.0\n",
              "4                                3  ...                    0.0\n",
              "..                             ...  ...                    ...\n",
              "262                              3  ...                    0.0\n",
              "263                              3  ...                    0.0\n",
              "264                              3  ...                    0.0\n",
              "265                              3  ...                    2.0\n",
              "266                              3  ...                    0.0\n",
              "\n",
              "[267 rows x 19 columns]"
            ]
          },
          "metadata": {
            "tags": []
          },
          "execution_count": 75
        }
      ]
    },
    {
      "cell_type": "markdown",
      "metadata": {
        "id": "ulrxaYMcucte"
      },
      "source": [
        "#**All columns information after converting to english**"
      ]
    },
    {
      "cell_type": "code",
      "metadata": {
        "colab": {
          "base_uri": "https://localhost:8080/"
        },
        "id": "7bbbcVszsIr2",
        "outputId": "da091353-10d6-448a-c47f-8159d543487e"
      },
      "source": [
        "new_train2.info()"
      ],
      "execution_count": null,
      "outputs": [
        {
          "output_type": "stream",
          "text": [
            "<class 'pandas.core.frame.DataFrame'>\n",
            "RangeIndex: 267 entries, 0 to 266\n",
            "Data columns (total 19 columns):\n",
            " #   Column                         Non-Null Count  Dtype  \n",
            "---  ------                         --------------  -----  \n",
            " 0   Priority of marraige in Islam  267 non-null    int64  \n",
            " 1   Age                            266 non-null    float64\n",
            " 2   Sex                            267 non-null    int64  \n",
            " 3   Religion                       267 non-null    int64  \n",
            " 4   Study Stage                    267 non-null    int64  \n",
            " 5   Relationship                   235 non-null    float64\n",
            " 6   Personal Income                267 non-null    int64  \n",
            " 7   Family Income                  267 non-null    int64  \n",
            " 8   Family Status                  267 non-null    int64  \n",
            " 9   Joint Family                   267 non-null    int64  \n",
            " 10  Family Members                 267 non-null    int64  \n",
            " 11  Parents alive                  267 non-null    int64  \n",
            " 12  Siblings                       267 non-null    int64  \n",
            " 13  Married Siblings               267 non-null    int64  \n",
            " 14  Previous relationship          267 non-null    int64  \n",
            " 15  Married status                 267 non-null    int64  \n",
            " 16  Target getting married         235 non-null    float64\n",
            " 17  Family agree on relationship   232 non-null    float64\n",
            " 18  Arrange/love marriage          33 non-null     float64\n",
            "dtypes: float64(5), int64(14)\n",
            "memory usage: 39.8 KB\n"
          ],
          "name": "stdout"
        }
      ]
    },
    {
      "cell_type": "markdown",
      "metadata": {
        "id": "g182alQ5ujXW"
      },
      "source": [
        "#**All data types using .dtypes**"
      ]
    },
    {
      "cell_type": "code",
      "metadata": {
        "colab": {
          "base_uri": "https://localhost:8080/"
        },
        "id": "gzxLHyORtOsP",
        "outputId": "08b68517-8247-4631-c779-796dce95c633"
      },
      "source": [
        "new_train2.dtypes"
      ],
      "execution_count": null,
      "outputs": [
        {
          "output_type": "execute_result",
          "data": {
            "text/plain": [
              "Priority of marraige in Islam      int64\n",
              "Age                              float64\n",
              "Sex                                int64\n",
              "Religion                           int64\n",
              "Study Stage                        int64\n",
              "Relationship                     float64\n",
              "Personal Income                    int64\n",
              "Family Income                      int64\n",
              "Family Status                      int64\n",
              "Joint Family                       int64\n",
              "Family Members                     int64\n",
              "Parents alive                      int64\n",
              "Siblings                           int64\n",
              "Married Siblings                   int64\n",
              "Previous relationship              int64\n",
              "Married status                     int64\n",
              "Target getting married           float64\n",
              "Family agree on relationship     float64\n",
              "Arrange/love marriage            float64\n",
              "dtype: object"
            ]
          },
          "metadata": {
            "tags": []
          },
          "execution_count": 79
        }
      ]
    },
    {
      "cell_type": "code",
      "metadata": {
        "id": "5mUgLJBbuNx-"
      },
      "source": [
        "new_train3 = new_train2.fillna(0)"
      ],
      "execution_count": null,
      "outputs": []
    },
    {
      "cell_type": "markdown",
      "metadata": {
        "id": "yXY63pOZvCQ3"
      },
      "source": [
        "#**Converting float data type to int using .astype(int)**"
      ]
    },
    {
      "cell_type": "code",
      "metadata": {
        "id": "KePL8x_YtRr2"
      },
      "source": [
        "new_train3['Relationship'] = new_train3['Relationship'].astype(int)"
      ],
      "execution_count": null,
      "outputs": []
    },
    {
      "cell_type": "code",
      "metadata": {
        "id": "A1JbUbsIvKev"
      },
      "source": [
        "new_train3['Age'] = new_train3['Age'].astype(int)"
      ],
      "execution_count": null,
      "outputs": []
    },
    {
      "cell_type": "code",
      "metadata": {
        "id": "GxaUGeoHvMU_"
      },
      "source": [
        "new_train3['Target getting married'] = new_train3['Target getting married'].astype(int)"
      ],
      "execution_count": null,
      "outputs": []
    },
    {
      "cell_type": "code",
      "metadata": {
        "id": "V4_qZKgjvMFn"
      },
      "source": [
        "new_train3['Family agree on relationship'] = new_train3['Family agree on relationship'].astype(int)"
      ],
      "execution_count": null,
      "outputs": []
    },
    {
      "cell_type": "code",
      "metadata": {
        "id": "-2M2NNc-vLtu"
      },
      "source": [
        "new_train3['Arrange/love marriage'] = new_train3['Arrange/love marriage'].astype(int)"
      ],
      "execution_count": null,
      "outputs": []
    },
    {
      "cell_type": "code",
      "metadata": {
        "colab": {
          "base_uri": "https://localhost:8080/",
          "height": 442
        },
        "id": "dmknjpuZvjNn",
        "outputId": "44aa0390-4400-49e1-f9bd-89ad4d812ab0"
      },
      "source": [
        "new_train3"
      ],
      "execution_count": null,
      "outputs": [
        {
          "output_type": "execute_result",
          "data": {
            "text/html": [
              "<div>\n",
              "<style scoped>\n",
              "    .dataframe tbody tr th:only-of-type {\n",
              "        vertical-align: middle;\n",
              "    }\n",
              "\n",
              "    .dataframe tbody tr th {\n",
              "        vertical-align: top;\n",
              "    }\n",
              "\n",
              "    .dataframe thead th {\n",
              "        text-align: right;\n",
              "    }\n",
              "</style>\n",
              "<table border=\"1\" class=\"dataframe\">\n",
              "  <thead>\n",
              "    <tr style=\"text-align: right;\">\n",
              "      <th></th>\n",
              "      <th>Priority of marraige in Islam</th>\n",
              "      <th>Age</th>\n",
              "      <th>Sex</th>\n",
              "      <th>Religion</th>\n",
              "      <th>Study Stage</th>\n",
              "      <th>Relationship</th>\n",
              "      <th>Personal Income</th>\n",
              "      <th>Family Income</th>\n",
              "      <th>Family Status</th>\n",
              "      <th>Joint Family</th>\n",
              "      <th>Family Members</th>\n",
              "      <th>Parents alive</th>\n",
              "      <th>Siblings</th>\n",
              "      <th>Married Siblings</th>\n",
              "      <th>Previous relationship</th>\n",
              "      <th>Married status</th>\n",
              "      <th>Target getting married</th>\n",
              "      <th>Family agree on relationship</th>\n",
              "      <th>Arrange/love marriage</th>\n",
              "    </tr>\n",
              "  </thead>\n",
              "  <tbody>\n",
              "    <tr>\n",
              "      <th>0</th>\n",
              "      <td>3</td>\n",
              "      <td>3</td>\n",
              "      <td>0</td>\n",
              "      <td>1</td>\n",
              "      <td>2</td>\n",
              "      <td>1</td>\n",
              "      <td>0</td>\n",
              "      <td>1</td>\n",
              "      <td>1</td>\n",
              "      <td>0</td>\n",
              "      <td>0</td>\n",
              "      <td>3</td>\n",
              "      <td>1</td>\n",
              "      <td>2</td>\n",
              "      <td>1</td>\n",
              "      <td>0</td>\n",
              "      <td>0</td>\n",
              "      <td>1</td>\n",
              "      <td>0</td>\n",
              "    </tr>\n",
              "    <tr>\n",
              "      <th>1</th>\n",
              "      <td>3</td>\n",
              "      <td>2</td>\n",
              "      <td>0</td>\n",
              "      <td>1</td>\n",
              "      <td>1</td>\n",
              "      <td>0</td>\n",
              "      <td>1</td>\n",
              "      <td>1</td>\n",
              "      <td>1</td>\n",
              "      <td>1</td>\n",
              "      <td>0</td>\n",
              "      <td>3</td>\n",
              "      <td>2</td>\n",
              "      <td>1</td>\n",
              "      <td>0</td>\n",
              "      <td>0</td>\n",
              "      <td>2</td>\n",
              "      <td>0</td>\n",
              "      <td>0</td>\n",
              "    </tr>\n",
              "    <tr>\n",
              "      <th>2</th>\n",
              "      <td>3</td>\n",
              "      <td>2</td>\n",
              "      <td>1</td>\n",
              "      <td>1</td>\n",
              "      <td>4</td>\n",
              "      <td>0</td>\n",
              "      <td>1</td>\n",
              "      <td>1</td>\n",
              "      <td>1</td>\n",
              "      <td>1</td>\n",
              "      <td>0</td>\n",
              "      <td>3</td>\n",
              "      <td>1</td>\n",
              "      <td>3</td>\n",
              "      <td>1</td>\n",
              "      <td>1</td>\n",
              "      <td>0</td>\n",
              "      <td>0</td>\n",
              "      <td>1</td>\n",
              "    </tr>\n",
              "    <tr>\n",
              "      <th>3</th>\n",
              "      <td>3</td>\n",
              "      <td>2</td>\n",
              "      <td>0</td>\n",
              "      <td>1</td>\n",
              "      <td>2</td>\n",
              "      <td>0</td>\n",
              "      <td>0</td>\n",
              "      <td>0</td>\n",
              "      <td>1</td>\n",
              "      <td>0</td>\n",
              "      <td>1</td>\n",
              "      <td>1</td>\n",
              "      <td>2</td>\n",
              "      <td>1</td>\n",
              "      <td>1</td>\n",
              "      <td>1</td>\n",
              "      <td>5</td>\n",
              "      <td>1</td>\n",
              "      <td>1</td>\n",
              "    </tr>\n",
              "    <tr>\n",
              "      <th>4</th>\n",
              "      <td>3</td>\n",
              "      <td>2</td>\n",
              "      <td>0</td>\n",
              "      <td>1</td>\n",
              "      <td>2</td>\n",
              "      <td>1</td>\n",
              "      <td>0</td>\n",
              "      <td>0</td>\n",
              "      <td>1</td>\n",
              "      <td>0</td>\n",
              "      <td>0</td>\n",
              "      <td>2</td>\n",
              "      <td>1</td>\n",
              "      <td>1</td>\n",
              "      <td>1</td>\n",
              "      <td>0</td>\n",
              "      <td>0</td>\n",
              "      <td>0</td>\n",
              "      <td>0</td>\n",
              "    </tr>\n",
              "    <tr>\n",
              "      <th>...</th>\n",
              "      <td>...</td>\n",
              "      <td>...</td>\n",
              "      <td>...</td>\n",
              "      <td>...</td>\n",
              "      <td>...</td>\n",
              "      <td>...</td>\n",
              "      <td>...</td>\n",
              "      <td>...</td>\n",
              "      <td>...</td>\n",
              "      <td>...</td>\n",
              "      <td>...</td>\n",
              "      <td>...</td>\n",
              "      <td>...</td>\n",
              "      <td>...</td>\n",
              "      <td>...</td>\n",
              "      <td>...</td>\n",
              "      <td>...</td>\n",
              "      <td>...</td>\n",
              "      <td>...</td>\n",
              "    </tr>\n",
              "    <tr>\n",
              "      <th>262</th>\n",
              "      <td>3</td>\n",
              "      <td>2</td>\n",
              "      <td>0</td>\n",
              "      <td>1</td>\n",
              "      <td>2</td>\n",
              "      <td>0</td>\n",
              "      <td>0</td>\n",
              "      <td>1</td>\n",
              "      <td>1</td>\n",
              "      <td>0</td>\n",
              "      <td>1</td>\n",
              "      <td>3</td>\n",
              "      <td>1</td>\n",
              "      <td>0</td>\n",
              "      <td>1</td>\n",
              "      <td>0</td>\n",
              "      <td>1</td>\n",
              "      <td>1</td>\n",
              "      <td>0</td>\n",
              "    </tr>\n",
              "    <tr>\n",
              "      <th>263</th>\n",
              "      <td>3</td>\n",
              "      <td>2</td>\n",
              "      <td>1</td>\n",
              "      <td>1</td>\n",
              "      <td>2</td>\n",
              "      <td>1</td>\n",
              "      <td>0</td>\n",
              "      <td>1</td>\n",
              "      <td>1</td>\n",
              "      <td>1</td>\n",
              "      <td>1</td>\n",
              "      <td>3</td>\n",
              "      <td>2</td>\n",
              "      <td>0</td>\n",
              "      <td>1</td>\n",
              "      <td>0</td>\n",
              "      <td>5</td>\n",
              "      <td>1</td>\n",
              "      <td>0</td>\n",
              "    </tr>\n",
              "    <tr>\n",
              "      <th>264</th>\n",
              "      <td>3</td>\n",
              "      <td>2</td>\n",
              "      <td>1</td>\n",
              "      <td>1</td>\n",
              "      <td>2</td>\n",
              "      <td>1</td>\n",
              "      <td>0</td>\n",
              "      <td>1</td>\n",
              "      <td>1</td>\n",
              "      <td>1</td>\n",
              "      <td>1</td>\n",
              "      <td>3</td>\n",
              "      <td>2</td>\n",
              "      <td>1</td>\n",
              "      <td>1</td>\n",
              "      <td>0</td>\n",
              "      <td>0</td>\n",
              "      <td>0</td>\n",
              "      <td>0</td>\n",
              "    </tr>\n",
              "    <tr>\n",
              "      <th>265</th>\n",
              "      <td>3</td>\n",
              "      <td>1</td>\n",
              "      <td>1</td>\n",
              "      <td>1</td>\n",
              "      <td>1</td>\n",
              "      <td>0</td>\n",
              "      <td>0</td>\n",
              "      <td>0</td>\n",
              "      <td>1</td>\n",
              "      <td>0</td>\n",
              "      <td>1</td>\n",
              "      <td>1</td>\n",
              "      <td>1</td>\n",
              "      <td>0</td>\n",
              "      <td>1</td>\n",
              "      <td>1</td>\n",
              "      <td>0</td>\n",
              "      <td>0</td>\n",
              "      <td>2</td>\n",
              "    </tr>\n",
              "    <tr>\n",
              "      <th>266</th>\n",
              "      <td>3</td>\n",
              "      <td>2</td>\n",
              "      <td>0</td>\n",
              "      <td>1</td>\n",
              "      <td>2</td>\n",
              "      <td>0</td>\n",
              "      <td>0</td>\n",
              "      <td>1</td>\n",
              "      <td>1</td>\n",
              "      <td>0</td>\n",
              "      <td>0</td>\n",
              "      <td>3</td>\n",
              "      <td>1</td>\n",
              "      <td>1</td>\n",
              "      <td>0</td>\n",
              "      <td>0</td>\n",
              "      <td>1</td>\n",
              "      <td>1</td>\n",
              "      <td>0</td>\n",
              "    </tr>\n",
              "  </tbody>\n",
              "</table>\n",
              "<p>267 rows × 19 columns</p>\n",
              "</div>"
            ],
            "text/plain": [
              "     Priority of marraige in Islam  ...  Arrange/love marriage\n",
              "0                                3  ...                      0\n",
              "1                                3  ...                      0\n",
              "2                                3  ...                      1\n",
              "3                                3  ...                      1\n",
              "4                                3  ...                      0\n",
              "..                             ...  ...                    ...\n",
              "262                              3  ...                      0\n",
              "263                              3  ...                      0\n",
              "264                              3  ...                      0\n",
              "265                              3  ...                      2\n",
              "266                              3  ...                      0\n",
              "\n",
              "[267 rows x 19 columns]"
            ]
          },
          "metadata": {
            "tags": []
          },
          "execution_count": 96
        }
      ]
    },
    {
      "cell_type": "code",
      "metadata": {
        "colab": {
          "base_uri": "https://localhost:8080/"
        },
        "id": "-vBqa-_ovsI3",
        "outputId": "21d4014b-cf77-49bc-ac95-1a8e5a91bbb7"
      },
      "source": [
        "new_train3.dtypes"
      ],
      "execution_count": null,
      "outputs": [
        {
          "output_type": "execute_result",
          "data": {
            "text/plain": [
              "Priority of marraige in Islam    int64\n",
              "Age                              int64\n",
              "Sex                              int64\n",
              "Religion                         int64\n",
              "Study Stage                      int64\n",
              "Relationship                     int64\n",
              "Personal Income                  int64\n",
              "Family Income                    int64\n",
              "Family Status                    int64\n",
              "Joint Family                     int64\n",
              "Family Members                   int64\n",
              "Parents alive                    int64\n",
              "Siblings                         int64\n",
              "Married Siblings                 int64\n",
              "Previous relationship            int64\n",
              "Married status                   int64\n",
              "Target getting married           int64\n",
              "Family agree on relationship     int64\n",
              "Arrange/love marriage            int64\n",
              "dtype: object"
            ]
          },
          "metadata": {
            "tags": []
          },
          "execution_count": 98
        }
      ]
    },
    {
      "cell_type": "markdown",
      "metadata": {
        "id": "VLQ4SpqSvvrE"
      },
      "source": [
        ""
      ]
    },
    {
      "cell_type": "markdown",
      "metadata": {
        "id": "TX_ndsS1yJ6M"
      },
      "source": [
        "#**Data Visualization**"
      ]
    },
    {
      "cell_type": "code",
      "metadata": {
        "id": "7EfSxWlZyNT3"
      },
      "source": [
        "import matplotlib.pyplot as plt\n",
        "%matplotlib inline\n",
        "import seaborn as sns\n",
        "sns.set()"
      ],
      "execution_count": null,
      "outputs": []
    },
    {
      "cell_type": "markdown",
      "metadata": {
        "id": "Av0-7QYZxIQP"
      },
      "source": [
        "#**Bar Chart using different attributes**"
      ]
    },
    {
      "cell_type": "code",
      "metadata": {
        "id": "vJhaKYDjxODn"
      },
      "source": [
        "\n",
        "def bar_chart(feature):\n",
        "    married = new_train3[new_train3['Married status']==1][feature].value_counts()\n",
        "    unmarried = new_train3[new_train3['Married status']==0][feature].value_counts()\n",
        "    df = pd.DataFrame([married,unmarried])\n",
        "    df.index = ['Married','Unmarried']\n",
        "    df.plot(kind='bar',stacked=True, figsize=(10,5))"
      ],
      "execution_count": null,
      "outputs": []
    },
    {
      "cell_type": "markdown",
      "metadata": {
        "id": "GKqoPmLyy49X"
      },
      "source": [
        "Here 0:Male and 1: Female"
      ]
    },
    {
      "cell_type": "code",
      "metadata": {
        "colab": {
          "base_uri": "https://localhost:8080/",
          "height": 371
        },
        "id": "8TqMxMpGyC-n",
        "outputId": "66a77652-8be0-4b9d-cd37-335e8b3f4aea"
      },
      "source": [
        "bar_chart('Sex')"
      ],
      "execution_count": null,
      "outputs": [
        {
          "output_type": "display_data",
          "data": {
            "image/png": "[encoded data removed]",
            "text/plain": [
              "<Figure size 720x360 with 1 Axes>"
            ]
          },
          "metadata": {
            "tags": []
          }
        }
      ]
    },
    {
      "cell_type": "markdown",
      "metadata": {
        "id": "sVtZSaLFzgQf"
      },
      "source": [
        "Here, 1: College , 2:Honours , 3: Masters , 4: Medical , 5:Completed , 6: Incomplete."
      ]
    },
    {
      "cell_type": "code",
      "metadata": {
        "colab": {
          "base_uri": "https://localhost:8080/",
          "height": 371
        },
        "id": "__mjtAVhzE6X",
        "outputId": "cadac03a-3f3c-41a1-cd68-64d53555beda"
      },
      "source": [
        "bar_chart('Study Stage')"
      ],
      "execution_count": null,
      "outputs": [
        {
          "output_type": "display_data",
          "data": {
            "image/png": "[encoded data removed]",
            "text/plain": [
              "<Figure size 720x360 with 1 Axes>"
            ]
          },
          "metadata": {
            "tags": []
          }
        }
      ]
    }
  ]
}
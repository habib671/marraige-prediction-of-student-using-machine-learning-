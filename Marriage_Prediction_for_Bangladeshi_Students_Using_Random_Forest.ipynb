{
  "nbformat": 4,
  "nbformat_minor": 0,
  "metadata": {
    "colab": {
      "name": "Marriage Prediction for Bangladeshi Students Using Random Forest.ipynb",
      "provenance": [],
      "include_colab_link": true
    },
    "kernelspec": {
      "display_name": "Python 3",
      "name": "python3"
    },
    "language_info": {
      "name": "python"
    }
  },
  "cells": [
    {
      "cell_type": "markdown",
      "metadata": {
        "id": "view-in-github",
        "colab_type": "text"
      },
      "source": [
        "<a href=\"https://colab.research.google.com/github/habib671/marraige-prediction-of-student-using-machine-learning-/blob/main/Marriage_Prediction_for_Bangladeshi_Students_Using_Random_Forest.ipynb\" target=\"_parent\"><img src=\"https://colab.research.google.com/assets/colab-badge.svg\" alt=\"Open In Colab\"/></a>"
      ]
    },
    {
      "cell_type": "markdown",
      "metadata": {
        "id": "xqLuLcMHIevM"
      },
      "source": [
        "#***A prediction of marriage probability in student life in Bangladesh***"
      ]
    },
    {
      "cell_type": "markdown",
      "metadata": {
        "id": "FhT7uJjZhTGe"
      },
      "source": [
        "#**Mount the drive and read the Dataset**"
      ]
    },
    {
      "cell_type": "code",
      "metadata": {
        "colab": {
          "base_uri": "https://localhost:8080/"
        },
        "id": "gIuSqS0lhXBl",
        "outputId": "72d35365-9190-429e-dac0-948fb9029c97"
      },
      "source": [
        "from google.colab import drive\n",
        "drive.mount('/content/gdrive')"
      ],
      "execution_count": 1,
      "outputs": [
        {
          "output_type": "stream",
          "text": [
            "Mounted at /content/gdrive\n"
          ],
          "name": "stdout"
        }
      ]
    },
    {
      "cell_type": "code",
      "metadata": {
        "id": "AEaKTRhGhayF"
      },
      "source": [
        "import pandas as pd"
      ],
      "execution_count": 2,
      "outputs": []
    },
    {
      "cell_type": "code",
      "metadata": {
        "id": "DmTy3VwrhgTm"
      },
      "source": [
        "train = pd.read_csv('gdrive/My Drive/AI_Project/mp_dataset.csv')"
      ],
      "execution_count": 3,
      "outputs": []
    },
    {
      "cell_type": "code",
      "metadata": {
        "colab": {
          "base_uri": "https://localhost:8080/",
          "height": 649
        },
        "id": "BQBmQxyghptl",
        "outputId": "65fdc9b2-2eb3-407f-b8ee-4fa795c99d9f"
      },
      "source": [
        "train.head()"
      ],
      "execution_count": 4,
      "outputs": [
        {
          "output_type": "execute_result",
          "data": {
            "text/html": [
              "<div>\n",
              "<style scoped>\n",
              "    .dataframe tbody tr th:only-of-type {\n",
              "        vertical-align: middle;\n",
              "    }\n",
              "\n",
              "    .dataframe tbody tr th {\n",
              "        vertical-align: top;\n",
              "    }\n",
              "\n",
              "    .dataframe thead th {\n",
              "        text-align: right;\n",
              "    }\n",
              "</style>\n",
              "<table border=\"1\" class=\"dataframe\">\n",
              "  <thead>\n",
              "    <tr style=\"text-align: right;\">\n",
              "      <th></th>\n",
              "      <th>Timestamp</th>\n",
              "      <th>বয়স :</th>\n",
              "      <th>লিঙ্গ :</th>\n",
              "      <th>ধর্ম :</th>\n",
              "      <th>ইসলামের দৃষ্টিকোণ অনুযায়ী সামর্থ্য থাকলে যত দ্রুত সম্ভব বিয়ে করে নেয়া উচিত। এর সাথে আপনি কতটুকু সহমত?</th>\n",
              "      <th>আপনি পড়াশুনার কোন পর্যায়ে আছেন?</th>\n",
              "      <th>আপনি কি মাদ্রাসায় পড়াশুনা করেছেন?</th>\n",
              "      <th>আপনার মতে কোনটা আগে?</th>\n",
              "      <th>আপনার বর্তমান আয়ের উৎস কি?</th>\n",
              "      <th>আপনার পরিবারের আয়ের উৎস কি?</th>\n",
              "      <th>আপনার পারিবারিক অবস্থা কি?</th>\n",
              "      <th>আপনি কি যৌথ পরিবারের সদস্য?</th>\n",
              "      <th>আপনার পরিবারের সদস্য সংখ্যা কত?</th>\n",
              "      <th>আপনার বাবা-মা উভয়ই আছেন?</th>\n",
              "      <th>আপনার ভাই-বোন কয় জন?</th>\n",
              "      <th>আপনার ভাই-বোন দের মধ্যে আপনি কত তম ?</th>\n",
              "      <th>আপনার ভাই-বোন এর মধ্যে কয়জন এর বিয়ে হয়েছে?</th>\n",
              "      <th>আপনার বন্ধু-বান্ধবদের মধ্যে কত শতাংশের বিয়ে হয়েছে?</th>\n",
              "      <th>পূর্বে কারো সাথে রিলেশন এ ছিলেন কি?</th>\n",
              "      <th>আপনার বৈবাহিক অবস্থা কি?</th>\n",
              "      <th>আপনি কখন বিয়ে করতে ইচ্ছুক</th>\n",
              "      <th>পরিবার থেকে আপনাকে এই পর্যায়ে বিয়ে দিতে ইচ্ছুক কি না?</th>\n",
              "      <th>আপনি কি রিলেশনশিপ এ আছেন?</th>\n",
              "      <th>যদি রিলেশনশিপ এ থাকেন, পরিবারে তার কথা জানালে বিয়েতে রাজি হবে কি না?</th>\n",
              "      <th>আপনি কত বছর আগে বিয়ে করেছেন?</th>\n",
              "      <th>এরেঞ্জ ম্যারেজ নাকি লাভ ম্যারেজ?</th>\n",
              "      <th>লাভ ম্যারেজ হলে পরিবার থেকে কোন প্রতিবন্ধিকতা ছিল কি না?</th>\n",
              "    </tr>\n",
              "  </thead>\n",
              "  <tbody>\n",
              "    <tr>\n",
              "      <th>0</th>\n",
              "      <td>3/4/2021 1:43:42</td>\n",
              "      <td>25.0</td>\n",
              "      <td>পুরুষ</td>\n",
              "      <td>ইসলাম</td>\n",
              "      <td>3</td>\n",
              "      <td>বিশ্ববিদ্যালয়</td>\n",
              "      <td>না</td>\n",
              "      <td>বিয়ে</td>\n",
              "      <td>বাপের হোটেল</td>\n",
              "      <td>সরকারি চাকরি</td>\n",
              "      <td>মধ্যবিত্ত</td>\n",
              "      <td>না</td>\n",
              "      <td>4</td>\n",
              "      <td>হ্যাঁ, আছেন</td>\n",
              "      <td>2</td>\n",
              "      <td>2</td>\n",
              "      <td>2</td>\n",
              "      <td>90%</td>\n",
              "      <td>হ্যাঁ</td>\n",
              "      <td>অবিবাহিত</td>\n",
              "      <td>এই পর্যায়েই</td>\n",
              "      <td>হ্যাঁ</td>\n",
              "      <td>হ্যাঁ</td>\n",
              "      <td>উভয় পরিবার জানে এবং রাজি</td>\n",
              "      <td>NaN</td>\n",
              "      <td>NaN</td>\n",
              "      <td>NaN</td>\n",
              "    </tr>\n",
              "    <tr>\n",
              "      <th>1</th>\n",
              "      <td>3/4/2021 1:45:25</td>\n",
              "      <td>22.0</td>\n",
              "      <td>পুরুষ</td>\n",
              "      <td>ইসলাম</td>\n",
              "      <td>3</td>\n",
              "      <td>কলেজ</td>\n",
              "      <td>না</td>\n",
              "      <td>ক্যারিয়ার</td>\n",
              "      <td>ফ্রিল্যান্সিং</td>\n",
              "      <td>বেসরকারি চাকরি</td>\n",
              "      <td>মধ্যবিত্ত</td>\n",
              "      <td>হ্যাঁ</td>\n",
              "      <td>3</td>\n",
              "      <td>হ্যাঁ, আছেন</td>\n",
              "      <td>3</td>\n",
              "      <td>2</td>\n",
              "      <td>1</td>\n",
              "      <td>50%</td>\n",
              "      <td>না</td>\n",
              "      <td>অবিবাহিত</td>\n",
              "      <td>চাকরি পাওয়ার পর</td>\n",
              "      <td>হ্যাঁ</td>\n",
              "      <td>না</td>\n",
              "      <td>কোনভাবেই রাজি হবে না</td>\n",
              "      <td>NaN</td>\n",
              "      <td>NaN</td>\n",
              "      <td>NaN</td>\n",
              "    </tr>\n",
              "    <tr>\n",
              "      <th>2</th>\n",
              "      <td>3/4/2021 2:04:13</td>\n",
              "      <td>22.0</td>\n",
              "      <td>মহিলা</td>\n",
              "      <td>ইসলাম</td>\n",
              "      <td>3</td>\n",
              "      <td>মেডিকেল</td>\n",
              "      <td>না</td>\n",
              "      <td>বিয়ে</td>\n",
              "      <td>চাকরি</td>\n",
              "      <td>সরকারি চাকরি</td>\n",
              "      <td>উচ্চ মধ্যবিত্ত</td>\n",
              "      <td>হ্যাঁ</td>\n",
              "      <td>4</td>\n",
              "      <td>হ্যাঁ, আছেন</td>\n",
              "      <td>2</td>\n",
              "      <td>4</td>\n",
              "      <td>3</td>\n",
              "      <td>70%</td>\n",
              "      <td>হ্যাঁ</td>\n",
              "      <td>বিবাহিত</td>\n",
              "      <td>NaN</td>\n",
              "      <td>NaN</td>\n",
              "      <td>NaN</td>\n",
              "      <td>NaN</td>\n",
              "      <td>1.0</td>\n",
              "      <td>লাভ ❤</td>\n",
              "      <td>ছিল, মানিয়ে নিয়েছি 😁</td>\n",
              "    </tr>\n",
              "    <tr>\n",
              "      <th>3</th>\n",
              "      <td>3/4/2021 2:53:20</td>\n",
              "      <td>23.0</td>\n",
              "      <td>পুরুষ</td>\n",
              "      <td>ইসলাম</td>\n",
              "      <td>3</td>\n",
              "      <td>বিশ্ববিদ্যালয়</td>\n",
              "      <td>না</td>\n",
              "      <td>বিয়ে</td>\n",
              "      <td>বাপের হোটেল</td>\n",
              "      <td>কোন আয়ের উৎস নেই</td>\n",
              "      <td>মধ্যবিত্ত</td>\n",
              "      <td>না</td>\n",
              "      <td>6</td>\n",
              "      <td>বাবা নেই</td>\n",
              "      <td>3</td>\n",
              "      <td>1</td>\n",
              "      <td>1</td>\n",
              "      <td>20%</td>\n",
              "      <td>হ্যাঁ</td>\n",
              "      <td>বিধবা / বিপত্নীক</td>\n",
              "      <td>৩ বছর এর মধ্যে</td>\n",
              "      <td>না</td>\n",
              "      <td>না</td>\n",
              "      <td>কোন রিলেশন নেই, এরেঞ্জ ম্যারেজ করার ইচ্ছা</td>\n",
              "      <td>1.0</td>\n",
              "      <td>লাভ ❤</td>\n",
              "      <td>NaN</td>\n",
              "    </tr>\n",
              "    <tr>\n",
              "      <th>4</th>\n",
              "      <td>3/17/2021 17:57:37</td>\n",
              "      <td>23.0</td>\n",
              "      <td>পুরুষ</td>\n",
              "      <td>ইসলাম</td>\n",
              "      <td>3</td>\n",
              "      <td>অনার্স</td>\n",
              "      <td>না</td>\n",
              "      <td>বিয়ে</td>\n",
              "      <td>বাপের হোটেল</td>\n",
              "      <td>কোন আয়ের উৎস নেই</td>\n",
              "      <td>মধ্যবিত্ত</td>\n",
              "      <td>না</td>\n",
              "      <td>4</td>\n",
              "      <td>মা নেই</td>\n",
              "      <td>2</td>\n",
              "      <td>2</td>\n",
              "      <td>1</td>\n",
              "      <td>50%</td>\n",
              "      <td>হ্যাঁ</td>\n",
              "      <td>অবিবাহিত</td>\n",
              "      <td>এই পর্যায়েই</td>\n",
              "      <td>হ্যাঁ</td>\n",
              "      <td>হ্যাঁ</td>\n",
              "      <td>কোনভাবেই রাজি হবে না</td>\n",
              "      <td>NaN</td>\n",
              "      <td>NaN</td>\n",
              "      <td>NaN</td>\n",
              "    </tr>\n",
              "  </tbody>\n",
              "</table>\n",
              "</div>"
            ],
            "text/plain": [
              "            Timestamp  ...  লাভ ম্যারেজ হলে পরিবার থেকে কোন প্রতিবন্ধিকতা ছিল কি না?\n",
              "0    3/4/2021 1:43:42  ...                                                NaN       \n",
              "1    3/4/2021 1:45:25  ...                                                NaN       \n",
              "2    3/4/2021 2:04:13  ...                               ছিল, মানিয়ে নিয়েছি 😁       \n",
              "3    3/4/2021 2:53:20  ...                                                NaN       \n",
              "4  3/17/2021 17:57:37  ...                                                NaN       \n",
              "\n",
              "[5 rows x 27 columns]"
            ]
          },
          "metadata": {
            "tags": []
          },
          "execution_count": 4
        }
      ]
    },
    {
      "cell_type": "markdown",
      "metadata": {
        "id": "AlJ1NX5MiCTD"
      },
      "source": [
        "**Replacing all empty values(NaN) with Zero(0)**"
      ]
    },
    {
      "cell_type": "code",
      "metadata": {
        "id": "gAljas1piIz-"
      },
      "source": [
        "train = train.fillna(0)"
      ],
      "execution_count": 17,
      "outputs": []
    },
    {
      "cell_type": "markdown",
      "metadata": {
        "id": "kWU8ZeVuiPyt"
      },
      "source": [
        "**Number of columns and rows using .shape**"
      ]
    },
    {
      "cell_type": "code",
      "metadata": {
        "colab": {
          "base_uri": "https://localhost:8080/"
        },
        "id": "kgJ_StZNibHd",
        "outputId": "7f392f70-4426-4e8e-a807-b8cd89f8695e"
      },
      "source": [
        "train.shape"
      ],
      "execution_count": 18,
      "outputs": [
        {
          "output_type": "execute_result",
          "data": {
            "text/plain": [
              "(288, 27)"
            ]
          },
          "metadata": {
            "tags": []
          },
          "execution_count": 18
        }
      ]
    },
    {
      "cell_type": "markdown",
      "metadata": {
        "id": "r8ZMfCZBidkG"
      },
      "source": [
        "**All the information from our Dataset using .info()**"
      ]
    },
    {
      "cell_type": "code",
      "metadata": {
        "colab": {
          "base_uri": "https://localhost:8080/"
        },
        "id": "TIYLVOroikuG",
        "outputId": "933fdbd0-dd13-4012-aae3-e8c3e58f7c5a"
      },
      "source": [
        "train.info()"
      ],
      "execution_count": 19,
      "outputs": [
        {
          "output_type": "stream",
          "text": [
            "<class 'pandas.core.frame.DataFrame'>\n",
            "RangeIndex: 288 entries, 0 to 287\n",
            "Data columns (total 27 columns):\n",
            " #   Column                                                                                                 Non-Null Count  Dtype  \n",
            "---  ------                                                                                                 --------------  -----  \n",
            " 0   Timestamp                                                                                              288 non-null    object \n",
            " 1   বয়স :                                                                                                  288 non-null    float64\n",
            " 2   লিঙ্গ :                                                                                                288 non-null    object \n",
            " 3   ধর্ম :                                                                                                 288 non-null    object \n",
            " 4   ইসলামের দৃষ্টিকোণ অনুযায়ী সামর্থ্য থাকলে যত দ্রুত সম্ভব বিয়ে করে নেয়া উচিত। এর সাথে আপনি কতটুকু সহমত?  288 non-null    int64  \n",
            " 5   আপনি পড়াশুনার কোন পর্যায়ে আছেন?                                                                        288 non-null    object \n",
            " 6   আপনি কি মাদ্রাসায় পড়াশুনা করেছেন?                                                                      288 non-null    object \n",
            " 7   আপনার মতে কোনটা আগে?                                                                                   288 non-null    object \n",
            " 8   আপনার বর্তমান আয়ের উৎস কি?                                                                             288 non-null    object \n",
            " 9   আপনার পরিবারের আয়ের উৎস কি?                                                                            288 non-null    object \n",
            " 10  আপনার পারিবারিক অবস্থা কি?                                                                             288 non-null    object \n",
            " 11  আপনি কি যৌথ পরিবারের সদস্য?                                                                            288 non-null    object \n",
            " 12  আপনার পরিবারের সদস্য সংখ্যা কত?                                                                        288 non-null    int64  \n",
            " 13  আপনার বাবা-মা উভয়ই আছেন?                                                                               288 non-null    object \n",
            " 14  আপনার ভাই-বোন কয় জন?                                                                                   288 non-null    int64  \n",
            " 15  আপনার ভাই-বোন দের মধ্যে আপনি কত তম ?                                                                   288 non-null    int64  \n",
            " 16  আপনার ভাই-বোন এর মধ্যে কয়জন এর বিয়ে হয়েছে?                                                             288 non-null    int64  \n",
            " 17  আপনার বন্ধু-বান্ধবদের মধ্যে কত শতাংশের বিয়ে হয়েছে?                                                     288 non-null    object \n",
            " 18  পূর্বে কারো সাথে রিলেশন এ ছিলেন কি?                                                                    288 non-null    object \n",
            " 19  আপনার বৈবাহিক অবস্থা কি?                                                                               288 non-null    object \n",
            " 20  আপনি কখন বিয়ে করতে ইচ্ছুক                                                                              288 non-null    object \n",
            " 21  পরিবার থেকে আপনাকে এই পর্যায়ে বিয়ে দিতে ইচ্ছুক কি না?                                                  288 non-null    object \n",
            " 22  আপনি কি রিলেশনশিপ এ আছেন?                                                                              288 non-null    object \n",
            " 23  যদি রিলেশনশিপ এ থাকেন, পরিবারে তার কথা জানালে বিয়েতে রাজি হবে কি না?                                   288 non-null    object \n",
            " 24  আপনি কত বছর আগে বিয়ে করেছেন?                                                                           288 non-null    float64\n",
            " 25  এরেঞ্জ ম্যারেজ নাকি লাভ ম্যারেজ?                                                                       288 non-null    object \n",
            " 26  লাভ ম্যারেজ হলে পরিবার থেকে কোন প্রতিবন্ধিকতা ছিল কি না?                                               288 non-null    object \n",
            "dtypes: float64(2), int64(5), object(20)\n",
            "memory usage: 60.9+ KB\n"
          ],
          "name": "stdout"
        }
      ]
    },
    {
      "cell_type": "markdown",
      "metadata": {
        "id": "BihUt-_2it81"
      },
      "source": [
        "#**Value count for all the attributes**"
      ]
    },
    {
      "cell_type": "code",
      "metadata": {
        "colab": {
          "base_uri": "https://localhost:8080/"
        },
        "id": "F5UO1dztiyku",
        "outputId": "cbc44f6e-51ae-4a2d-ec78-dc689ca221cd"
      },
      "source": [
        "train['বয়স :'].value_counts()"
      ],
      "execution_count": 20,
      "outputs": [
        {
          "output_type": "execute_result",
          "data": {
            "text/plain": [
              "23.0    69\n",
              "22.0    63\n",
              "24.0    58\n",
              "25.0    32\n",
              "21.0    21\n",
              "20.0    15\n",
              "27.0     7\n",
              "19.0     5\n",
              "18.0     4\n",
              "28.0     4\n",
              "26.0     4\n",
              "17.0     2\n",
              "15.0     1\n",
              "35.0     1\n",
              "32.0     1\n",
              "22.5     1\n",
              "Name: বয়স :, dtype: int64"
            ]
          },
          "metadata": {
            "tags": []
          },
          "execution_count": 20
        }
      ]
    },
    {
      "cell_type": "code",
      "metadata": {
        "colab": {
          "base_uri": "https://localhost:8080/"
        },
        "id": "AYI4XIdnjJd1",
        "outputId": "2a217f9a-2afc-476e-afc2-6738482c7afe"
      },
      "source": [
        "train['লিঙ্গ :'].value_counts()"
      ],
      "execution_count": 21,
      "outputs": [
        {
          "output_type": "execute_result",
          "data": {
            "text/plain": [
              "পুরুষ       234\n",
              "মহিলা        53\n",
              "অন্যান্য      1\n",
              "Name: লিঙ্গ :, dtype: int64"
            ]
          },
          "metadata": {
            "tags": []
          },
          "execution_count": 21
        }
      ]
    },
    {
      "cell_type": "code",
      "metadata": {
        "colab": {
          "base_uri": "https://localhost:8080/"
        },
        "id": "rEgcptr2jNId",
        "outputId": "96da9ead-680d-4050-d249-2628baa910cf"
      },
      "source": [
        "train['ধর্ম :'].value_counts()"
      ],
      "execution_count": 22,
      "outputs": [
        {
          "output_type": "execute_result",
          "data": {
            "text/plain": [
              "ইসলাম        267\n",
              "হিন্দু        17\n",
              "বৌদ্ধ          3\n",
              "খ্রিষ্টান      1\n",
              "Name: ধর্ম :, dtype: int64"
            ]
          },
          "metadata": {
            "tags": []
          },
          "execution_count": 22
        }
      ]
    },
    {
      "cell_type": "code",
      "metadata": {
        "colab": {
          "base_uri": "https://localhost:8080/"
        },
        "id": "dNsXR2q8jO5F",
        "outputId": "dc211cf1-2ca0-4ac7-c4f4-99e5d51f7c0e"
      },
      "source": [
        "train['ইসলামের দৃষ্টিকোণ অনুযায়ী সামর্থ্য থাকলে যত দ্রুত সম্ভব বিয়ে করে নেয়া উচিত। এর সাথে আপনি কতটুকু সহমত?'].value_counts()"
      ],
      "execution_count": 23,
      "outputs": [
        {
          "output_type": "execute_result",
          "data": {
            "text/plain": [
              "3    238\n",
              "2     30\n",
              "0     13\n",
              "1      7\n",
              "Name: ইসলামের দৃষ্টিকোণ অনুযায়ী সামর্থ্য থাকলে যত দ্রুত সম্ভব বিয়ে করে নেয়া উচিত। এর সাথে আপনি কতটুকু সহমত?, dtype: int64"
            ]
          },
          "metadata": {
            "tags": []
          },
          "execution_count": 23
        }
      ]
    },
    {
      "cell_type": "code",
      "metadata": {
        "colab": {
          "base_uri": "https://localhost:8080/"
        },
        "id": "apevnXXvjR8F",
        "outputId": "a4a78db6-39c8-4e2d-b8c4-b801bed1d348"
      },
      "source": [
        "train['আপনি পড়াশুনার কোন পর্যায়ে আছেন?'].value_counts()"
      ],
      "execution_count": 24,
      "outputs": [
        {
          "output_type": "execute_result",
          "data": {
            "text/plain": [
              "অনার্স               221\n",
              "পড়াশুনা শেষ           28\n",
              "মাস্টার্স             16\n",
              "কলেজ                   9\n",
              "পড়াশুনা অসম্পূর্ণ      5\n",
              "মেডিকেল                4\n",
              "ডিপ্লোমা               2\n",
              "বিশ্ববিদ্যালয়          2\n",
              "স্কুল                  1\n",
              "Name: আপনি পড়াশুনার কোন পর্যায়ে আছেন?, dtype: int64"
            ]
          },
          "metadata": {
            "tags": []
          },
          "execution_count": 24
        }
      ]
    },
    {
      "cell_type": "code",
      "metadata": {
        "colab": {
          "base_uri": "https://localhost:8080/"
        },
        "id": "Q01eG8_RjXHd",
        "outputId": "75208510-47c3-4d15-ea94-2a156423ab21"
      },
      "source": [
        "train['আপনি কি মাদ্রাসায় পড়াশুনা করেছেন?'].value_counts()"
      ],
      "execution_count": 25,
      "outputs": [
        {
          "output_type": "execute_result",
          "data": {
            "text/plain": [
              "না       259\n",
              "হ্যাঁ     29\n",
              "Name: আপনি কি মাদ্রাসায় পড়াশুনা করেছেন?, dtype: int64"
            ]
          },
          "metadata": {
            "tags": []
          },
          "execution_count": 25
        }
      ]
    },
    {
      "cell_type": "code",
      "metadata": {
        "colab": {
          "base_uri": "https://localhost:8080/"
        },
        "id": "d5RSbdH7jZGd",
        "outputId": "465a240f-0615-4d22-943c-eab24260098d"
      },
      "source": [
        "train['আপনার মতে কোনটা আগে?'].value_counts()"
      ],
      "execution_count": 26,
      "outputs": [
        {
          "output_type": "execute_result",
          "data": {
            "text/plain": [
              "বিয়ে          141\n",
              "ক্যারিয়ার     138\n",
              "ক্যারিয়ার      7\n",
              "বিয়ে           2\n",
              "Name: আপনার মতে কোনটা আগে?, dtype: int64"
            ]
          },
          "metadata": {
            "tags": []
          },
          "execution_count": 26
        }
      ]
    },
    {
      "cell_type": "code",
      "metadata": {
        "colab": {
          "base_uri": "https://localhost:8080/"
        },
        "id": "HWNo_x8OjcWd",
        "outputId": "1c1f5dc2-f757-440a-ce67-f571e8678e77"
      },
      "source": [
        "train['আপনার বর্তমান আয়ের উৎস কি?'].value_counts()"
      ],
      "execution_count": 27,
      "outputs": [
        {
          "output_type": "execute_result",
          "data": {
            "text/plain": [
              "বাপের হোটেল       193\n",
              "পার্ট টাইম জব      32\n",
              "চাকরি              26\n",
              "ফ্রিল্যান্সিং      19\n",
              "ব্যবসা             10\n",
              "অনলাইন ব্যাবসা      8\n",
              "Name: আপনার বর্তমান আয়ের উৎস কি?, dtype: int64"
            ]
          },
          "metadata": {
            "tags": []
          },
          "execution_count": 27
        }
      ]
    },
    {
      "cell_type": "code",
      "metadata": {
        "colab": {
          "base_uri": "https://localhost:8080/"
        },
        "id": "YLWE8rTNjek1",
        "outputId": "9be372a2-e240-4600-eab0-d8f4512d0254"
      },
      "source": [
        "train['আপনার পরিবারের আয়ের উৎস কি?'].value_counts()"
      ],
      "execution_count": 28,
      "outputs": [
        {
          "output_type": "execute_result",
          "data": {
            "text/plain": [
              "ব্যবসা              83\n",
              "সরকারি চাকরি        81\n",
              "বেসরকারি চাকরি      54\n",
              "অন্যান্য            42\n",
              "কৃষি                14\n",
              "কোন আয়ের উৎস নেই    14\n",
              "Name: আপনার পরিবারের আয়ের উৎস কি?, dtype: int64"
            ]
          },
          "metadata": {
            "tags": []
          },
          "execution_count": 28
        }
      ]
    },
    {
      "cell_type": "code",
      "metadata": {
        "colab": {
          "base_uri": "https://localhost:8080/"
        },
        "id": "Bjg3TggwjiQW",
        "outputId": "199b8974-7669-4955-ce85-350789965cb6"
      },
      "source": [
        "train['আপনার পারিবারিক অবস্থা কি?'].value_counts()"
      ],
      "execution_count": 29,
      "outputs": [
        {
          "output_type": "execute_result",
          "data": {
            "text/plain": [
              "মধ্যবিত্ত          183\n",
              "নিম্ন মধ্যবিত্ত     55\n",
              "উচ্চ মধ্যবিত্ত      43\n",
              "উচ্চবিত্ত            4\n",
              "নিম্নবিত্ত           3\n",
              "Name: আপনার পারিবারিক অবস্থা কি?, dtype: int64"
            ]
          },
          "metadata": {
            "tags": []
          },
          "execution_count": 29
        }
      ]
    },
    {
      "cell_type": "code",
      "metadata": {
        "colab": {
          "base_uri": "https://localhost:8080/"
        },
        "id": "aAHvPQ3GjkPW",
        "outputId": "c667202b-6151-4912-8026-d1e10ca5bc04"
      },
      "source": [
        "train['আপনি কি যৌথ পরিবারের সদস্য?'].value_counts()"
      ],
      "execution_count": 30,
      "outputs": [
        {
          "output_type": "execute_result",
          "data": {
            "text/plain": [
              "না       225\n",
              "হ্যাঁ     63\n",
              "Name: আপনি কি যৌথ পরিবারের সদস্য?, dtype: int64"
            ]
          },
          "metadata": {
            "tags": []
          },
          "execution_count": 30
        }
      ]
    },
    {
      "cell_type": "code",
      "metadata": {
        "colab": {
          "base_uri": "https://localhost:8080/"
        },
        "id": "6sqhB7v3jmzu",
        "outputId": "2c641e70-6298-4f26-98d1-e5bf1695d6a1"
      },
      "source": [
        "train['আপনার পরিবারের সদস্য সংখ্যা কত?'].value_counts()"
      ],
      "execution_count": 31,
      "outputs": [
        {
          "output_type": "execute_result",
          "data": {
            "text/plain": [
              "4     96\n",
              "5     78\n",
              "6     39\n",
              "3     30\n",
              "7     20\n",
              "9      8\n",
              "8      7\n",
              "15     2\n",
              "12     2\n",
              "10     2\n",
              "2      2\n",
              "35     1\n",
              "18     1\n",
              "Name: আপনার পরিবারের সদস্য সংখ্যা কত?, dtype: int64"
            ]
          },
          "metadata": {
            "tags": []
          },
          "execution_count": 31
        }
      ]
    },
    {
      "cell_type": "code",
      "metadata": {
        "colab": {
          "base_uri": "https://localhost:8080/"
        },
        "id": "r94RtToWjou2",
        "outputId": "9a4ca9c1-2dae-44fe-e9f9-9abaa19b3677"
      },
      "source": [
        "train['আপনার বাবা-মা উভয়ই আছেন?'].value_counts()"
      ],
      "execution_count": 32,
      "outputs": [
        {
          "output_type": "execute_result",
          "data": {
            "text/plain": [
              "হ্যাঁ, আছেন    256\n",
              "বাবা নেই        24\n",
              "মা নেই           7\n",
              "উভয়ই নেই         1\n",
              "Name: আপনার বাবা-মা উভয়ই আছেন?, dtype: int64"
            ]
          },
          "metadata": {
            "tags": []
          },
          "execution_count": 32
        }
      ]
    },
    {
      "cell_type": "code",
      "metadata": {
        "colab": {
          "base_uri": "https://localhost:8080/"
        },
        "id": "AvIydr29jqP2",
        "outputId": "4b908960-5b3c-434a-8b2b-53e31b3faa9f"
      },
      "source": [
        "train['আপনার ভাই-বোন কয় জন?'].value_counts()"
      ],
      "execution_count": 33,
      "outputs": [
        {
          "output_type": "execute_result",
          "data": {
            "text/plain": [
              "2     100\n",
              "3      69\n",
              "1      67\n",
              "4      26\n",
              "0      12\n",
              "5       8\n",
              "6       3\n",
              "8       2\n",
              "14      1\n",
              "Name: আপনার ভাই-বোন কয় জন?, dtype: int64"
            ]
          },
          "metadata": {
            "tags": []
          },
          "execution_count": 33
        }
      ]
    },
    {
      "cell_type": "code",
      "metadata": {
        "colab": {
          "base_uri": "https://localhost:8080/"
        },
        "id": "95k1OoKOjrru",
        "outputId": "300fc94a-4313-4305-9bf0-d9b3728782a5"
      },
      "source": [
        "train['আপনার ভাই-বোন দের মধ্যে আপনি কত তম ?'].value_counts()"
      ],
      "execution_count": 34,
      "outputs": [
        {
          "output_type": "execute_result",
          "data": {
            "text/plain": [
              "1     133\n",
              "2      94\n",
              "3      41\n",
              "4      10\n",
              "5       7\n",
              "12      1\n",
              "8       1\n",
              "6       1\n",
              "Name: আপনার ভাই-বোন দের মধ্যে আপনি কত তম ?, dtype: int64"
            ]
          },
          "metadata": {
            "tags": []
          },
          "execution_count": 34
        }
      ]
    },
    {
      "cell_type": "code",
      "metadata": {
        "colab": {
          "base_uri": "https://localhost:8080/"
        },
        "id": "GBXCVae2jt-W",
        "outputId": "0b153bb9-6535-46fe-af7d-e26ccfc9a772"
      },
      "source": [
        "train['আপনার ভাই-বোন এর মধ্যে কয়জন এর বিয়ে হয়েছে?'].value_counts()"
      ],
      "execution_count": 35,
      "outputs": [
        {
          "output_type": "execute_result",
          "data": {
            "text/plain": [
              "0     143\n",
              "1      86\n",
              "2      38\n",
              "3      10\n",
              "4       7\n",
              "7       2\n",
              "10      1\n",
              "5       1\n",
              "Name: আপনার ভাই-বোন এর মধ্যে কয়জন এর বিয়ে হয়েছে?, dtype: int64"
            ]
          },
          "metadata": {
            "tags": []
          },
          "execution_count": 35
        }
      ]
    },
    {
      "cell_type": "code",
      "metadata": {
        "colab": {
          "base_uri": "https://localhost:8080/"
        },
        "id": "yUkJomuCjvfG",
        "outputId": "48a2caad-e2f6-4a05-d2c3-cca2abd5950c"
      },
      "source": [
        "train['আপনার বন্ধু-বান্ধবদের মধ্যে কত শতাংশের বিয়ে হয়েছে?'].value_counts()"
      ],
      "execution_count": 36,
      "outputs": [
        {
          "output_type": "execute_result",
          "data": {
            "text/plain": [
              "10%     107\n",
              "30%      51\n",
              "20%      45\n",
              "40%      31\n",
              "90%      13\n",
              "60%      11\n",
              "50%      11\n",
              "70%       8\n",
              "80%       8\n",
              "100%      3\n",
              "Name: আপনার বন্ধু-বান্ধবদের মধ্যে কত শতাংশের বিয়ে হয়েছে?, dtype: int64"
            ]
          },
          "metadata": {
            "tags": []
          },
          "execution_count": 36
        }
      ]
    },
    {
      "cell_type": "code",
      "metadata": {
        "colab": {
          "base_uri": "https://localhost:8080/"
        },
        "id": "0z0bNhMZjwzW",
        "outputId": "4c322b62-f341-40de-cc2e-9eee24d653e3"
      },
      "source": [
        "train['পূর্বে কারো সাথে রিলেশন এ ছিলেন কি?'].value_counts()"
      ],
      "execution_count": 37,
      "outputs": [
        {
          "output_type": "execute_result",
          "data": {
            "text/plain": [
              "হ্যাঁ    156\n",
              "না       132\n",
              "Name: পূর্বে কারো সাথে রিলেশন এ ছিলেন কি?, dtype: int64"
            ]
          },
          "metadata": {
            "tags": []
          },
          "execution_count": 37
        }
      ]
    },
    {
      "cell_type": "code",
      "metadata": {
        "colab": {
          "base_uri": "https://localhost:8080/"
        },
        "id": "K0EWTM2ijyL9",
        "outputId": "f68839c6-d7ae-447d-9e42-eb3738802b12"
      },
      "source": [
        "train['আপনার বৈবাহিক অবস্থা কি?'].value_counts()"
      ],
      "execution_count": 38,
      "outputs": [
        {
          "output_type": "execute_result",
          "data": {
            "text/plain": [
              "অবিবাহিত            239\n",
              "বিবাহিত              46\n",
              "তালাকপ্রাপ্ত          2\n",
              "বিধবা / বিপত্নীক      1\n",
              "Name: আপনার বৈবাহিক অবস্থা কি?, dtype: int64"
            ]
          },
          "metadata": {
            "tags": []
          },
          "execution_count": 38
        }
      ]
    },
    {
      "cell_type": "code",
      "metadata": {
        "colab": {
          "base_uri": "https://localhost:8080/"
        },
        "id": "Kg_tXDsSj0n9",
        "outputId": "f979f956-3491-4e74-c989-8d74fece5ff0"
      },
      "source": [
        "train['আপনি কখন বিয়ে করতে ইচ্ছুক'].value_counts()"
      ],
      "execution_count": 39,
      "outputs": [
        {
          "output_type": "execute_result",
          "data": {
            "text/plain": [
              "যেকোনো আয়ের উৎস করার পর    64\n",
              "এই পর্যায়েই                57\n",
              "0                          48\n",
              "চাকরি পাওয়ার পর            41\n",
              "৫ বছর এর মধ্যে             26\n",
              "৩ বছর এর মধ্যে             24\n",
              "১ বছর এর মধ্যে             22\n",
              "বাড়ি করার পর                6\n",
              "Name: আপনি কখন বিয়ে করতে ইচ্ছুক, dtype: int64"
            ]
          },
          "metadata": {
            "tags": []
          },
          "execution_count": 39
        }
      ]
    },
    {
      "cell_type": "code",
      "metadata": {
        "colab": {
          "base_uri": "https://localhost:8080/"
        },
        "id": "Fuxh2oebj2KV",
        "outputId": "1911e823-6b4a-4fea-8eaf-48898e1442cd"
      },
      "source": [
        "train['পরিবার থেকে আপনাকে এই পর্যায়ে বিয়ে দিতে ইচ্ছুক কি না?'].value_counts()"
      ],
      "execution_count": 40,
      "outputs": [
        {
          "output_type": "execute_result",
          "data": {
            "text/plain": [
              "না       183\n",
              "হ্যাঁ     57\n",
              "0         48\n",
              "Name: পরিবার থেকে আপনাকে এই পর্যায়ে বিয়ে দিতে ইচ্ছুক কি না?, dtype: int64"
            ]
          },
          "metadata": {
            "tags": []
          },
          "execution_count": 40
        }
      ]
    },
    {
      "cell_type": "code",
      "metadata": {
        "colab": {
          "base_uri": "https://localhost:8080/"
        },
        "id": "N_uFU22xj3vu",
        "outputId": "2ccc44ba-0b8c-4a90-899a-3c4a0bbeb929"
      },
      "source": [
        "train['আপনি কি রিলেশনশিপ এ আছেন?'].value_counts()"
      ],
      "execution_count": 41,
      "outputs": [
        {
          "output_type": "execute_result",
          "data": {
            "text/plain": [
              "না       167\n",
              "হ্যাঁ     73\n",
              "0         48\n",
              "Name: আপনি কি রিলেশনশিপ এ আছেন?, dtype: int64"
            ]
          },
          "metadata": {
            "tags": []
          },
          "execution_count": 41
        }
      ]
    },
    {
      "cell_type": "code",
      "metadata": {
        "colab": {
          "base_uri": "https://localhost:8080/"
        },
        "id": "UisJgIqkj5Y9",
        "outputId": "e06b6a4d-008c-4445-a5f8-02b021e29055"
      },
      "source": [
        "train['যদি রিলেশনশিপ এ থাকেন, পরিবারে তার কথা জানালে বিয়েতে রাজি হবে কি না?'].value_counts()"
      ],
      "execution_count": 42,
      "outputs": [
        {
          "output_type": "execute_result",
          "data": {
            "text/plain": [
              "কোন রিলেশন নেই, এরেঞ্জ ম্যারেজ করার ইচ্ছা    67\n",
              "মনাতে পারব                                   58\n",
              "0                                            48\n",
              "বিয়ে/রিলেশন নিয়ে কোন মাথা ব্যাথা নেই         46\n",
              "কোনভাবেই রাজি হবে না                         33\n",
              "সহজেই রাজি হবে                               22\n",
              "উভয় পরিবার জানে এবং রাজি                     11\n",
              "রাজি হবে না, পালিয়ে বিয়ে করতে ইচ্ছুক          3\n",
              "Name: যদি রিলেশনশিপ এ থাকেন, পরিবারে তার কথা জানালে বিয়েতে রাজি হবে কি না?, dtype: int64"
            ]
          },
          "metadata": {
            "tags": []
          },
          "execution_count": 42
        }
      ]
    },
    {
      "cell_type": "code",
      "metadata": {
        "colab": {
          "base_uri": "https://localhost:8080/"
        },
        "id": "7hQIq39vj8Tl",
        "outputId": "e5d98e6a-6963-48bc-ad3b-bec1ca96e184"
      },
      "source": [
        "train['আপনি কত বছর আগে বিয়ে করেছেন?'].value_counts()"
      ],
      "execution_count": 43,
      "outputs": [
        {
          "output_type": "execute_result",
          "data": {
            "text/plain": [
              "0.0     243\n",
              "1.0      17\n",
              "2.0      12\n",
              "4.0       4\n",
              "3.0       4\n",
              "5.0       3\n",
              "0.3       1\n",
              "8.0       1\n",
              "21.0      1\n",
              "2.5       1\n",
              "12.0      1\n",
              "Name: আপনি কত বছর আগে বিয়ে করেছেন?, dtype: int64"
            ]
          },
          "metadata": {
            "tags": []
          },
          "execution_count": 43
        }
      ]
    },
    {
      "cell_type": "code",
      "metadata": {
        "colab": {
          "base_uri": "https://localhost:8080/"
        },
        "id": "-yBAatHYj-CN",
        "outputId": "e2edff17-24b8-48fe-c1bf-477caa27fd96"
      },
      "source": [
        "train['এরেঞ্জ ম্যারেজ নাকি লাভ ম্যারেজ?'].value_counts()"
      ],
      "execution_count": 44,
      "outputs": [
        {
          "output_type": "execute_result",
          "data": {
            "text/plain": [
              "0         239\n",
              "লাভ ❤      32\n",
              "এরেঞ্জ     17\n",
              "Name: এরেঞ্জ ম্যারেজ নাকি লাভ ম্যারেজ?, dtype: int64"
            ]
          },
          "metadata": {
            "tags": []
          },
          "execution_count": 44
        }
      ]
    },
    {
      "cell_type": "code",
      "metadata": {
        "colab": {
          "base_uri": "https://localhost:8080/"
        },
        "id": "FpRvE-Mcj_hd",
        "outputId": "c7236671-fbbf-4f6d-8a30-42e16274c79a"
      },
      "source": [
        "train['লাভ ম্যারেজ হলে পরিবার থেকে কোন প্রতিবন্ধিকতা ছিল কি না?'].value_counts()"
      ],
      "execution_count": 45,
      "outputs": [
        {
          "output_type": "execute_result",
          "data": {
            "text/plain": [
              "0                                 252\n",
              "ছিল, মানিয়ে নিয়েছি 😁               16\n",
              "না, মেনে নিয়েছে                    14\n",
              "ছিল, পরিবার কে না জানিয়ে করেছি      6\n",
              "Name: লাভ ম্যারেজ হলে পরিবার থেকে কোন প্রতিবন্ধিকতা ছিল কি না?, dtype: int64"
            ]
          },
          "metadata": {
            "tags": []
          },
          "execution_count": 45
        }
      ]
    },
    {
      "cell_type": "markdown",
      "metadata": {
        "id": "CC8SM3EqMo4J"
      },
      "source": [
        "#***Data Preprocessing***"
      ]
    },
    {
      "cell_type": "markdown",
      "metadata": {
        "id": "bScavtZKkSEG"
      },
      "source": [
        "##**Translating to English and assigning Numeric Values**"
      ]
    },
    {
      "cell_type": "code",
      "metadata": {
        "id": "ZBgwmzgIlSEG"
      },
      "source": [
        "train_data = [train]\n",
        "age = {15.0:0, 17.0:0, 18.0:0, 19.0:1, 20.0:1, 21.0:1, 22.0:2, 22.5:2, 23.0:2, 24.0:2, 25.0:3, 26.0:3, 27.0:3, 28.0:4, 32.0:4, 35.0 :4}\n",
        "for new_train in train_data:\n",
        "    new_train['Age'] = new_train['বয়স :'].map(age)"
      ],
      "execution_count": 46,
      "outputs": []
    },
    {
      "cell_type": "code",
      "metadata": {
        "id": "88VAkCnOvGah"
      },
      "source": [
        "train_df = [new_train]\n",
        "sex = {\"পুরুষ\": 0, \"মহিলা\": 1, \"অন্যান্য\": 1}\n",
        "for new_df in train_df:\n",
        "    new_df['Sex'] = new_df['লিঙ্গ :'].map(sex)"
      ],
      "execution_count": 47,
      "outputs": []
    },
    {
      "cell_type": "code",
      "metadata": {
        "id": "PTCkTbk1mri-"
      },
      "source": [
        "train_df = [new_train]\n",
        "religion = {\"ইসলাম\":1,\"হিন্দু\":2,\"বৌদ্ধ\":3,\"খ্রিষ্টান\":4}\n",
        "for new_df in train_df:\n",
        "    new_df['Religion'] = new_df['ধর্ম :'].map(religion)"
      ],
      "execution_count": 48,
      "outputs": []
    },
    {
      "cell_type": "code",
      "metadata": {
        "id": "p3roHkKxmuL-"
      },
      "source": [
        "new_train = new_train.rename(columns={'ইসলামের দৃষ্টিকোণ অনুযায়ী সামর্থ্য থাকলে যত দ্রুত সম্ভব বিয়ে করে নেয়া উচিত। এর সাথে আপনি কতটুকু সহমত?': 'Priority of marraige in Islam'})"
      ],
      "execution_count": 49,
      "outputs": []
    },
    {
      "cell_type": "code",
      "metadata": {
        "id": "WtkfNKVdm602"
      },
      "source": [
        "train_df = [new_train]\n",
        "study = {\"স্কুল\":0,\"কলেজ\":1, \"ডিপ্লোমা\":1, \"অনার্স\":2, \"বিশ্ববিদ্যালয়\":2, \"মাস্টার্স\":3, \"মেডিকেল\":4, \"পড়াশুনা শেষ\":5, \"পড়াশুনা অসম্পূর্ণ\":6}\n",
        "for new_df in train_df:\n",
        "    new_df['Study Stage'] = new_df['আপনি পড়াশুনার কোন পর্যায়ে আছেন?'].map(study)"
      ],
      "execution_count": 50,
      "outputs": []
    },
    {
      "cell_type": "code",
      "metadata": {
        "id": "A98rNRAvnLR0"
      },
      "source": [
        ""
      ],
      "execution_count": 50,
      "outputs": []
    },
    {
      "cell_type": "code",
      "metadata": {
        "id": "t3rnoSgFnCTW"
      },
      "source": [
        "train_df = [new_train]\n",
        "study = {\"না\":0, \"হ্যাঁ\":1}\n",
        "for new_df in train_df:\n",
        "    new_df['Madrasa student'] = new_df['আপনি কি মাদ্রাসায় পড়াশুনা করেছেন?'].map(study)"
      ],
      "execution_count": 51,
      "outputs": []
    },
    {
      "cell_type": "code",
      "metadata": {
        "id": "quUGao6sGcpN"
      },
      "source": [
        "train_df = [new_train]\n",
        "pers = {0:0,\"ক্যারিয়ার\":0,\"ক্যারিয়ার\":0,\"বিয়ে\":1,\"বিয়ে\":1}\n",
        "for new_df in train_df:\n",
        "    new_df['Career/Marriage'] = new_df['আপনার মতে কোনটা আগে?'].map(pers)"
      ],
      "execution_count": 52,
      "outputs": []
    },
    {
      "cell_type": "code",
      "metadata": {
        "id": "L9Ps0eCUnYJG"
      },
      "source": [
        "train_df = [new_train]\n",
        "pers = {\"বাপের হোটেল\":0, \"অনলাইন ব্যাবসা\":2, \"ব্যবসা\":2, \"ফ্রিল্যান্সিং\":2, \"চাকরি\":1, \"পার্ট টাইম জব\":1}\n",
        "for new_df in train_df:\n",
        "    new_df['Personal Income'] = new_df['আপনার বর্তমান আয়ের উৎস কি?'].map(pers)"
      ],
      "execution_count": 53,
      "outputs": []
    },
    {
      "cell_type": "code",
      "metadata": {
        "id": "mM-ZZyaJne62"
      },
      "source": [
        "train_df = [new_train]\n",
        "pers = {\"ব্যবসা\":2, \"সরকারি চাকরি\":1, \"বেসরকারি চাকরি\":1, \"অন্যান্য\":3, \"কৃষি\":2, \"কোন আয়ের উৎস নেই\":0}\n",
        "for new_df in train_df:\n",
        "    new_df['Family Income'] = new_df['আপনার পরিবারের আয়ের উৎস কি?'].map(pers)"
      ],
      "execution_count": 54,
      "outputs": []
    },
    {
      "cell_type": "code",
      "metadata": {
        "id": "_Ky7d2P8nh4F"
      },
      "source": [
        "train_df = [new_train]\n",
        "pers = {\"নিম্নবিত্ত\":0, \"নিম্ন মধ্যবিত্ত\":0, \"মধ্যবিত্ত\":1, \"উচ্চ মধ্যবিত্ত\":2, \"উচ্চবিত্ত\":2}\n",
        "for new_df in train_df:\n",
        "    new_df['Family Status'] = new_df['আপনার পারিবারিক অবস্থা কি?'].map(pers)"
      ],
      "execution_count": 55,
      "outputs": []
    },
    {
      "cell_type": "code",
      "metadata": {
        "id": "D1p92VDgnlZm"
      },
      "source": [
        "train_df = [new_train]\n",
        "pers = {\"হ্যাঁ\":1, \"না\":0}\n",
        "for new_df in train_df:\n",
        "    new_df['Joint Family'] = new_df['আপনি কি যৌথ পরিবারের সদস্য?'].map(pers)"
      ],
      "execution_count": 56,
      "outputs": []
    },
    {
      "cell_type": "code",
      "metadata": {
        "id": "XEODZO_YnxBG"
      },
      "source": [
        "train_df = [new_train]\n",
        "pers = {2:0,3:0,4:0,5:1,6:1,7:1,8:2,9:2,10:2,12:3,15:3,18:3,35:3}\n",
        "for new_df in train_df:\n",
        "    new_df['Family Members'] = new_df['আপনার পরিবারের সদস্য সংখ্যা কত?'].map(pers)"
      ],
      "execution_count": 57,
      "outputs": []
    },
    {
      "cell_type": "code",
      "metadata": {
        "id": "gkG2PS9Pnzf3"
      },
      "source": [
        "train_df = [new_train]\n",
        "pers = {\"হ্যাঁ, আছেন\":3, \"বাবা নেই\":1, \"মা নেই\": 2, \"উভয়ই নেই\":0}\n",
        "for new_df in train_df:\n",
        "    new_df['Parents alive'] = new_df['আপনার বাবা-মা উভয়ই আছেন?'].map(pers)"
      ],
      "execution_count": 58,
      "outputs": []
    },
    {
      "cell_type": "code",
      "metadata": {
        "id": "nzLuqlBKn1W2"
      },
      "source": [
        "train_df = [new_train]\n",
        "pers = {0:0,1:1,2:1,3:2,4:2,5:3,6:3,7:4,8:4,9:4,14:4}\n",
        "for new_df in train_df:\n",
        "    new_df['Siblings'] = new_df['আপনার ভাই-বোন কয় জন?'].map(pers)"
      ],
      "execution_count": 59,
      "outputs": []
    },
    {
      "cell_type": "code",
      "metadata": {
        "id": "FjthR_Bgn3Zg"
      },
      "source": [
        "train_df = [new_train]\n",
        "pers = {0:0,00:0,0:0,1:1,1:1,2:2,3:3,4:4,5:4,7:5,10:5,14:5}\n",
        "for new_df in train_df:\n",
        "    new_df['Married Siblings'] = new_df['আপনার ভাই-বোন এর মধ্যে কয়জন এর বিয়ে হয়েছে?'].map(pers)"
      ],
      "execution_count": 60,
      "outputs": []
    },
    {
      "cell_type": "code",
      "metadata": {
        "id": "IRHOHkTyn44-"
      },
      "source": [
        "train_df = [new_train]\n",
        "pers = {\"হ্যাঁ\":1,\"না\":0,0:0}\n",
        "for new_df in train_df:\n",
        "    new_df['Previous relationship'] = new_df['পূর্বে কারো সাথে রিলেশন এ ছিলেন কি?'].map(pers)"
      ],
      "execution_count": 61,
      "outputs": []
    },
    {
      "cell_type": "code",
      "metadata": {
        "id": "3OP990kIn-2W"
      },
      "source": [
        "train_df = [new_train]\n",
        "pers = {\"অবিবাহিত\":0,\"বিবাহিত\":1,\"তালাকপ্রাপ্ত\":1,\"বিধবা / বিপত্নীক\":1}\n",
        "for new_df in train_df:\n",
        "    new_df['Married status'] = new_df['আপনার বৈবাহিক অবস্থা কি?'].map(pers)"
      ],
      "execution_count": 62,
      "outputs": []
    },
    {
      "cell_type": "code",
      "metadata": {
        "id": "2LeOexIDoBn_"
      },
      "source": [
        "train_df = [new_train]\n",
        "pers = {0:0,\"এই পর্যায়েই\":0,\"যেকোনো আয়ের উৎস করার পর\":1,\"চাকরি পাওয়ার পর\":2,\"বাড়ি করার পর\":3, \"১ বছর এর মধ্যে\":4,\"৩ বছর এর মধ্যে\":5,\"৫ বছর এর মধ্যে\":6}\n",
        "for new_df in train_df:\n",
        "    new_df['Target getting married'] = new_df['আপনি কখন বিয়ে করতে ইচ্ছুক'].map(pers)"
      ],
      "execution_count": 63,
      "outputs": []
    },
    {
      "cell_type": "code",
      "metadata": {
        "id": "jwH5MXwN-R9i"
      },
      "source": [
        "train_df = [new_train]\n",
        "relationship = {\"হ্যাঁ\":1,\"না\":0,0:0}\n",
        "for new_df in train_df:\n",
        "    new_df['Current Relationship'] = new_df['আপনি কি রিলেশনশিপ এ আছেন?'].map(relationship)"
      ],
      "execution_count": 64,
      "outputs": []
    },
    {
      "cell_type": "code",
      "metadata": {
        "id": "0X_9taGooDyW"
      },
      "source": [
        "train_df = [new_train]\n",
        "pers = {0:0,\"বিয়ে/রিলেশন নিয়ে কোন মাথা ব্যাথা নেই\":0,\"কোন রিলেশন নেই, এরেঞ্জ ম্যারেজ করার ইচ্ছা\":0,\"মনাতে পারব\":2,\"সহজেই রাজি হবে\":2,\"উভয় পরিবার জানে এবং রাজি\":2,\"কোনভাবেই রাজি হবে না\":1,\"রাজি হবে না, পালিয়ে বিয়ে করতে ইচ্ছুক\":1}\n",
        "for new_df in train_df:\n",
        "    new_df['Family agree on relationship'] = new_df['যদি রিলেশনশিপ এ থাকেন, পরিবারে তার কথা জানালে বিয়েতে রাজি হবে কি না?'].map(pers)"
      ],
      "execution_count": 65,
      "outputs": []
    },
    {
      "cell_type": "code",
      "metadata": {
        "id": "qp981nYUoFum"
      },
      "source": [
        "train_df = [new_train]\n",
        "pers = {0:0,\"লাভ ❤\":1,\"এরেঞ্জ\":2}\n",
        "for new_df in train_df:\n",
        "    new_df['Arrange/love marriage'] = new_df['এরেঞ্জ ম্যারেজ নাকি লাভ ম্যারেজ?'].map(pers)"
      ],
      "execution_count": 66,
      "outputs": []
    },
    {
      "cell_type": "code",
      "metadata": {
        "id": "Xwa_u4pjJI0-"
      },
      "source": [
        "train_df = [new_train]\n",
        "pers = {0:1,\"ছিল, মানিয়ে নিয়েছি 😁\":0,\"ছিল, পরিবার কে না জানিয়ে করেছি\":1,\"না, মেনে নিয়েছে\":0}\n",
        "for new_df in train_df:\n",
        "    new_df['Difficulty in love marriage'] = new_df['লাভ ম্যারেজ হলে পরিবার থেকে কোন প্রতিবন্ধিকতা ছিল কি না?'].map(pers)"
      ],
      "execution_count": 67,
      "outputs": []
    },
    {
      "cell_type": "code",
      "metadata": {
        "colab": {
          "base_uri": "https://localhost:8080/",
          "height": 864
        },
        "id": "vskQwwOZBJ2a",
        "outputId": "eda34fd5-52c2-42bb-de75-496f0fd550bd"
      },
      "source": [
        "new_train"
      ],
      "execution_count": 68,
      "outputs": [
        {
          "output_type": "execute_result",
          "data": {
            "text/html": [
              "<div>\n",
              "<style scoped>\n",
              "    .dataframe tbody tr th:only-of-type {\n",
              "        vertical-align: middle;\n",
              "    }\n",
              "\n",
              "    .dataframe tbody tr th {\n",
              "        vertical-align: top;\n",
              "    }\n",
              "\n",
              "    .dataframe thead th {\n",
              "        text-align: right;\n",
              "    }\n",
              "</style>\n",
              "<table border=\"1\" class=\"dataframe\">\n",
              "  <thead>\n",
              "    <tr style=\"text-align: right;\">\n",
              "      <th></th>\n",
              "      <th>Timestamp</th>\n",
              "      <th>বয়স :</th>\n",
              "      <th>লিঙ্গ :</th>\n",
              "      <th>ধর্ম :</th>\n",
              "      <th>Priority of marraige in Islam</th>\n",
              "      <th>আপনি পড়াশুনার কোন পর্যায়ে আছেন?</th>\n",
              "      <th>আপনি কি মাদ্রাসায় পড়াশুনা করেছেন?</th>\n",
              "      <th>আপনার মতে কোনটা আগে?</th>\n",
              "      <th>আপনার বর্তমান আয়ের উৎস কি?</th>\n",
              "      <th>আপনার পরিবারের আয়ের উৎস কি?</th>\n",
              "      <th>আপনার পারিবারিক অবস্থা কি?</th>\n",
              "      <th>আপনি কি যৌথ পরিবারের সদস্য?</th>\n",
              "      <th>আপনার পরিবারের সদস্য সংখ্যা কত?</th>\n",
              "      <th>আপনার বাবা-মা উভয়ই আছেন?</th>\n",
              "      <th>আপনার ভাই-বোন কয় জন?</th>\n",
              "      <th>আপনার ভাই-বোন দের মধ্যে আপনি কত তম ?</th>\n",
              "      <th>আপনার ভাই-বোন এর মধ্যে কয়জন এর বিয়ে হয়েছে?</th>\n",
              "      <th>আপনার বন্ধু-বান্ধবদের মধ্যে কত শতাংশের বিয়ে হয়েছে?</th>\n",
              "      <th>পূর্বে কারো সাথে রিলেশন এ ছিলেন কি?</th>\n",
              "      <th>আপনার বৈবাহিক অবস্থা কি?</th>\n",
              "      <th>আপনি কখন বিয়ে করতে ইচ্ছুক</th>\n",
              "      <th>পরিবার থেকে আপনাকে এই পর্যায়ে বিয়ে দিতে ইচ্ছুক কি না?</th>\n",
              "      <th>আপনি কি রিলেশনশিপ এ আছেন?</th>\n",
              "      <th>যদি রিলেশনশিপ এ থাকেন, পরিবারে তার কথা জানালে বিয়েতে রাজি হবে কি না?</th>\n",
              "      <th>আপনি কত বছর আগে বিয়ে করেছেন?</th>\n",
              "      <th>এরেঞ্জ ম্যারেজ নাকি লাভ ম্যারেজ?</th>\n",
              "      <th>লাভ ম্যারেজ হলে পরিবার থেকে কোন প্রতিবন্ধিকতা ছিল কি না?</th>\n",
              "      <th>Age</th>\n",
              "      <th>Sex</th>\n",
              "      <th>Religion</th>\n",
              "      <th>Study Stage</th>\n",
              "      <th>Madrasa student</th>\n",
              "      <th>Career/Marriage</th>\n",
              "      <th>Personal Income</th>\n",
              "      <th>Family Income</th>\n",
              "      <th>Family Status</th>\n",
              "      <th>Joint Family</th>\n",
              "      <th>Family Members</th>\n",
              "      <th>Parents alive</th>\n",
              "      <th>Siblings</th>\n",
              "      <th>Married Siblings</th>\n",
              "      <th>Previous relationship</th>\n",
              "      <th>Married status</th>\n",
              "      <th>Target getting married</th>\n",
              "      <th>Current Relationship</th>\n",
              "      <th>Family agree on relationship</th>\n",
              "      <th>Arrange/love marriage</th>\n",
              "      <th>Difficulty in love marriage</th>\n",
              "    </tr>\n",
              "  </thead>\n",
              "  <tbody>\n",
              "    <tr>\n",
              "      <th>0</th>\n",
              "      <td>3/4/2021 1:43:42</td>\n",
              "      <td>25.0</td>\n",
              "      <td>পুরুষ</td>\n",
              "      <td>ইসলাম</td>\n",
              "      <td>3</td>\n",
              "      <td>বিশ্ববিদ্যালয়</td>\n",
              "      <td>না</td>\n",
              "      <td>বিয়ে</td>\n",
              "      <td>বাপের হোটেল</td>\n",
              "      <td>সরকারি চাকরি</td>\n",
              "      <td>মধ্যবিত্ত</td>\n",
              "      <td>না</td>\n",
              "      <td>4</td>\n",
              "      <td>হ্যাঁ, আছেন</td>\n",
              "      <td>2</td>\n",
              "      <td>2</td>\n",
              "      <td>2</td>\n",
              "      <td>90%</td>\n",
              "      <td>হ্যাঁ</td>\n",
              "      <td>অবিবাহিত</td>\n",
              "      <td>এই পর্যায়েই</td>\n",
              "      <td>হ্যাঁ</td>\n",
              "      <td>হ্যাঁ</td>\n",
              "      <td>উভয় পরিবার জানে এবং রাজি</td>\n",
              "      <td>0.0</td>\n",
              "      <td>0</td>\n",
              "      <td>0</td>\n",
              "      <td>3</td>\n",
              "      <td>0</td>\n",
              "      <td>1</td>\n",
              "      <td>2</td>\n",
              "      <td>0</td>\n",
              "      <td>1</td>\n",
              "      <td>0</td>\n",
              "      <td>1</td>\n",
              "      <td>1</td>\n",
              "      <td>0</td>\n",
              "      <td>0</td>\n",
              "      <td>3</td>\n",
              "      <td>1</td>\n",
              "      <td>2</td>\n",
              "      <td>1</td>\n",
              "      <td>0</td>\n",
              "      <td>0</td>\n",
              "      <td>1</td>\n",
              "      <td>2</td>\n",
              "      <td>0</td>\n",
              "      <td>1</td>\n",
              "    </tr>\n",
              "    <tr>\n",
              "      <th>1</th>\n",
              "      <td>3/4/2021 1:45:25</td>\n",
              "      <td>22.0</td>\n",
              "      <td>পুরুষ</td>\n",
              "      <td>ইসলাম</td>\n",
              "      <td>3</td>\n",
              "      <td>কলেজ</td>\n",
              "      <td>না</td>\n",
              "      <td>ক্যারিয়ার</td>\n",
              "      <td>ফ্রিল্যান্সিং</td>\n",
              "      <td>বেসরকারি চাকরি</td>\n",
              "      <td>মধ্যবিত্ত</td>\n",
              "      <td>হ্যাঁ</td>\n",
              "      <td>3</td>\n",
              "      <td>হ্যাঁ, আছেন</td>\n",
              "      <td>3</td>\n",
              "      <td>2</td>\n",
              "      <td>1</td>\n",
              "      <td>50%</td>\n",
              "      <td>না</td>\n",
              "      <td>অবিবাহিত</td>\n",
              "      <td>চাকরি পাওয়ার পর</td>\n",
              "      <td>হ্যাঁ</td>\n",
              "      <td>না</td>\n",
              "      <td>কোনভাবেই রাজি হবে না</td>\n",
              "      <td>0.0</td>\n",
              "      <td>0</td>\n",
              "      <td>0</td>\n",
              "      <td>2</td>\n",
              "      <td>0</td>\n",
              "      <td>1</td>\n",
              "      <td>1</td>\n",
              "      <td>0</td>\n",
              "      <td>0</td>\n",
              "      <td>2</td>\n",
              "      <td>1</td>\n",
              "      <td>1</td>\n",
              "      <td>1</td>\n",
              "      <td>0</td>\n",
              "      <td>3</td>\n",
              "      <td>2</td>\n",
              "      <td>1</td>\n",
              "      <td>0</td>\n",
              "      <td>0</td>\n",
              "      <td>2</td>\n",
              "      <td>0</td>\n",
              "      <td>1</td>\n",
              "      <td>0</td>\n",
              "      <td>1</td>\n",
              "    </tr>\n",
              "    <tr>\n",
              "      <th>2</th>\n",
              "      <td>3/4/2021 2:04:13</td>\n",
              "      <td>22.0</td>\n",
              "      <td>মহিলা</td>\n",
              "      <td>ইসলাম</td>\n",
              "      <td>3</td>\n",
              "      <td>মেডিকেল</td>\n",
              "      <td>না</td>\n",
              "      <td>বিয়ে</td>\n",
              "      <td>চাকরি</td>\n",
              "      <td>সরকারি চাকরি</td>\n",
              "      <td>উচ্চ মধ্যবিত্ত</td>\n",
              "      <td>হ্যাঁ</td>\n",
              "      <td>4</td>\n",
              "      <td>হ্যাঁ, আছেন</td>\n",
              "      <td>2</td>\n",
              "      <td>4</td>\n",
              "      <td>3</td>\n",
              "      <td>70%</td>\n",
              "      <td>হ্যাঁ</td>\n",
              "      <td>বিবাহিত</td>\n",
              "      <td>0</td>\n",
              "      <td>0</td>\n",
              "      <td>0</td>\n",
              "      <td>0</td>\n",
              "      <td>1.0</td>\n",
              "      <td>লাভ ❤</td>\n",
              "      <td>ছিল, মানিয়ে নিয়েছি 😁</td>\n",
              "      <td>2</td>\n",
              "      <td>1</td>\n",
              "      <td>1</td>\n",
              "      <td>4</td>\n",
              "      <td>0</td>\n",
              "      <td>1</td>\n",
              "      <td>1</td>\n",
              "      <td>1</td>\n",
              "      <td>2</td>\n",
              "      <td>1</td>\n",
              "      <td>0</td>\n",
              "      <td>3</td>\n",
              "      <td>1</td>\n",
              "      <td>3</td>\n",
              "      <td>1</td>\n",
              "      <td>1</td>\n",
              "      <td>0</td>\n",
              "      <td>0</td>\n",
              "      <td>0</td>\n",
              "      <td>1</td>\n",
              "      <td>0</td>\n",
              "    </tr>\n",
              "    <tr>\n",
              "      <th>3</th>\n",
              "      <td>3/4/2021 2:53:20</td>\n",
              "      <td>23.0</td>\n",
              "      <td>পুরুষ</td>\n",
              "      <td>ইসলাম</td>\n",
              "      <td>3</td>\n",
              "      <td>বিশ্ববিদ্যালয়</td>\n",
              "      <td>না</td>\n",
              "      <td>বিয়ে</td>\n",
              "      <td>বাপের হোটেল</td>\n",
              "      <td>কোন আয়ের উৎস নেই</td>\n",
              "      <td>মধ্যবিত্ত</td>\n",
              "      <td>না</td>\n",
              "      <td>6</td>\n",
              "      <td>বাবা নেই</td>\n",
              "      <td>3</td>\n",
              "      <td>1</td>\n",
              "      <td>1</td>\n",
              "      <td>20%</td>\n",
              "      <td>হ্যাঁ</td>\n",
              "      <td>বিধবা / বিপত্নীক</td>\n",
              "      <td>৩ বছর এর মধ্যে</td>\n",
              "      <td>না</td>\n",
              "      <td>না</td>\n",
              "      <td>কোন রিলেশন নেই, এরেঞ্জ ম্যারেজ করার ইচ্ছা</td>\n",
              "      <td>1.0</td>\n",
              "      <td>লাভ ❤</td>\n",
              "      <td>0</td>\n",
              "      <td>2</td>\n",
              "      <td>0</td>\n",
              "      <td>1</td>\n",
              "      <td>2</td>\n",
              "      <td>0</td>\n",
              "      <td>1</td>\n",
              "      <td>0</td>\n",
              "      <td>0</td>\n",
              "      <td>1</td>\n",
              "      <td>0</td>\n",
              "      <td>1</td>\n",
              "      <td>1</td>\n",
              "      <td>2</td>\n",
              "      <td>1</td>\n",
              "      <td>1</td>\n",
              "      <td>1</td>\n",
              "      <td>5</td>\n",
              "      <td>0</td>\n",
              "      <td>0</td>\n",
              "      <td>1</td>\n",
              "      <td>1</td>\n",
              "    </tr>\n",
              "    <tr>\n",
              "      <th>4</th>\n",
              "      <td>3/17/2021 17:57:37</td>\n",
              "      <td>23.0</td>\n",
              "      <td>পুরুষ</td>\n",
              "      <td>ইসলাম</td>\n",
              "      <td>3</td>\n",
              "      <td>অনার্স</td>\n",
              "      <td>না</td>\n",
              "      <td>বিয়ে</td>\n",
              "      <td>বাপের হোটেল</td>\n",
              "      <td>কোন আয়ের উৎস নেই</td>\n",
              "      <td>মধ্যবিত্ত</td>\n",
              "      <td>না</td>\n",
              "      <td>4</td>\n",
              "      <td>মা নেই</td>\n",
              "      <td>2</td>\n",
              "      <td>2</td>\n",
              "      <td>1</td>\n",
              "      <td>50%</td>\n",
              "      <td>হ্যাঁ</td>\n",
              "      <td>অবিবাহিত</td>\n",
              "      <td>এই পর্যায়েই</td>\n",
              "      <td>হ্যাঁ</td>\n",
              "      <td>হ্যাঁ</td>\n",
              "      <td>কোনভাবেই রাজি হবে না</td>\n",
              "      <td>0.0</td>\n",
              "      <td>0</td>\n",
              "      <td>0</td>\n",
              "      <td>2</td>\n",
              "      <td>0</td>\n",
              "      <td>1</td>\n",
              "      <td>2</td>\n",
              "      <td>0</td>\n",
              "      <td>1</td>\n",
              "      <td>0</td>\n",
              "      <td>0</td>\n",
              "      <td>1</td>\n",
              "      <td>0</td>\n",
              "      <td>0</td>\n",
              "      <td>2</td>\n",
              "      <td>1</td>\n",
              "      <td>1</td>\n",
              "      <td>1</td>\n",
              "      <td>0</td>\n",
              "      <td>0</td>\n",
              "      <td>1</td>\n",
              "      <td>1</td>\n",
              "      <td>0</td>\n",
              "      <td>1</td>\n",
              "    </tr>\n",
              "    <tr>\n",
              "      <th>...</th>\n",
              "      <td>...</td>\n",
              "      <td>...</td>\n",
              "      <td>...</td>\n",
              "      <td>...</td>\n",
              "      <td>...</td>\n",
              "      <td>...</td>\n",
              "      <td>...</td>\n",
              "      <td>...</td>\n",
              "      <td>...</td>\n",
              "      <td>...</td>\n",
              "      <td>...</td>\n",
              "      <td>...</td>\n",
              "      <td>...</td>\n",
              "      <td>...</td>\n",
              "      <td>...</td>\n",
              "      <td>...</td>\n",
              "      <td>...</td>\n",
              "      <td>...</td>\n",
              "      <td>...</td>\n",
              "      <td>...</td>\n",
              "      <td>...</td>\n",
              "      <td>...</td>\n",
              "      <td>...</td>\n",
              "      <td>...</td>\n",
              "      <td>...</td>\n",
              "      <td>...</td>\n",
              "      <td>...</td>\n",
              "      <td>...</td>\n",
              "      <td>...</td>\n",
              "      <td>...</td>\n",
              "      <td>...</td>\n",
              "      <td>...</td>\n",
              "      <td>...</td>\n",
              "      <td>...</td>\n",
              "      <td>...</td>\n",
              "      <td>...</td>\n",
              "      <td>...</td>\n",
              "      <td>...</td>\n",
              "      <td>...</td>\n",
              "      <td>...</td>\n",
              "      <td>...</td>\n",
              "      <td>...</td>\n",
              "      <td>...</td>\n",
              "      <td>...</td>\n",
              "      <td>...</td>\n",
              "      <td>...</td>\n",
              "      <td>...</td>\n",
              "      <td>...</td>\n",
              "    </tr>\n",
              "    <tr>\n",
              "      <th>283</th>\n",
              "      <td>4/15/2021 3:50:20</td>\n",
              "      <td>27.0</td>\n",
              "      <td>মহিলা</td>\n",
              "      <td>ইসলাম</td>\n",
              "      <td>2</td>\n",
              "      <td>পড়াশুনা শেষ</td>\n",
              "      <td>না</td>\n",
              "      <td>ক্যারিয়ার</td>\n",
              "      <td>চাকরি</td>\n",
              "      <td>বেসরকারি চাকরি</td>\n",
              "      <td>উচ্চ মধ্যবিত্ত</td>\n",
              "      <td>না</td>\n",
              "      <td>5</td>\n",
              "      <td>হ্যাঁ, আছেন</td>\n",
              "      <td>3</td>\n",
              "      <td>2</td>\n",
              "      <td>2</td>\n",
              "      <td>90%</td>\n",
              "      <td>হ্যাঁ</td>\n",
              "      <td>বিবাহিত</td>\n",
              "      <td>0</td>\n",
              "      <td>0</td>\n",
              "      <td>0</td>\n",
              "      <td>0</td>\n",
              "      <td>4.0</td>\n",
              "      <td>লাভ ❤</td>\n",
              "      <td>ছিল, পরিবার কে না জানিয়ে করেছি</td>\n",
              "      <td>3</td>\n",
              "      <td>1</td>\n",
              "      <td>1</td>\n",
              "      <td>5</td>\n",
              "      <td>0</td>\n",
              "      <td>0</td>\n",
              "      <td>1</td>\n",
              "      <td>1</td>\n",
              "      <td>2</td>\n",
              "      <td>0</td>\n",
              "      <td>1</td>\n",
              "      <td>3</td>\n",
              "      <td>2</td>\n",
              "      <td>2</td>\n",
              "      <td>1</td>\n",
              "      <td>1</td>\n",
              "      <td>0</td>\n",
              "      <td>0</td>\n",
              "      <td>0</td>\n",
              "      <td>1</td>\n",
              "      <td>1</td>\n",
              "    </tr>\n",
              "    <tr>\n",
              "      <th>284</th>\n",
              "      <td>4/15/2021 3:51:49</td>\n",
              "      <td>24.0</td>\n",
              "      <td>মহিলা</td>\n",
              "      <td>হিন্দু</td>\n",
              "      <td>0</td>\n",
              "      <td>মাস্টার্স</td>\n",
              "      <td>না</td>\n",
              "      <td>ক্যারিয়ার</td>\n",
              "      <td>পার্ট টাইম জব</td>\n",
              "      <td>ব্যবসা</td>\n",
              "      <td>মধ্যবিত্ত</td>\n",
              "      <td>না</td>\n",
              "      <td>6</td>\n",
              "      <td>হ্যাঁ, আছেন</td>\n",
              "      <td>4</td>\n",
              "      <td>1</td>\n",
              "      <td>2</td>\n",
              "      <td>60%</td>\n",
              "      <td>হ্যাঁ</td>\n",
              "      <td>বিবাহিত</td>\n",
              "      <td>0</td>\n",
              "      <td>0</td>\n",
              "      <td>0</td>\n",
              "      <td>0</td>\n",
              "      <td>2.0</td>\n",
              "      <td>লাভ ❤</td>\n",
              "      <td>ছিল, মানিয়ে নিয়েছি 😁</td>\n",
              "      <td>2</td>\n",
              "      <td>1</td>\n",
              "      <td>2</td>\n",
              "      <td>3</td>\n",
              "      <td>0</td>\n",
              "      <td>0</td>\n",
              "      <td>1</td>\n",
              "      <td>2</td>\n",
              "      <td>1</td>\n",
              "      <td>0</td>\n",
              "      <td>1</td>\n",
              "      <td>3</td>\n",
              "      <td>2</td>\n",
              "      <td>2</td>\n",
              "      <td>1</td>\n",
              "      <td>1</td>\n",
              "      <td>0</td>\n",
              "      <td>0</td>\n",
              "      <td>0</td>\n",
              "      <td>1</td>\n",
              "      <td>0</td>\n",
              "    </tr>\n",
              "    <tr>\n",
              "      <th>285</th>\n",
              "      <td>4/15/2021 3:56:01</td>\n",
              "      <td>27.0</td>\n",
              "      <td>মহিলা</td>\n",
              "      <td>বৌদ্ধ</td>\n",
              "      <td>0</td>\n",
              "      <td>পড়াশুনা শেষ</td>\n",
              "      <td>না</td>\n",
              "      <td>ক্যারিয়ার</td>\n",
              "      <td>চাকরি</td>\n",
              "      <td>সরকারি চাকরি</td>\n",
              "      <td>উচ্চ মধ্যবিত্ত</td>\n",
              "      <td>না</td>\n",
              "      <td>4</td>\n",
              "      <td>বাবা নেই</td>\n",
              "      <td>4</td>\n",
              "      <td>3</td>\n",
              "      <td>4</td>\n",
              "      <td>90%</td>\n",
              "      <td>হ্যাঁ</td>\n",
              "      <td>বিবাহিত</td>\n",
              "      <td>0</td>\n",
              "      <td>0</td>\n",
              "      <td>0</td>\n",
              "      <td>0</td>\n",
              "      <td>5.0</td>\n",
              "      <td>লাভ ❤</td>\n",
              "      <td>ছিল, মানিয়ে নিয়েছি 😁</td>\n",
              "      <td>3</td>\n",
              "      <td>1</td>\n",
              "      <td>3</td>\n",
              "      <td>5</td>\n",
              "      <td>0</td>\n",
              "      <td>0</td>\n",
              "      <td>1</td>\n",
              "      <td>1</td>\n",
              "      <td>2</td>\n",
              "      <td>0</td>\n",
              "      <td>0</td>\n",
              "      <td>1</td>\n",
              "      <td>2</td>\n",
              "      <td>4</td>\n",
              "      <td>1</td>\n",
              "      <td>1</td>\n",
              "      <td>0</td>\n",
              "      <td>0</td>\n",
              "      <td>0</td>\n",
              "      <td>1</td>\n",
              "      <td>0</td>\n",
              "    </tr>\n",
              "    <tr>\n",
              "      <th>286</th>\n",
              "      <td>4/15/2021 3:57:27</td>\n",
              "      <td>17.0</td>\n",
              "      <td>মহিলা</td>\n",
              "      <td>ইসলাম</td>\n",
              "      <td>3</td>\n",
              "      <td>কলেজ</td>\n",
              "      <td>হ্যাঁ</td>\n",
              "      <td>বিয়ে</td>\n",
              "      <td>বাপের হোটেল</td>\n",
              "      <td>অন্যান্য</td>\n",
              "      <td>মধ্যবিত্ত</td>\n",
              "      <td>না</td>\n",
              "      <td>6</td>\n",
              "      <td>হ্যাঁ, আছেন</td>\n",
              "      <td>3</td>\n",
              "      <td>3</td>\n",
              "      <td>2</td>\n",
              "      <td>20%</td>\n",
              "      <td>না</td>\n",
              "      <td>বিবাহিত</td>\n",
              "      <td>0</td>\n",
              "      <td>0</td>\n",
              "      <td>0</td>\n",
              "      <td>0</td>\n",
              "      <td>1.0</td>\n",
              "      <td>এরেঞ্জ</td>\n",
              "      <td>0</td>\n",
              "      <td>0</td>\n",
              "      <td>1</td>\n",
              "      <td>1</td>\n",
              "      <td>1</td>\n",
              "      <td>1</td>\n",
              "      <td>1</td>\n",
              "      <td>0</td>\n",
              "      <td>3</td>\n",
              "      <td>1</td>\n",
              "      <td>0</td>\n",
              "      <td>1</td>\n",
              "      <td>3</td>\n",
              "      <td>2</td>\n",
              "      <td>2</td>\n",
              "      <td>0</td>\n",
              "      <td>1</td>\n",
              "      <td>0</td>\n",
              "      <td>0</td>\n",
              "      <td>0</td>\n",
              "      <td>2</td>\n",
              "      <td>1</td>\n",
              "    </tr>\n",
              "    <tr>\n",
              "      <th>287</th>\n",
              "      <td>4/15/2021 3:58:58</td>\n",
              "      <td>19.0</td>\n",
              "      <td>মহিলা</td>\n",
              "      <td>হিন্দু</td>\n",
              "      <td>0</td>\n",
              "      <td>ডিপ্লোমা</td>\n",
              "      <td>না</td>\n",
              "      <td>ক্যারিয়ার</td>\n",
              "      <td>ফ্রিল্যান্সিং</td>\n",
              "      <td>বেসরকারি চাকরি</td>\n",
              "      <td>নিম্ন মধ্যবিত্ত</td>\n",
              "      <td>না</td>\n",
              "      <td>7</td>\n",
              "      <td>হ্যাঁ, আছেন</td>\n",
              "      <td>3</td>\n",
              "      <td>1</td>\n",
              "      <td>1</td>\n",
              "      <td>20%</td>\n",
              "      <td>হ্যাঁ</td>\n",
              "      <td>বিবাহিত</td>\n",
              "      <td>0</td>\n",
              "      <td>0</td>\n",
              "      <td>0</td>\n",
              "      <td>0</td>\n",
              "      <td>2.0</td>\n",
              "      <td>লাভ ❤</td>\n",
              "      <td>ছিল, মানিয়ে নিয়েছি 😁</td>\n",
              "      <td>1</td>\n",
              "      <td>1</td>\n",
              "      <td>2</td>\n",
              "      <td>1</td>\n",
              "      <td>0</td>\n",
              "      <td>0</td>\n",
              "      <td>2</td>\n",
              "      <td>1</td>\n",
              "      <td>0</td>\n",
              "      <td>0</td>\n",
              "      <td>1</td>\n",
              "      <td>3</td>\n",
              "      <td>2</td>\n",
              "      <td>1</td>\n",
              "      <td>1</td>\n",
              "      <td>1</td>\n",
              "      <td>0</td>\n",
              "      <td>0</td>\n",
              "      <td>0</td>\n",
              "      <td>1</td>\n",
              "      <td>0</td>\n",
              "    </tr>\n",
              "  </tbody>\n",
              "</table>\n",
              "<p>288 rows × 48 columns</p>\n",
              "</div>"
            ],
            "text/plain": [
              "              Timestamp  ...  Difficulty in love marriage\n",
              "0      3/4/2021 1:43:42  ...                            1\n",
              "1      3/4/2021 1:45:25  ...                            1\n",
              "2      3/4/2021 2:04:13  ...                            0\n",
              "3      3/4/2021 2:53:20  ...                            1\n",
              "4    3/17/2021 17:57:37  ...                            1\n",
              "..                  ...  ...                          ...\n",
              "283   4/15/2021 3:50:20  ...                            1\n",
              "284   4/15/2021 3:51:49  ...                            0\n",
              "285   4/15/2021 3:56:01  ...                            0\n",
              "286   4/15/2021 3:57:27  ...                            1\n",
              "287   4/15/2021 3:58:58  ...                            0\n",
              "\n",
              "[288 rows x 48 columns]"
            ]
          },
          "metadata": {
            "tags": []
          },
          "execution_count": 68
        }
      ]
    },
    {
      "cell_type": "code",
      "metadata": {
        "colab": {
          "base_uri": "https://localhost:8080/"
        },
        "id": "drHFPQdRIwCd",
        "outputId": "bb3a7b83-815c-4823-e875-4636477e7eee"
      },
      "source": [
        "new_train.info()"
      ],
      "execution_count": 69,
      "outputs": [
        {
          "output_type": "stream",
          "text": [
            "<class 'pandas.core.frame.DataFrame'>\n",
            "RangeIndex: 288 entries, 0 to 287\n",
            "Data columns (total 48 columns):\n",
            " #   Column                                                                Non-Null Count  Dtype  \n",
            "---  ------                                                                --------------  -----  \n",
            " 0   Timestamp                                                             288 non-null    object \n",
            " 1   বয়স :                                                                 288 non-null    float64\n",
            " 2   লিঙ্গ :                                                               288 non-null    object \n",
            " 3   ধর্ম :                                                                288 non-null    object \n",
            " 4   Priority of marraige in Islam                                         288 non-null    int64  \n",
            " 5   আপনি পড়াশুনার কোন পর্যায়ে আছেন?                                       288 non-null    object \n",
            " 6   আপনি কি মাদ্রাসায় পড়াশুনা করেছেন?                                     288 non-null    object \n",
            " 7   আপনার মতে কোনটা আগে?                                                  288 non-null    object \n",
            " 8   আপনার বর্তমান আয়ের উৎস কি?                                            288 non-null    object \n",
            " 9   আপনার পরিবারের আয়ের উৎস কি?                                           288 non-null    object \n",
            " 10  আপনার পারিবারিক অবস্থা কি?                                            288 non-null    object \n",
            " 11  আপনি কি যৌথ পরিবারের সদস্য?                                           288 non-null    object \n",
            " 12  আপনার পরিবারের সদস্য সংখ্যা কত?                                       288 non-null    int64  \n",
            " 13  আপনার বাবা-মা উভয়ই আছেন?                                              288 non-null    object \n",
            " 14  আপনার ভাই-বোন কয় জন?                                                  288 non-null    int64  \n",
            " 15  আপনার ভাই-বোন দের মধ্যে আপনি কত তম ?                                  288 non-null    int64  \n",
            " 16  আপনার ভাই-বোন এর মধ্যে কয়জন এর বিয়ে হয়েছে?                            288 non-null    int64  \n",
            " 17  আপনার বন্ধু-বান্ধবদের মধ্যে কত শতাংশের বিয়ে হয়েছে?                    288 non-null    object \n",
            " 18  পূর্বে কারো সাথে রিলেশন এ ছিলেন কি?                                   288 non-null    object \n",
            " 19  আপনার বৈবাহিক অবস্থা কি?                                              288 non-null    object \n",
            " 20  আপনি কখন বিয়ে করতে ইচ্ছুক                                             288 non-null    object \n",
            " 21  পরিবার থেকে আপনাকে এই পর্যায়ে বিয়ে দিতে ইচ্ছুক কি না?                 288 non-null    object \n",
            " 22  আপনি কি রিলেশনশিপ এ আছেন?                                             288 non-null    object \n",
            " 23  যদি রিলেশনশিপ এ থাকেন, পরিবারে তার কথা জানালে বিয়েতে রাজি হবে কি না?  288 non-null    object \n",
            " 24  আপনি কত বছর আগে বিয়ে করেছেন?                                          288 non-null    float64\n",
            " 25  এরেঞ্জ ম্যারেজ নাকি লাভ ম্যারেজ?                                      288 non-null    object \n",
            " 26  লাভ ম্যারেজ হলে পরিবার থেকে কোন প্রতিবন্ধিকতা ছিল কি না?              288 non-null    object \n",
            " 27  Age                                                                   288 non-null    int64  \n",
            " 28  Sex                                                                   288 non-null    int64  \n",
            " 29  Religion                                                              288 non-null    int64  \n",
            " 30  Study Stage                                                           288 non-null    int64  \n",
            " 31  Madrasa student                                                       288 non-null    int64  \n",
            " 32  Career/Marriage                                                       288 non-null    int64  \n",
            " 33  Personal Income                                                       288 non-null    int64  \n",
            " 34  Family Income                                                         288 non-null    int64  \n",
            " 35  Family Status                                                         288 non-null    int64  \n",
            " 36  Joint Family                                                          288 non-null    int64  \n",
            " 37  Family Members                                                        288 non-null    int64  \n",
            " 38  Parents alive                                                         288 non-null    int64  \n",
            " 39  Siblings                                                              288 non-null    int64  \n",
            " 40  Married Siblings                                                      288 non-null    int64  \n",
            " 41  Previous relationship                                                 288 non-null    int64  \n",
            " 42  Married status                                                        288 non-null    int64  \n",
            " 43  Target getting married                                                288 non-null    int64  \n",
            " 44  Current Relationship                                                  288 non-null    int64  \n",
            " 45  Family agree on relationship                                          288 non-null    int64  \n",
            " 46  Arrange/love marriage                                                 288 non-null    int64  \n",
            " 47  Difficulty in love marriage                                           288 non-null    int64  \n",
            "dtypes: float64(2), int64(26), object(20)\n",
            "memory usage: 108.1+ KB\n"
          ],
          "name": "stdout"
        }
      ]
    },
    {
      "cell_type": "markdown",
      "metadata": {
        "id": "iCkp-4rMom-b"
      },
      "source": [
        "##**Droping all Bangla Columns**"
      ]
    },
    {
      "cell_type": "code",
      "metadata": {
        "id": "1IBC9LcEormO"
      },
      "source": [
        "new_train2 = new_train.drop(['Timestamp','বয়স :','লিঙ্গ :','ধর্ম :','আপনি কি মাদ্রাসায় পড়াশুনা করেছেন?','আপনি পড়াশুনার কোন পর্যায়ে আছেন?','আপনার মতে কোনটা আগে?','আপনার বর্তমান আয়ের উৎস কি?','আপনার পরিবারের আয়ের উৎস কি?','আপনার পারিবারিক অবস্থা কি?','আপনি কি যৌথ পরিবারের সদস্য?','আপনার পরিবারের সদস্য সংখ্যা কত?','আপনার বাবা-মা উভয়ই আছেন?','আপনার ভাই-বোন কয় জন?','আপনার ভাই-বোন দের মধ্যে আপনি কত তম ?','আপনার ভাই-বোন এর মধ্যে কয়জন এর বিয়ে হয়েছে?','আপনার বন্ধু-বান্ধবদের মধ্যে কত শতাংশের বিয়ে হয়েছে?','পূর্বে কারো সাথে রিলেশন এ ছিলেন কি?','আপনার বৈবাহিক অবস্থা কি?','আপনি কখন বিয়ে করতে ইচ্ছুক','পরিবার থেকে আপনাকে এই পর্যায়ে বিয়ে দিতে ইচ্ছুক কি না?','আপনি কি রিলেশনশিপ এ আছেন?','যদি রিলেশনশিপ এ থাকেন, পরিবারে তার কথা জানালে বিয়েতে রাজি হবে কি না?','আপনি কত বছর আগে বিয়ে করেছেন?','এরেঞ্জ ম্যারেজ নাকি লাভ ম্যারেজ?','লাভ ম্যারেজ হলে পরিবার থেকে কোন প্রতিবন্ধিকতা ছিল কি না?'], axis = 1)"
      ],
      "execution_count": 70,
      "outputs": []
    },
    {
      "cell_type": "markdown",
      "metadata": {
        "id": "ulrxaYMcucte"
      },
      "source": [
        "**All columns information after converting to english**"
      ]
    },
    {
      "cell_type": "code",
      "metadata": {
        "id": "QhBE53KhLiw6"
      },
      "source": [
        "new_train2.info()"
      ],
      "execution_count": null,
      "outputs": []
    },
    {
      "cell_type": "code",
      "metadata": {
        "id": "gzxLHyORtOsP"
      },
      "source": [
        "new_train2.dtypes"
      ],
      "execution_count": null,
      "outputs": []
    },
    {
      "cell_type": "markdown",
      "metadata": {
        "id": "TX_ndsS1yJ6M"
      },
      "source": [
        "#**Data Visualization**"
      ]
    },
    {
      "cell_type": "code",
      "metadata": {
        "id": "7EfSxWlZyNT3"
      },
      "source": [
        "import matplotlib.pyplot as plt\n",
        "%matplotlib inline\n",
        "import seaborn as sns\n",
        "sns.set()"
      ],
      "execution_count": 73,
      "outputs": []
    },
    {
      "cell_type": "markdown",
      "metadata": {
        "id": "Av0-7QYZxIQP"
      },
      "source": [
        "**Bar Chart using different attributes**"
      ]
    },
    {
      "cell_type": "code",
      "metadata": {
        "id": "vJhaKYDjxODn"
      },
      "source": [
        "\n",
        "def bar_chart(feature):\n",
        "    married = new_train2[new_train2['Married status']==1][feature].value_counts()\n",
        "    unmarried = new_train2[new_train2['Married status']==0][feature].value_counts()\n",
        "    df = pd.DataFrame([married,unmarried])\n",
        "    df.index = ['Married','Unmarried']\n",
        "    df.plot(kind='bar',stacked=True, figsize=(10,10))"
      ],
      "execution_count": 74,
      "outputs": []
    },
    {
      "cell_type": "markdown",
      "metadata": {
        "id": "GKqoPmLyy49X"
      },
      "source": [
        "**Here, 0 = Male and 1 = Female**"
      ]
    },
    {
      "cell_type": "code",
      "metadata": {
        "id": "8TqMxMpGyC-n"
      },
      "source": [
        "bar_chart('Age')"
      ],
      "execution_count": null,
      "outputs": []
    },
    {
      "cell_type": "markdown",
      "metadata": {
        "id": "sVtZSaLFzgQf"
      },
      "source": [
        "**Here,\n",
        "1 = College, 2 = Honours, 3 = Masters, 4 = Medical, 5 = Completed,\n",
        "6 = Incomplete.**"
      ]
    },
    {
      "cell_type": "code",
      "metadata": {
        "id": "__mjtAVhzE6X"
      },
      "source": [
        "bar_chart('Sex')"
      ],
      "execution_count": null,
      "outputs": []
    },
    {
      "cell_type": "code",
      "metadata": {
        "id": "4ZwsVge4al0q"
      },
      "source": [
        "bar_chart('Religion')"
      ],
      "execution_count": null,
      "outputs": []
    },
    {
      "cell_type": "code",
      "metadata": {
        "id": "hDGahirTa3rI"
      },
      "source": [
        "bar_chart('Study Stage')"
      ],
      "execution_count": null,
      "outputs": []
    },
    {
      "cell_type": "code",
      "metadata": {
        "id": "4znU33vMbMA0"
      },
      "source": [
        "bar_chart('Personal Income')"
      ],
      "execution_count": null,
      "outputs": []
    },
    {
      "cell_type": "code",
      "metadata": {
        "id": "qRV-uJhSbncC"
      },
      "source": [
        "bar_chart('Family Income')"
      ],
      "execution_count": null,
      "outputs": []
    },
    {
      "cell_type": "code",
      "metadata": {
        "id": "r5g72SnLeTDU"
      },
      "source": [
        "bar_chart('Family Status')"
      ],
      "execution_count": null,
      "outputs": []
    },
    {
      "cell_type": "code",
      "metadata": {
        "id": "9Ov5wGUwg3yk"
      },
      "source": [
        "bar_chart('Joint Family')"
      ],
      "execution_count": null,
      "outputs": []
    },
    {
      "cell_type": "code",
      "metadata": {
        "id": "yVhUVmo6iISy"
      },
      "source": [
        "bar_chart('Family Members')"
      ],
      "execution_count": null,
      "outputs": []
    },
    {
      "cell_type": "code",
      "metadata": {
        "id": "pngAMvAGhHJ-"
      },
      "source": [
        "bar_chart('Parents alive')"
      ],
      "execution_count": null,
      "outputs": []
    },
    {
      "cell_type": "code",
      "metadata": {
        "id": "6CFJeRJsiMPE"
      },
      "source": [
        "bar_chart('Siblings')"
      ],
      "execution_count": null,
      "outputs": []
    },
    {
      "cell_type": "code",
      "metadata": {
        "id": "2onmzXzZiNIp"
      },
      "source": [
        "bar_chart('Married Siblings')"
      ],
      "execution_count": null,
      "outputs": []
    },
    {
      "cell_type": "code",
      "metadata": {
        "id": "oZoCGQuMiONm"
      },
      "source": [
        "bar_chart('Previous relationship')"
      ],
      "execution_count": null,
      "outputs": []
    },
    {
      "cell_type": "markdown",
      "metadata": {
        "id": "YpfVOvRqQVTh"
      },
      "source": [
        "#**Preparing for algorithms** - Split train data"
      ]
    },
    {
      "cell_type": "markdown",
      "metadata": {
        "id": "gYK94lryChzD"
      },
      "source": [
        "**Import train test split library**"
      ]
    },
    {
      "cell_type": "code",
      "metadata": {
        "id": "EB4of73fCYfz"
      },
      "source": [
        "from sklearn.model_selection import train_test_split"
      ],
      "execution_count": 88,
      "outputs": []
    },
    {
      "cell_type": "markdown",
      "metadata": {
        "id": "jXAZv759qA6z"
      },
      "source": [
        "**Target attribute**"
      ]
    },
    {
      "cell_type": "code",
      "metadata": {
        "id": "hXoFc1CUjAAW"
      },
      "source": [
        "target = new_train2['Married status']"
      ],
      "execution_count": 89,
      "outputs": []
    },
    {
      "cell_type": "markdown",
      "metadata": {
        "id": "frm7PCAzqZCZ"
      },
      "source": [
        "##Train Data 1 (21 columns)"
      ]
    },
    {
      "cell_type": "code",
      "metadata": {
        "id": "jB2uX_UIqdjY"
      },
      "source": [
        "train_data_1 = new_train2.drop(['Married status'], axis = 1)"
      ],
      "execution_count": 90,
      "outputs": []
    },
    {
      "cell_type": "code",
      "metadata": {
        "id": "JlHPxIoCL70o"
      },
      "source": [
        "train_data_1.info()"
      ],
      "execution_count": null,
      "outputs": []
    },
    {
      "cell_type": "code",
      "metadata": {
        "id": "ZZFOxN0eEJD-"
      },
      "source": [
        "X1_train, X1_test, y1_train, y1_test = train_test_split(train_data_1, target, test_size=.30, random_state=42)\n",
        "print(\"X1_train: \", X1_train.shape)\n",
        "print(\"X1_test: \", X1_test.shape)\n",
        "print(\"y1_train: \", y1_train.shape)\n",
        "print(\"y1_test: \", y1_test.shape)"
      ],
      "execution_count": null,
      "outputs": []
    },
    {
      "cell_type": "markdown",
      "metadata": {
        "id": "zqliR8gmqeNI"
      },
      "source": [
        "##Train Data 2 (13 columns)"
      ]
    },
    {
      "cell_type": "code",
      "metadata": {
        "id": "ScRQTZfFqkWV"
      },
      "source": [
        "train_data_2 = new_train2.drop(['Married status','Difficulty in love marriage','Arrange/love marriage','Family agree on relationship','Current Relationship','Target getting married','Career/Marriage','Priority of marraige in Islam','Madrasa student'], axis = 1)"
      ],
      "execution_count": 97,
      "outputs": []
    },
    {
      "cell_type": "code",
      "metadata": {
        "id": "XZFlw6iBMDgO"
      },
      "source": [
        "train_data_2.info()"
      ],
      "execution_count": null,
      "outputs": []
    },
    {
      "cell_type": "code",
      "metadata": {
        "id": "8uKifZ19E9c7"
      },
      "source": [
        "X2_train, X2_test, y2_train, y2_test = train_test_split(train_data_2, target, test_size=.30, random_state=42)\n",
        "print(\"X2_train: \", X2_train.shape)\n",
        "print(\"X2_test: \", X2_test.shape)\n",
        "print(\"y2_train: \", y2_train.shape)\n",
        "print(\"y2_test: \", y2_test.shape)"
      ],
      "execution_count": null,
      "outputs": []
    },
    {
      "cell_type": "markdown",
      "metadata": {
        "id": "3BVIt77JHC-R"
      },
      "source": [
        "# **Applying Machine Learning Algorithms**"
      ]
    },
    {
      "cell_type": "code",
      "metadata": {
        "id": "rLTJM2dEKkRJ"
      },
      "source": [
        "from sklearn.metrics import confusion_matrix,classification_report"
      ],
      "execution_count": 100,
      "outputs": []
    },
    {
      "cell_type": "code",
      "metadata": {
        "id": "Z0aBCAd7K5ue"
      },
      "source": [
        "from sklearn.metrics import accuracy_score"
      ],
      "execution_count": 101,
      "outputs": []
    },
    {
      "cell_type": "markdown",
      "metadata": {
        "id": "pTa9eF5yIZcs"
      },
      "source": [
        "##Decision Tree Classifier algorithm"
      ]
    },
    {
      "cell_type": "code",
      "metadata": {
        "id": "xxASmIyVJq3H"
      },
      "source": [
        "from sklearn.tree import DecisionTreeClassifier"
      ],
      "execution_count": 102,
      "outputs": []
    },
    {
      "cell_type": "markdown",
      "metadata": {
        "id": "RFN2RzZdJSL-"
      },
      "source": [
        "### For Test Data 1"
      ]
    },
    {
      "cell_type": "code",
      "metadata": {
        "id": "7oSM0fJ1I3op"
      },
      "source": [
        "dt = DecisionTreeClassifier()\n",
        "dt.fit(X1_train, y1_train)\n",
        "y1_pred1 = dt.predict(X1_test)"
      ],
      "execution_count": 103,
      "outputs": []
    },
    {
      "cell_type": "markdown",
      "metadata": {
        "id": "sO0BgnnRKTAx"
      },
      "source": [
        "Performance evaluation"
      ]
    },
    {
      "cell_type": "code",
      "metadata": {
        "id": "qjnoqnB5KaJC",
        "colab": {
          "base_uri": "https://localhost:8080/"
        },
        "outputId": "efddafb1-cdff-4eb5-990d-44981df61648"
      },
      "source": [
        "print(confusion_matrix(y1_test, y1_pred1))\n",
        "print(classification_report(y1_test, y1_pred1))\n",
        "print(accuracy_score(y1_test, y1_pred1))"
      ],
      "execution_count": 104,
      "outputs": [
        {
          "output_type": "stream",
          "text": [
            "[[72  0]\n",
            " [ 0 15]]\n",
            "              precision    recall  f1-score   support\n",
            "\n",
            "           0       1.00      1.00      1.00        72\n",
            "           1       1.00      1.00      1.00        15\n",
            "\n",
            "    accuracy                           1.00        87\n",
            "   macro avg       1.00      1.00      1.00        87\n",
            "weighted avg       1.00      1.00      1.00        87\n",
            "\n",
            "1.0\n"
          ],
          "name": "stdout"
        }
      ]
    },
    {
      "cell_type": "markdown",
      "metadata": {
        "id": "prF6yeKdIkUS"
      },
      "source": [
        "### For Test Data 2"
      ]
    },
    {
      "cell_type": "code",
      "metadata": {
        "id": "aKAaM-uVLwYT"
      },
      "source": [
        "dt = DecisionTreeClassifier()\n",
        "dt.fit(X2_train, y2_train)\n",
        "y2_pred1 = dt.predict(X2_test)"
      ],
      "execution_count": 105,
      "outputs": []
    },
    {
      "cell_type": "markdown",
      "metadata": {
        "id": "smxW6k_gMN1B"
      },
      "source": [
        "Performance evaluation"
      ]
    },
    {
      "cell_type": "code",
      "metadata": {
        "id": "-TxWg8msI4sB",
        "colab": {
          "base_uri": "https://localhost:8080/"
        },
        "outputId": "f077437b-7239-44bb-8707-2ad61b423336"
      },
      "source": [
        "print(confusion_matrix(y2_test, y2_pred1))\n",
        "print(classification_report(y2_test, y2_pred1))\n",
        "print(accuracy_score(y2_test, y2_pred1))"
      ],
      "execution_count": 106,
      "outputs": [
        {
          "output_type": "stream",
          "text": [
            "[[63  9]\n",
            " [ 9  6]]\n",
            "              precision    recall  f1-score   support\n",
            "\n",
            "           0       0.88      0.88      0.88        72\n",
            "           1       0.40      0.40      0.40        15\n",
            "\n",
            "    accuracy                           0.79        87\n",
            "   macro avg       0.64      0.64      0.64        87\n",
            "weighted avg       0.79      0.79      0.79        87\n",
            "\n",
            "0.7931034482758621\n"
          ],
          "name": "stdout"
        }
      ]
    },
    {
      "cell_type": "markdown",
      "metadata": {
        "id": "qf5bAlLKT2nA"
      },
      "source": [
        "##Random Forest Classifier algorithm"
      ]
    },
    {
      "cell_type": "code",
      "metadata": {
        "id": "oEJaHXeJjQ-l"
      },
      "source": [
        "from sklearn.ensemble import RandomForestClassifier"
      ],
      "execution_count": 107,
      "outputs": []
    },
    {
      "cell_type": "code",
      "metadata": {
        "id": "2oXhgR17jTb-"
      },
      "source": [
        "rfc = RandomForestClassifier(n_estimators = 100)\n",
        "rfc.fit(X2_train, y2_train)\n",
        "y2_pred2 = rfc.predict(X2_test)"
      ],
      "execution_count": 108,
      "outputs": []
    },
    {
      "cell_type": "markdown",
      "metadata": {
        "id": "8YexZpDns-x4"
      },
      "source": [
        "Performance evaluation"
      ]
    },
    {
      "cell_type": "code",
      "metadata": {
        "id": "e89euUiNtE0s",
        "colab": {
          "base_uri": "https://localhost:8080/"
        },
        "outputId": "df31a5a4-9386-4b8d-ed9e-ddb4de80ff49"
      },
      "source": [
        "print(confusion_matrix(y2_test, y2_pred2))\n",
        "print(classification_report(y2_test, y2_pred2))\n",
        "print(accuracy_score(y2_test, y2_pred2))"
      ],
      "execution_count": 109,
      "outputs": [
        {
          "output_type": "stream",
          "text": [
            "[[71  1]\n",
            " [11  4]]\n",
            "              precision    recall  f1-score   support\n",
            "\n",
            "           0       0.87      0.99      0.92        72\n",
            "           1       0.80      0.27      0.40        15\n",
            "\n",
            "    accuracy                           0.86        87\n",
            "   macro avg       0.83      0.63      0.66        87\n",
            "weighted avg       0.85      0.86      0.83        87\n",
            "\n",
            "0.8620689655172413\n"
          ],
          "name": "stdout"
        }
      ]
    }
  ]
}